{
 "cells": [
  {
   "cell_type": "markdown",
   "metadata": {},
   "source": [
    "# SkillFactory\n",
    "## Введение в ML, введение в sklearn"
   ]
  },
  {
   "cell_type": "markdown",
   "metadata": {},
   "source": [
    "В этом задании мы с вами рассмотрим данные с конкурса [Задача предсказания отклика клиентов ОТП Банка](http://www.machinelearning.ru/wiki/index.php?title=%D0%97%D0%B0%D0%B4%D0%B0%D1%87%D0%B0_%D0%BF%D1%80%D0%B5%D0%B4%D1%81%D0%BA%D0%B0%D0%B7%D0%B0%D0%BD%D0%B8%D1%8F_%D0%BE%D1%82%D0%BA%D0%BB%D0%B8%D0%BA%D0%B0_%D0%BA%D0%BB%D0%B8%D0%B5%D0%BD%D1%82%D0%BE%D0%B2_%D0%9E%D0%A2%D0%9F_%D0%91%D0%B0%D0%BD%D0%BA%D0%B0_%28%D0%BA%D0%BE%D0%BD%D0%BA%D1%83%D1%80%D1%81%29)"
   ]
  },
  {
   "cell_type": "code",
   "execution_count": 1,
   "metadata": {
    "collapsed": true
   },
   "outputs": [],
   "source": [
    "import pandas as pd\n",
    "import numpy as np\n",
    "import matplotlib.pyplot as plt\n",
    "\n",
    "%matplotlib inline\n",
    "\n",
    "plt.style.use('ggplot')\n",
    "plt.rcParams['figure.figsize'] = (12,5)"
   ]
  },
  {
   "cell_type": "markdown",
   "metadata": {},
   "source": [
    "### Грузим данные"
   ]
  },
  {
   "cell_type": "markdown",
   "metadata": {},
   "source": [
    "Считаем описание данных"
   ]
  },
  {
   "cell_type": "code",
   "execution_count": 2,
   "metadata": {
    "collapsed": true
   },
   "outputs": [],
   "source": [
    "\n",
    "df_descr = pd.read_csv('data/otp_description.csv', sep='\\t', encoding='utf8')"
   ]
  },
  {
   "cell_type": "code",
   "execution_count": 3,
   "metadata": {
    "collapsed": true
   },
   "outputs": [
    {
     "data": {
      "text/html": [
       "<div>\n",
       "<style scoped>\n",
       "    .dataframe tbody tr th:only-of-type {\n",
       "        vertical-align: middle;\n",
       "    }\n",
       "\n",
       "    .dataframe tbody tr th {\n",
       "        vertical-align: top;\n",
       "    }\n",
       "\n",
       "    .dataframe thead th {\n",
       "        text-align: right;\n",
       "    }\n",
       "</style>\n",
       "<table border=\"1\" class=\"dataframe\">\n",
       "  <thead>\n",
       "    <tr style=\"text-align: right;\">\n",
       "      <th></th>\n",
       "      <th>ПОЛЕ</th>\n",
       "      <th>ОПИСАНИЕ</th>\n",
       "    </tr>\n",
       "  </thead>\n",
       "  <tbody>\n",
       "    <tr>\n",
       "      <th>0</th>\n",
       "      <td>AGREEMENT_RK</td>\n",
       "      <td>уникальный идентификатор объекта в выборке</td>\n",
       "    </tr>\n",
       "    <tr>\n",
       "      <th>1</th>\n",
       "      <td>AGE</td>\n",
       "      <td>возраст клиента</td>\n",
       "    </tr>\n",
       "    <tr>\n",
       "      <th>2</th>\n",
       "      <td>SOCSTATUS_WORK_FL</td>\n",
       "      <td>социальный статус клиента относительно работы ...</td>\n",
       "    </tr>\n",
       "    <tr>\n",
       "      <th>3</th>\n",
       "      <td>SOCSTATUS_PENS_FL</td>\n",
       "      <td>социальный статус клиента относительно пенсии ...</td>\n",
       "    </tr>\n",
       "    <tr>\n",
       "      <th>4</th>\n",
       "      <td>GENDER</td>\n",
       "      <td>пол клиента (1- женщины, 0-мужчины)</td>\n",
       "    </tr>\n",
       "    <tr>\n",
       "      <th>5</th>\n",
       "      <td>CHILD_TOTAL</td>\n",
       "      <td>количество детей клиента</td>\n",
       "    </tr>\n",
       "    <tr>\n",
       "      <th>6</th>\n",
       "      <td>DEPENDANTS</td>\n",
       "      <td>количество иждивенцев клиента</td>\n",
       "    </tr>\n",
       "    <tr>\n",
       "      <th>7</th>\n",
       "      <td>EDUCATION</td>\n",
       "      <td>образование</td>\n",
       "    </tr>\n",
       "    <tr>\n",
       "      <th>8</th>\n",
       "      <td>MARITAL_STATUS</td>\n",
       "      <td>семейное положение</td>\n",
       "    </tr>\n",
       "    <tr>\n",
       "      <th>9</th>\n",
       "      <td>GEN_INDUSTRY</td>\n",
       "      <td>отрасль работы клиента</td>\n",
       "    </tr>\n",
       "    <tr>\n",
       "      <th>10</th>\n",
       "      <td>GEN_TITLE</td>\n",
       "      <td>должность</td>\n",
       "    </tr>\n",
       "    <tr>\n",
       "      <th>11</th>\n",
       "      <td>ORG_TP_STATE</td>\n",
       "      <td>форма собственности компании</td>\n",
       "    </tr>\n",
       "    <tr>\n",
       "      <th>12</th>\n",
       "      <td>ORG_TP_FCAPITAL</td>\n",
       "      <td>отношение к иностранному капиталу</td>\n",
       "    </tr>\n",
       "    <tr>\n",
       "      <th>13</th>\n",
       "      <td>JOB_DIR</td>\n",
       "      <td>направление деятельности в нутри компании</td>\n",
       "    </tr>\n",
       "    <tr>\n",
       "      <th>14</th>\n",
       "      <td>FAMILY_INCOME</td>\n",
       "      <td>семейный доход (несколько категорий)</td>\n",
       "    </tr>\n",
       "    <tr>\n",
       "      <th>15</th>\n",
       "      <td>PERSONAL_INCOME</td>\n",
       "      <td>личный доход клиента (в рублях)</td>\n",
       "    </tr>\n",
       "    <tr>\n",
       "      <th>16</th>\n",
       "      <td>REG_ADDRESS_PROVINCE</td>\n",
       "      <td>область регистрации клиента</td>\n",
       "    </tr>\n",
       "    <tr>\n",
       "      <th>17</th>\n",
       "      <td>FACT_ADDRESS_PROVINCE</td>\n",
       "      <td>область фактического пребывания клиента</td>\n",
       "    </tr>\n",
       "    <tr>\n",
       "      <th>18</th>\n",
       "      <td>POSTAL_ADDRESS_PROVINCE</td>\n",
       "      <td>почтовый адрес область</td>\n",
       "    </tr>\n",
       "    <tr>\n",
       "      <th>19</th>\n",
       "      <td>TP_PROVINCE</td>\n",
       "      <td>область торговой точки, где клиент брал послед...</td>\n",
       "    </tr>\n",
       "    <tr>\n",
       "      <th>20</th>\n",
       "      <td>REGION_NM</td>\n",
       "      <td>регион РФ</td>\n",
       "    </tr>\n",
       "    <tr>\n",
       "      <th>21</th>\n",
       "      <td>REG_FACT_FL</td>\n",
       "      <td>адрес регистрации и адрес фактического пребыва...</td>\n",
       "    </tr>\n",
       "    <tr>\n",
       "      <th>22</th>\n",
       "      <td>FACT_POST_FL</td>\n",
       "      <td>адрес фактического пребывания клиента и его по...</td>\n",
       "    </tr>\n",
       "    <tr>\n",
       "      <th>23</th>\n",
       "      <td>REG_POST_FL</td>\n",
       "      <td>адрес регистрации клиента и его почтовый адрес...</td>\n",
       "    </tr>\n",
       "    <tr>\n",
       "      <th>24</th>\n",
       "      <td>REG_FACT_POST_FL</td>\n",
       "      <td>почтовый, фактический и адрес регистрации совп...</td>\n",
       "    </tr>\n",
       "    <tr>\n",
       "      <th>25</th>\n",
       "      <td>REG_FACT_POST_TP_FL</td>\n",
       "      <td>область регистрации, фактического пребывания, ...</td>\n",
       "    </tr>\n",
       "    <tr>\n",
       "      <th>26</th>\n",
       "      <td>FL_PRESENCE_FL</td>\n",
       "      <td>наличие в собственности квартиры (1 - есть, 0 ...</td>\n",
       "    </tr>\n",
       "    <tr>\n",
       "      <th>27</th>\n",
       "      <td>OWN_AUTO</td>\n",
       "      <td>кол-во автомобилей в собственности</td>\n",
       "    </tr>\n",
       "    <tr>\n",
       "      <th>28</th>\n",
       "      <td>AUTO_RUS_FL</td>\n",
       "      <td>наличие в собственности автомобиля российского...</td>\n",
       "    </tr>\n",
       "    <tr>\n",
       "      <th>29</th>\n",
       "      <td>HS_PRESENCE_FL</td>\n",
       "      <td>наличие в собственности загородного дома (1 - ...</td>\n",
       "    </tr>\n",
       "    <tr>\n",
       "      <th>30</th>\n",
       "      <td>COT_PRESENCE_FL</td>\n",
       "      <td>наличие в собственности котеджа (1 - есть, 0 -...</td>\n",
       "    </tr>\n",
       "    <tr>\n",
       "      <th>31</th>\n",
       "      <td>GAR_PRESENCE_FL</td>\n",
       "      <td>наличие в собственности гаража (1 - есть, 0 - ...</td>\n",
       "    </tr>\n",
       "    <tr>\n",
       "      <th>32</th>\n",
       "      <td>LAND_PRESENCE_FL</td>\n",
       "      <td>наличие в собственности земельного участка (1 ...</td>\n",
       "    </tr>\n",
       "    <tr>\n",
       "      <th>33</th>\n",
       "      <td>CREDIT</td>\n",
       "      <td>сумма последнего кредита клиента (в рублях)</td>\n",
       "    </tr>\n",
       "    <tr>\n",
       "      <th>34</th>\n",
       "      <td>TERM</td>\n",
       "      <td>срок кредита</td>\n",
       "    </tr>\n",
       "    <tr>\n",
       "      <th>35</th>\n",
       "      <td>FST_PAYMENT</td>\n",
       "      <td>первоначальный взнос (в рублях)</td>\n",
       "    </tr>\n",
       "    <tr>\n",
       "      <th>36</th>\n",
       "      <td>DL_DOCUMENT_FL</td>\n",
       "      <td>в анкете клиент указал водительское удостовере...</td>\n",
       "    </tr>\n",
       "    <tr>\n",
       "      <th>37</th>\n",
       "      <td>GPF_DOCUMENT_FL</td>\n",
       "      <td>в анкете клиен указал ГПФ (1 - указал, 0 - не ...</td>\n",
       "    </tr>\n",
       "    <tr>\n",
       "      <th>38</th>\n",
       "      <td>FACT_LIVING_TERM</td>\n",
       "      <td>количество месяцев проживания по месту фактиче...</td>\n",
       "    </tr>\n",
       "    <tr>\n",
       "      <th>39</th>\n",
       "      <td>WORK_TIME</td>\n",
       "      <td>время работы на текущем месте (в месяцах)</td>\n",
       "    </tr>\n",
       "    <tr>\n",
       "      <th>40</th>\n",
       "      <td>FACT_PHONE_FL</td>\n",
       "      <td>наличие в заявке телефона по фактическому мест...</td>\n",
       "    </tr>\n",
       "    <tr>\n",
       "      <th>41</th>\n",
       "      <td>REG_PHONE_FL</td>\n",
       "      <td>наличие в заявке телефона по месту регистрации</td>\n",
       "    </tr>\n",
       "    <tr>\n",
       "      <th>42</th>\n",
       "      <td>GEN_PHONE_FL</td>\n",
       "      <td>наличие в заявке рабочего телефона</td>\n",
       "    </tr>\n",
       "    <tr>\n",
       "      <th>43</th>\n",
       "      <td>LOAN_NUM_TOTAL</td>\n",
       "      <td>количество ссуд клиента</td>\n",
       "    </tr>\n",
       "    <tr>\n",
       "      <th>44</th>\n",
       "      <td>LOAN_NUM_CLOSED</td>\n",
       "      <td>количество погашенных ссуд клиента</td>\n",
       "    </tr>\n",
       "    <tr>\n",
       "      <th>45</th>\n",
       "      <td>LOAN_NUM_PAYM</td>\n",
       "      <td>количество платежей, которые сделал клиент</td>\n",
       "    </tr>\n",
       "    <tr>\n",
       "      <th>46</th>\n",
       "      <td>LOAN_DLQ_NUM</td>\n",
       "      <td>количество просрочек, допущенных клиентом</td>\n",
       "    </tr>\n",
       "    <tr>\n",
       "      <th>47</th>\n",
       "      <td>LOAN_MAX_DLQ</td>\n",
       "      <td>номер максимальной просрочки, допущенной клиентом</td>\n",
       "    </tr>\n",
       "    <tr>\n",
       "      <th>48</th>\n",
       "      <td>LOAN_AVG_DLQ_AMT</td>\n",
       "      <td>средняя сумма просрочки (в рублях)</td>\n",
       "    </tr>\n",
       "    <tr>\n",
       "      <th>49</th>\n",
       "      <td>LOAN_MAX_DLQ_AMT</td>\n",
       "      <td>максимальная сумма просрочки (в рублях)</td>\n",
       "    </tr>\n",
       "    <tr>\n",
       "      <th>50</th>\n",
       "      <td>PREVIOUS_CARD_NUM_UTILIZED</td>\n",
       "      <td>количество уже утилизированных карт ( если пус...</td>\n",
       "    </tr>\n",
       "  </tbody>\n",
       "</table>\n",
       "</div>"
      ],
      "text/plain": [
       "                          ПОЛЕ  \\\n",
       "0                 AGREEMENT_RK   \n",
       "1                          AGE   \n",
       "2            SOCSTATUS_WORK_FL   \n",
       "3            SOCSTATUS_PENS_FL   \n",
       "4                       GENDER   \n",
       "5                  CHILD_TOTAL   \n",
       "6                   DEPENDANTS   \n",
       "7                    EDUCATION   \n",
       "8               MARITAL_STATUS   \n",
       "9                 GEN_INDUSTRY   \n",
       "10                   GEN_TITLE   \n",
       "11                ORG_TP_STATE   \n",
       "12             ORG_TP_FCAPITAL   \n",
       "13                     JOB_DIR   \n",
       "14               FAMILY_INCOME   \n",
       "15             PERSONAL_INCOME   \n",
       "16        REG_ADDRESS_PROVINCE   \n",
       "17       FACT_ADDRESS_PROVINCE   \n",
       "18     POSTAL_ADDRESS_PROVINCE   \n",
       "19                 TP_PROVINCE   \n",
       "20                   REGION_NM   \n",
       "21                 REG_FACT_FL   \n",
       "22                FACT_POST_FL   \n",
       "23                 REG_POST_FL   \n",
       "24            REG_FACT_POST_FL   \n",
       "25         REG_FACT_POST_TP_FL   \n",
       "26              FL_PRESENCE_FL   \n",
       "27                    OWN_AUTO   \n",
       "28                 AUTO_RUS_FL   \n",
       "29              HS_PRESENCE_FL   \n",
       "30             COT_PRESENCE_FL   \n",
       "31             GAR_PRESENCE_FL   \n",
       "32            LAND_PRESENCE_FL   \n",
       "33                      CREDIT   \n",
       "34                        TERM   \n",
       "35                 FST_PAYMENT   \n",
       "36              DL_DOCUMENT_FL   \n",
       "37             GPF_DOCUMENT_FL   \n",
       "38            FACT_LIVING_TERM   \n",
       "39                   WORK_TIME   \n",
       "40               FACT_PHONE_FL   \n",
       "41                REG_PHONE_FL   \n",
       "42                GEN_PHONE_FL   \n",
       "43              LOAN_NUM_TOTAL   \n",
       "44             LOAN_NUM_CLOSED   \n",
       "45               LOAN_NUM_PAYM   \n",
       "46                LOAN_DLQ_NUM   \n",
       "47                LOAN_MAX_DLQ   \n",
       "48            LOAN_AVG_DLQ_AMT   \n",
       "49            LOAN_MAX_DLQ_AMT   \n",
       "50  PREVIOUS_CARD_NUM_UTILIZED   \n",
       "\n",
       "                                             ОПИСАНИЕ  \n",
       "0          уникальный идентификатор объекта в выборке  \n",
       "1                                     возраст клиента  \n",
       "2   социальный статус клиента относительно работы ...  \n",
       "3   социальный статус клиента относительно пенсии ...  \n",
       "4                 пол клиента (1- женщины, 0-мужчины)  \n",
       "5                            количество детей клиента  \n",
       "6                       количество иждивенцев клиента  \n",
       "7                                         образование  \n",
       "8                                  семейное положение  \n",
       "9                              отрасль работы клиента  \n",
       "10                                          должность  \n",
       "11                       форма собственности компании  \n",
       "12                  отношение к иностранному капиталу  \n",
       "13          направление деятельности в нутри компании  \n",
       "14               семейный доход (несколько категорий)  \n",
       "15                    личный доход клиента (в рублях)  \n",
       "16                        область регистрации клиента  \n",
       "17            область фактического пребывания клиента  \n",
       "18                             почтовый адрес область  \n",
       "19  область торговой точки, где клиент брал послед...  \n",
       "20                                          регион РФ  \n",
       "21  адрес регистрации и адрес фактического пребыва...  \n",
       "22  адрес фактического пребывания клиента и его по...  \n",
       "23  адрес регистрации клиента и его почтовый адрес...  \n",
       "24  почтовый, фактический и адрес регистрации совп...  \n",
       "25  область регистрации, фактического пребывания, ...  \n",
       "26  наличие в собственности квартиры (1 - есть, 0 ...  \n",
       "27                кол-во автомобилей в собственности   \n",
       "28  наличие в собственности автомобиля российского...  \n",
       "29  наличие в собственности загородного дома (1 - ...  \n",
       "30  наличие в собственности котеджа (1 - есть, 0 -...  \n",
       "31  наличие в собственности гаража (1 - есть, 0 - ...  \n",
       "32  наличие в собственности земельного участка (1 ...  \n",
       "33        сумма последнего кредита клиента (в рублях)  \n",
       "34                                       срок кредита  \n",
       "35                    первоначальный взнос (в рублях)  \n",
       "36  в анкете клиент указал водительское удостовере...  \n",
       "37  в анкете клиен указал ГПФ (1 - указал, 0 - не ...  \n",
       "38  количество месяцев проживания по месту фактиче...  \n",
       "39          время работы на текущем месте (в месяцах)  \n",
       "40  наличие в заявке телефона по фактическому мест...  \n",
       "41     наличие в заявке телефона по месту регистрации  \n",
       "42                 наличие в заявке рабочего телефона  \n",
       "43                            количество ссуд клиента  \n",
       "44                 количество погашенных ссуд клиента  \n",
       "45         количество платежей, которые сделал клиент  \n",
       "46          количество просрочек, допущенных клиентом  \n",
       "47  номер максимальной просрочки, допущенной клиентом  \n",
       "48                 средняя сумма просрочки (в рублях)  \n",
       "49            максимальная сумма просрочки (в рублях)  \n",
       "50  количество уже утилизированных карт ( если пус...  "
      ]
     },
     "execution_count": 3,
     "metadata": {},
     "output_type": "execute_result"
    }
   ],
   "source": [
    "df_descr"
   ]
  },
  {
   "cell_type": "markdown",
   "metadata": {},
   "source": [
    "Считаем обучающую выборки и тестовую (которую мы как бы не видим)"
   ]
  },
  {
   "cell_type": "code",
   "execution_count": 4,
   "metadata": {
    "collapsed": true
   },
   "outputs": [],
   "source": [
    "df_train = pd.read_csv('data/otp_train.csv', sep='\\t', encoding='utf8')"
   ]
  },
  {
   "cell_type": "code",
   "execution_count": 5,
   "metadata": {
    "collapsed": true
   },
   "outputs": [
    {
     "data": {
      "text/plain": [
       "(15223, 52)"
      ]
     },
     "execution_count": 5,
     "metadata": {},
     "output_type": "execute_result"
    }
   ],
   "source": [
    "df_train.shape"
   ]
  },
  {
   "cell_type": "code",
   "execution_count": 6,
   "metadata": {
    "collapsed": true
   },
   "outputs": [],
   "source": [
    "df_test = pd.read_csv('data/otp_test.csv', sep='\\t', encoding='utf8')"
   ]
  },
  {
   "cell_type": "code",
   "execution_count": 7,
   "metadata": {
    "collapsed": true
   },
   "outputs": [
    {
     "data": {
      "text/plain": [
       "(14910, 52)"
      ]
     },
     "execution_count": 7,
     "metadata": {},
     "output_type": "execute_result"
    }
   ],
   "source": [
    "df_test.shape"
   ]
  },
  {
   "cell_type": "code",
   "execution_count": 8,
   "metadata": {
    "collapsed": true
   },
   "outputs": [
    {
     "data": {
      "text/html": [
       "<div>\n",
       "<style scoped>\n",
       "    .dataframe tbody tr th:only-of-type {\n",
       "        vertical-align: middle;\n",
       "    }\n",
       "\n",
       "    .dataframe tbody tr th {\n",
       "        vertical-align: top;\n",
       "    }\n",
       "\n",
       "    .dataframe thead th {\n",
       "        text-align: right;\n",
       "    }\n",
       "</style>\n",
       "<table border=\"1\" class=\"dataframe\">\n",
       "  <thead>\n",
       "    <tr style=\"text-align: right;\">\n",
       "      <th></th>\n",
       "      <th>AGREEMENT_RK</th>\n",
       "      <th>TARGET</th>\n",
       "      <th>AGE</th>\n",
       "      <th>SOCSTATUS_WORK_FL</th>\n",
       "      <th>SOCSTATUS_PENS_FL</th>\n",
       "      <th>GENDER</th>\n",
       "      <th>CHILD_TOTAL</th>\n",
       "      <th>DEPENDANTS</th>\n",
       "      <th>EDUCATION</th>\n",
       "      <th>MARITAL_STATUS</th>\n",
       "      <th>...</th>\n",
       "      <th>REG_PHONE_FL</th>\n",
       "      <th>GEN_PHONE_FL</th>\n",
       "      <th>LOAN_NUM_TOTAL</th>\n",
       "      <th>LOAN_NUM_CLOSED</th>\n",
       "      <th>LOAN_NUM_PAYM</th>\n",
       "      <th>LOAN_DLQ_NUM</th>\n",
       "      <th>LOAN_MAX_DLQ</th>\n",
       "      <th>LOAN_AVG_DLQ_AMT</th>\n",
       "      <th>LOAN_MAX_DLQ_AMT</th>\n",
       "      <th>PREVIOUS_CARD_NUM_UTILIZED</th>\n",
       "    </tr>\n",
       "  </thead>\n",
       "  <tbody>\n",
       "    <tr>\n",
       "      <th>0</th>\n",
       "      <td>59910150</td>\n",
       "      <td>0</td>\n",
       "      <td>49</td>\n",
       "      <td>1</td>\n",
       "      <td>0</td>\n",
       "      <td>1</td>\n",
       "      <td>2</td>\n",
       "      <td>1</td>\n",
       "      <td>Среднее специальное</td>\n",
       "      <td>Состою в браке</td>\n",
       "      <td>...</td>\n",
       "      <td>0</td>\n",
       "      <td>1</td>\n",
       "      <td>1</td>\n",
       "      <td>1</td>\n",
       "      <td>6</td>\n",
       "      <td>2</td>\n",
       "      <td>1</td>\n",
       "      <td>1580</td>\n",
       "      <td>1580</td>\n",
       "      <td>NaN</td>\n",
       "    </tr>\n",
       "    <tr>\n",
       "      <th>1</th>\n",
       "      <td>59910230</td>\n",
       "      <td>0</td>\n",
       "      <td>32</td>\n",
       "      <td>1</td>\n",
       "      <td>0</td>\n",
       "      <td>1</td>\n",
       "      <td>3</td>\n",
       "      <td>3</td>\n",
       "      <td>Среднее</td>\n",
       "      <td>Состою в браке</td>\n",
       "      <td>...</td>\n",
       "      <td>0</td>\n",
       "      <td>1</td>\n",
       "      <td>1</td>\n",
       "      <td>1</td>\n",
       "      <td>6</td>\n",
       "      <td>1</td>\n",
       "      <td>1</td>\n",
       "      <td>4020</td>\n",
       "      <td>4020</td>\n",
       "      <td>NaN</td>\n",
       "    </tr>\n",
       "    <tr>\n",
       "      <th>2</th>\n",
       "      <td>59910525</td>\n",
       "      <td>0</td>\n",
       "      <td>52</td>\n",
       "      <td>1</td>\n",
       "      <td>0</td>\n",
       "      <td>1</td>\n",
       "      <td>4</td>\n",
       "      <td>0</td>\n",
       "      <td>Неполное среднее</td>\n",
       "      <td>Состою в браке</td>\n",
       "      <td>...</td>\n",
       "      <td>0</td>\n",
       "      <td>1</td>\n",
       "      <td>2</td>\n",
       "      <td>1</td>\n",
       "      <td>11</td>\n",
       "      <td>0</td>\n",
       "      <td>0</td>\n",
       "      <td>0</td>\n",
       "      <td>0</td>\n",
       "      <td>NaN</td>\n",
       "    </tr>\n",
       "    <tr>\n",
       "      <th>3</th>\n",
       "      <td>59910803</td>\n",
       "      <td>0</td>\n",
       "      <td>39</td>\n",
       "      <td>1</td>\n",
       "      <td>0</td>\n",
       "      <td>1</td>\n",
       "      <td>1</td>\n",
       "      <td>1</td>\n",
       "      <td>Высшее</td>\n",
       "      <td>Состою в браке</td>\n",
       "      <td>...</td>\n",
       "      <td>1</td>\n",
       "      <td>1</td>\n",
       "      <td>1</td>\n",
       "      <td>1</td>\n",
       "      <td>6</td>\n",
       "      <td>3</td>\n",
       "      <td>1</td>\n",
       "      <td>1589,92333333333</td>\n",
       "      <td>1590</td>\n",
       "      <td>NaN</td>\n",
       "    </tr>\n",
       "    <tr>\n",
       "      <th>4</th>\n",
       "      <td>59911781</td>\n",
       "      <td>0</td>\n",
       "      <td>30</td>\n",
       "      <td>1</td>\n",
       "      <td>0</td>\n",
       "      <td>0</td>\n",
       "      <td>0</td>\n",
       "      <td>0</td>\n",
       "      <td>Среднее</td>\n",
       "      <td>Состою в браке</td>\n",
       "      <td>...</td>\n",
       "      <td>0</td>\n",
       "      <td>1</td>\n",
       "      <td>2</td>\n",
       "      <td>1</td>\n",
       "      <td>16</td>\n",
       "      <td>2</td>\n",
       "      <td>1</td>\n",
       "      <td>1152,15</td>\n",
       "      <td>2230</td>\n",
       "      <td>NaN</td>\n",
       "    </tr>\n",
       "  </tbody>\n",
       "</table>\n",
       "<p>5 rows × 52 columns</p>\n",
       "</div>"
      ],
      "text/plain": [
       "   AGREEMENT_RK  TARGET  AGE  SOCSTATUS_WORK_FL  SOCSTATUS_PENS_FL  GENDER  \\\n",
       "0      59910150       0   49                  1                  0       1   \n",
       "1      59910230       0   32                  1                  0       1   \n",
       "2      59910525       0   52                  1                  0       1   \n",
       "3      59910803       0   39                  1                  0       1   \n",
       "4      59911781       0   30                  1                  0       0   \n",
       "\n",
       "   CHILD_TOTAL  DEPENDANTS            EDUCATION  MARITAL_STATUS  \\\n",
       "0            2           1  Среднее специальное  Состою в браке   \n",
       "1            3           3              Среднее  Состою в браке   \n",
       "2            4           0     Неполное среднее  Состою в браке   \n",
       "3            1           1               Высшее  Состою в браке   \n",
       "4            0           0              Среднее  Состою в браке   \n",
       "\n",
       "             ...             REG_PHONE_FL GEN_PHONE_FL LOAN_NUM_TOTAL  \\\n",
       "0            ...                        0            1              1   \n",
       "1            ...                        0            1              1   \n",
       "2            ...                        0            1              2   \n",
       "3            ...                        1            1              1   \n",
       "4            ...                        0            1              2   \n",
       "\n",
       "  LOAN_NUM_CLOSED LOAN_NUM_PAYM LOAN_DLQ_NUM LOAN_MAX_DLQ  LOAN_AVG_DLQ_AMT  \\\n",
       "0               1             6            2            1              1580   \n",
       "1               1             6            1            1              4020   \n",
       "2               1            11            0            0                 0   \n",
       "3               1             6            3            1  1589,92333333333   \n",
       "4               1            16            2            1           1152,15   \n",
       "\n",
       "  LOAN_MAX_DLQ_AMT PREVIOUS_CARD_NUM_UTILIZED  \n",
       "0             1580                        NaN  \n",
       "1             4020                        NaN  \n",
       "2                0                        NaN  \n",
       "3             1590                        NaN  \n",
       "4             2230                        NaN  \n",
       "\n",
       "[5 rows x 52 columns]"
      ]
     },
     "execution_count": 8,
     "metadata": {},
     "output_type": "execute_result"
    }
   ],
   "source": [
    "df_train.head()"
   ]
  },
  {
   "cell_type": "markdown",
   "metadata": {},
   "source": [
    "## Объединим две выборки\n",
    "\n",
    "Так как пока мы пока не умеем работать sklearn  Pipeline, то для того, чтобы после предобработки столбцы в двух выборках находились на своих местах.\n",
    "\n",
    "Для того, чтобы в дальнейшем отделить их введем новый столбец \"sample\""
   ]
  },
  {
   "cell_type": "code",
   "execution_count": 9,
   "metadata": {
    "collapsed": true
   },
   "outputs": [],
   "source": [
    "df_train.loc[:, 'sample'] = 'train'\n",
    "df_test.loc[:, 'sample'] = 'test'"
   ]
  },
  {
   "cell_type": "code",
   "execution_count": 10,
   "metadata": {
    "collapsed": true
   },
   "outputs": [],
   "source": [
    "df = df_test.append(df_train).reset_index(drop=True)"
   ]
  },
  {
   "cell_type": "code",
   "execution_count": 11,
   "metadata": {
    "collapsed": true
   },
   "outputs": [
    {
     "data": {
      "text/plain": [
       "(30133, 53)"
      ]
     },
     "execution_count": 11,
     "metadata": {},
     "output_type": "execute_result"
    }
   ],
   "source": [
    "df.shape"
   ]
  },
  {
   "cell_type": "markdown",
   "metadata": {},
   "source": [
    "### Чуть-чуть посмотрим на данные"
   ]
  },
  {
   "cell_type": "markdown",
   "metadata": {},
   "source": [
    "Посмотрим типы данных и их заполняемость"
   ]
  },
  {
   "cell_type": "code",
   "execution_count": 12,
   "metadata": {
    "collapsed": true,
    "scrolled": false
   },
   "outputs": [
    {
     "name": "stdout",
     "output_type": "stream",
     "text": [
      "<class 'pandas.core.frame.DataFrame'>\n",
      "RangeIndex: 30133 entries, 0 to 30132\n",
      "Data columns (total 53 columns):\n",
      "AGREEMENT_RK                  30133 non-null int64\n",
      "TARGET                        30133 non-null int64\n",
      "AGE                           30133 non-null int64\n",
      "SOCSTATUS_WORK_FL             30133 non-null int64\n",
      "SOCSTATUS_PENS_FL             30133 non-null int64\n",
      "GENDER                        30133 non-null int64\n",
      "CHILD_TOTAL                   30133 non-null int64\n",
      "DEPENDANTS                    30133 non-null int64\n",
      "EDUCATION                     30133 non-null object\n",
      "MARITAL_STATUS                30133 non-null object\n",
      "GEN_INDUSTRY                  27420 non-null object\n",
      "GEN_TITLE                     27420 non-null object\n",
      "ORG_TP_STATE                  27420 non-null object\n",
      "ORG_TP_FCAPITAL               27425 non-null object\n",
      "JOB_DIR                       27420 non-null object\n",
      "FAMILY_INCOME                 30133 non-null object\n",
      "PERSONAL_INCOME               30133 non-null object\n",
      "REG_ADDRESS_PROVINCE          30133 non-null object\n",
      "FACT_ADDRESS_PROVINCE         30133 non-null object\n",
      "POSTAL_ADDRESS_PROVINCE       30133 non-null object\n",
      "TP_PROVINCE                   29543 non-null object\n",
      "REGION_NM                     30131 non-null object\n",
      "REG_FACT_FL                   30133 non-null int64\n",
      "FACT_POST_FL                  30133 non-null int64\n",
      "REG_POST_FL                   30133 non-null int64\n",
      "REG_FACT_POST_FL              30133 non-null int64\n",
      "REG_FACT_POST_TP_FL           30133 non-null int64\n",
      "FL_PRESENCE_FL                30133 non-null int64\n",
      "OWN_AUTO                      30133 non-null int64\n",
      "AUTO_RUS_FL                   30133 non-null int64\n",
      "HS_PRESENCE_FL                30133 non-null int64\n",
      "COT_PRESENCE_FL               30133 non-null int64\n",
      "GAR_PRESENCE_FL               30133 non-null int64\n",
      "LAND_PRESENCE_FL              30133 non-null int64\n",
      "CREDIT                        30133 non-null object\n",
      "TERM                          30133 non-null int64\n",
      "FST_PAYMENT                   30133 non-null object\n",
      "DL_DOCUMENT_FL                30133 non-null int64\n",
      "GPF_DOCUMENT_FL               30133 non-null int64\n",
      "FACT_LIVING_TERM              30133 non-null int64\n",
      "WORK_TIME                     27416 non-null float64\n",
      "FACT_PHONE_FL                 30133 non-null int64\n",
      "REG_PHONE_FL                  30133 non-null int64\n",
      "GEN_PHONE_FL                  30133 non-null int64\n",
      "LOAN_NUM_TOTAL                30133 non-null int64\n",
      "LOAN_NUM_CLOSED               30133 non-null int64\n",
      "LOAN_NUM_PAYM                 30133 non-null int64\n",
      "LOAN_DLQ_NUM                  30133 non-null int64\n",
      "LOAN_MAX_DLQ                  30133 non-null int64\n",
      "LOAN_AVG_DLQ_AMT              30133 non-null object\n",
      "LOAN_MAX_DLQ_AMT              30133 non-null object\n",
      "PREVIOUS_CARD_NUM_UTILIZED    600 non-null float64\n",
      "sample                        30133 non-null object\n",
      "dtypes: float64(2), int64(32), object(19)\n",
      "memory usage: 12.2+ MB\n"
     ]
    }
   ],
   "source": [
    "df.info()"
   ]
  },
  {
   "cell_type": "markdown",
   "metadata": {},
   "source": [
    "Видим, что часть данных - object, скорее всего стоки.\n",
    "\n",
    "\n",
    "Давайте выведем эти значения для каждого столбца"
   ]
  },
  {
   "cell_type": "code",
   "execution_count": 13,
   "metadata": {
    "collapsed": true
   },
   "outputs": [
    {
     "name": "stdout",
     "output_type": "stream",
     "text": [
      "==========\n",
      "EDUCATION\n",
      "{'Среднее', 'Неоконченное высшее', 'Ученая степень', 'Два и более высших образования', 'Высшее', 'Неполное среднее', 'Среднее специальное'}\n",
      "\n",
      "\n",
      "==========\n",
      "MARITAL_STATUS\n",
      "{'Вдовец/Вдова', 'Состою в браке', 'Гражданский брак', 'Разведен(а)', 'Не состоял в браке'}\n",
      "\n",
      "\n",
      "==========\n",
      "GEN_INDUSTRY\n",
      "{nan, 'Ресторанный бизнес/Общественное питание', 'Туризм', 'Информационные технологии', 'Химия/Парфюмерия/Фармацевтика', 'Сельское хозяйство', 'Другие сферы', 'Нефтегазовая промышленность', 'Маркетинг', 'Салоны красоты и здоровья', 'Металлургия/Промышленность/Машиностроение', 'Торговля', 'Строительство', 'Сборочные производства', 'Информационные услуги', 'Логистика', 'Образование', 'Подбор персонала', 'Государственная служба', 'СМИ/Реклама/PR-агенства', 'Страхование', 'Юридические услуги/нотариальные услуги', 'Наука', 'Развлечения/Искусство', 'Транспорт', 'Энергетика', 'ЧОП/Детективная д-ть', 'Здравоохранение', 'Недвижимость', 'Управляющая компания', 'Коммунальное хоз-во/Дорожные службы', 'Банк/Финансы'}\n",
      "\n",
      "\n",
      "==========\n",
      "GEN_TITLE\n",
      "{'Руководитель среднего звена', nan, 'Служащий', 'Партнер', 'Другое', 'Руководитель высшего звена', 'Военнослужащий по контракту', 'Специалист', 'Рабочий', 'Высококвалифиц. специалист', 'Руководитель низшего звена', 'Индивидуальный предприниматель', 'Работник сферы услуг'}\n",
      "\n",
      "\n",
      "==========\n",
      "ORG_TP_STATE\n",
      "{nan, 'Некоммерческая организация', 'Государственная комп./учреж.', 'Индивидуальный предприниматель', 'Частная компания', 'Частная ком. с инос. капиталом'}\n",
      "\n",
      "\n",
      "==========\n",
      "ORG_TP_FCAPITAL\n",
      "{nan, 'Без участия', 'С участием'}\n",
      "\n",
      "\n",
      "==========\n",
      "JOB_DIR\n",
      "{nan, 'Снабжение и сбыт', 'Пр-техн. обесп. и телеком.', 'Адм-хоз. и трансп. службы', 'Бухгалтерия, финансы, планир.', 'Служба безопасности', 'Юридическая служба', 'Реклама и маркетинг', 'Участие в основ. деятельности', 'Кадровая служба и секретариат', 'Вспомогательный техперсонал'}\n",
      "\n",
      "\n",
      "==========\n",
      "FAMILY_INCOME\n",
      "{'до 5000 руб.', 'от 5000 до 10000 руб.', 'от 20000 до 50000 руб.', 'свыше 50000 руб.', 'от 10000 до 20000 руб.'}\n",
      "\n",
      "\n",
      "==========\n",
      "PERSONAL_INCOME\n",
      "{'11900', '41900', '22955', '150000', '18500', '80000', '7650', '8600', '4950', '47000', '10200', '5446', '6608', '16900', '6200', '5300', '39000', '4000', '50000', '40000', '21800', '2100', '45000', '160000', '3800', '5350', '53000', '3000', '13600', '7101', '4200', '7700', '5339', '8000', '2000', '25000', '14300', '75000', '32000', '30000', '4330', '11700', '3300', '67000', '4300', '33000', '9600', '2300', '12600', '18700', '20646,16', '11200', '17600', '24500', '7000', '18600', '5500', '68000', '27000', '15600', '10700', '14800', '17800', '12700', '6600', '5460', '7100', '17700', '16500', '16000', '6800', '8700', '13300', '20500', '28000', '16050', '4500', '7550', '9000', '4590', '15500', '52000', '24800', '5360', '13700', '9800', '4100', '10300', '25800', '9900', '12300', '15560', '3100', '5700', '21000', '3700', '16800', '77000', '15380', '6400', '100000', '10100', '24000', '10400', '11600', '11800', '13450', '13800', '6299,19', '34000', '5600', '5800', '4900', '12800', '29800', '5680', '9240', '7251', '11640', '14700', '8900', '8100', '5100', '6000', '29000', '7830', '7220', '6670', '7250', '12650', '13400', '10900', '7200', '13200', '42000', '17500', '9700', '26500', '20000', '5200', '7050', '5425', '6500', '7500', '48000', '3400', '7600', '41000', '6900', '49000', '32640', '170000', '13000', '8200', '5900', '19700', '5230', '12500', '10000', '18200', '35000', '4700', '9100', '5790', '37000', '23000', '6700', '15000', '7640', '14358', '55000', '5088', '7900', '12000', '7400', '7800', '16700', '10600', '9300', '23800', '22000', '9500', '17404', '19500', '8250', '4360', '8500', '9200', '3900', '250000', '17000', '220000', '4515', '10800', '9340', '4400', '2800', '3600', '8800', '6100', '43000', '15200', '31000', '8726', '9628', '4340', '6300', '18000', '5050', '8300', '11300', '54000', '22500', '7850', '19800', '13150', '5582', '21500', '12100', '13900', '12400', '15400', '3500', '1950', '44000', '24', '60000', '56000', '19300', '65000', '14500', '19600', '9330', '67700', '6359', '27300', '15300', '6180', '8400', '11400', '19000', '23500', '11000', '5000', '51000', '4600', '5400', '46000', '23100', '10500', '8350', '36000', '7300', '38000', '8066', '13160', '29500', '14000', '16100', '12900', '17900', '13500', '9400', '70000', '28300', '26000', '42500', '17200', '92000', '11500', '110000', '16200', '4800', '3200'}\n",
      "\n",
      "\n",
      "==========\n",
      "REG_ADDRESS_PROVINCE\n",
      "{'Томская область', 'Усть-Ордынский Бурятский АО', 'Карелия', 'Вологодская область', 'Пермская область', 'Горный Алтай', 'Орловская область', 'Башкирия', 'Новосибирская область', 'Владимирская область', 'Приморский край', 'Ярославская область', 'Тамбовская область', 'Калмыкия', 'Смоленская область', 'Кемеровская область', 'Псковская область', 'Бурятия', 'Астраханская область', 'Коми', 'Камчатская область', 'Красноярский край', 'Амурская область', 'Рязанская область', 'Удмуртия', 'Хакасия', 'Хабаровский край', 'Эвенкийский АО', 'Санкт-Петербург', 'Ставропольский край', 'Якутия', 'Тюменская область', 'Ленинградская область', 'Калужская область', 'Чувашия', 'Курганская область', 'Магаданская область', 'Агинский Бурятский АО', 'Тульская область', 'Курская область', 'Воронежская область', 'Волгоградская область', 'Мордовская республика', 'Марийская республика', 'Иркутская область', 'Адыгея', 'Костромская область', 'Читинская область', 'Ивановская область', 'Омская область', 'Пензенская область', 'Сахалинская область', 'Оренбургская область', 'Кировская область', 'Мурманская область', 'Северная Осетия', 'Тверская область', 'Алтайский край', 'Самарская область', 'Ульяновская область', 'Дагестан', 'Липецкая область', 'Челябинская область', 'Ростовская область', 'Свердловская область', 'Нижегородская область', 'Ямало-Ненецкий АО', 'Саратовская область', 'Брянская область', 'Москва', 'Еврейская АО', 'Белгородская область', 'Ханты-Мансийский АО', 'Краснодарский край', 'Архангельская область', 'Калининградская область', 'Кабардино-Балкария', 'Татарстан', 'Карачаево-Черкесия', 'Московская область', 'Новгородская область'}\n",
      "\n",
      "\n",
      "==========\n",
      "FACT_ADDRESS_PROVINCE\n",
      "{'Томская область', 'Усть-Ордынский Бурятский АО', 'Карелия', 'Вологодская область', 'Пермская область', 'Горный Алтай', 'Орловская область', 'Башкирия', 'Новосибирская область', 'Владимирская область', 'Приморский край', 'Ярославская область', 'Тамбовская область', 'Калмыкия', 'Смоленская область', 'Кемеровская область', 'Псковская область', 'Бурятия', 'Астраханская область', 'Коми', 'Камчатская область', 'Красноярский край', 'Амурская область', 'Рязанская область', 'Удмуртия', 'Хакасия', 'Хабаровский край', 'Эвенкийский АО', 'Санкт-Петербург', 'Ставропольский край', 'Якутия', 'Тюменская область', 'Ленинградская область', 'Калужская область', 'Чувашия', 'Курганская область', 'Магаданская область', 'Агинский Бурятский АО', 'Тульская область', 'Курская область', 'Воронежская область', 'Волгоградская область', 'Мордовская республика', 'Марийская республика', 'Иркутская область', 'Адыгея', 'Костромская область', 'Читинская область', 'Ивановская область', 'Омская область', 'Пензенская область', 'Сахалинская область', 'Оренбургская область', 'Кировская область', 'Мурманская область', 'Северная Осетия', 'Тверская область', 'Алтайский край', 'Самарская область', 'Ульяновская область', 'Дагестан', 'Липецкая область', 'Челябинская область', 'Ростовская область', 'Свердловская область', 'Нижегородская область', 'Ямало-Ненецкий АО', 'Саратовская область', 'Брянская область', 'Москва', 'Еврейская АО', 'Белгородская область', 'Ханты-Мансийский АО', 'Краснодарский край', 'Архангельская область', 'Калининградская область', 'Кабардино-Балкария', 'Татарстан', 'Карачаево-Черкесия', 'Московская область', 'Новгородская область'}\n",
      "\n",
      "\n",
      "==========\n",
      "POSTAL_ADDRESS_PROVINCE\n",
      "{'Томская область', 'Усть-Ордынский Бурятский АО', 'Карелия', 'Вологодская область', 'Пермская область', 'Горный Алтай', 'Орловская область', 'Башкирия', 'Новосибирская область', 'Владимирская область', 'Приморский край', 'Ярославская область', 'Тамбовская область', 'Калмыкия', 'Смоленская область', 'Кемеровская область', 'Псковская область', 'Бурятия', 'Астраханская область', 'Коми', 'Камчатская область', 'Красноярский край', 'Амурская область', 'Рязанская область', 'Удмуртия', 'Хакасия', 'Хабаровский край', 'Эвенкийский АО', 'Санкт-Петербург', 'Ставропольский край', 'Якутия', 'Тюменская область', 'Ленинградская область', 'Калужская область', 'Чувашия', 'Курганская область', 'Магаданская область', 'Агинский Бурятский АО', 'Тульская область', 'Курская область', 'Воронежская область', 'Волгоградская область', 'Мордовская республика', 'Марийская республика', 'Иркутская область', 'Адыгея', 'Костромская область', 'Читинская область', 'Ивановская область', 'Омская область', 'Пензенская область', 'Сахалинская область', 'Оренбургская область', 'Кировская область', 'Мурманская область', 'Северная Осетия', 'Тверская область', 'Алтайский край', 'Самарская область', 'Ульяновская область', 'Липецкая область', 'Челябинская область', 'Ростовская область', 'Свердловская область', 'Нижегородская область', 'Ямало-Ненецкий АО', 'Саратовская область', 'Брянская область', 'Москва', 'Еврейская АО', 'Белгородская область', 'Ханты-Мансийский АО', 'Краснодарский край', 'Архангельская область', 'Калининградская область', 'Кабардино-Балкария', 'Татарстан', 'Карачаево-Черкесия', 'Московская область', 'Новгородская область'}\n",
      "\n",
      "\n",
      "==========\n",
      "TP_PROVINCE\n",
      "{nan, 'Томская область', 'Карелия', 'Вологодская область', 'Пермская область', 'Горный Алтай', 'Орловская область', 'Башкирия', 'Новосибирская область', 'Владимирская область', 'Приморский край', 'Ярославская область', 'Тамбовская область', 'Смоленская область', 'Кемеровская область', 'Псковская область', 'Бурятия', 'Астраханская область', 'Коми', 'Камчатская область', 'Красноярский край', 'Амурская область', 'Рязанская область', 'Удмуртия', 'Хабаровский край', 'Санкт-Петербург', 'Ставропольский край', 'Якутия', 'Тюменская область', 'Курганская область', 'Калужская область', 'Чувашия', 'Магаданская область', 'Тульская область', 'Курская область', 'Воронежская область', 'Волгоградская область', 'Мордовская республика', 'Марийская республика', 'Иркутская область', 'Адыгея', 'Костромская область', 'Читинская область', 'Ивановская область', 'Омская область', 'Пензенская область', 'Сахалинская область', 'Оренбургская область', 'Кировская область', 'Мурманская область', 'Тверская область', 'Алтайский край', 'Самарская область', 'Ульяновская область', 'Липецкая область', 'Челябинская область', 'Ростовская область', 'Свердловская область', 'Нижегородская область', 'Саратовская область', 'Брянская область', 'Москва', 'Еврейская АО', 'Белгородская область', 'Ханты-Мансийский АО', 'Краснодарский край', 'Архангельская область', 'Калининградская область', 'Кабардино-Балкария', 'Татарстан', 'Новгородская область'}\n",
      "\n",
      "\n",
      "==========\n",
      "REGION_NM\n",
      "{'ВОСТОЧНО-СИБИРСКИЙ', nan, 'УРАЛЬСКИЙ', 'ЦЕНТРАЛЬНЫЙ 1', 'ЦЕНТРАЛЬНЫЙ 2', 'СЕВЕРО-ЗАПАДНЫЙ', 'ЦЕНТРАЛЬНЫЙ ОФИС', 'ЗАПАДНО-СИБИРСКИЙ', 'ПОВОЛЖСКИЙ', 'ПРИВОЛЖСКИЙ', 'ЮЖНЫЙ', 'ДАЛЬНЕВОСТОЧНЫЙ'}\n",
      "\n",
      "\n",
      "==========\n",
      "CREDIT\n",
      "{'12711', '11871', '22499', '17770', '6843', '27816', '16098', '41170', '6056', '2135,14', '11466', '4617', '21265', '12070', '12435', '3377', '9042', '7513', '3489', '10585', '11333', '40490,91', '8792', '8543', '2305,8', '4750', '18380', '6819', '27124', '48700', '9375', '7580', '21730', '31672', '7350', '8235', '29300', '11995', '26260', '4510', '23358', '19301', '19991', '33476', '21382', '40313', '26961', '4042', '29650', '6230', '3750', '11204', '13462', '7812', '24275', '9551', '15067', '4217', '4399', '15875', '9160', '41500', '11199', '35991', '13747', '13098', '4450', '17610', '9021', '24983', '23663', '12251', '4642', '17480', '28288', '16150', '13250', '15363', '31499', '24850', '10445', '4212,9', '11769', '50400', '15498', '14361', '5345', '8948', '5391', '5949', '17633', '65629,5', '5517', '5920', '8311,29', '23677', '3743', '3955', '33330', '22962', '21840', '21238', '3237', '13120', '36805', '28090', '13720', '19513', '41400', '32580', '63320', '17580', '13136', '24768', '4241', '11876', '70410', '21410', '5089', '13387', '7478', '12696', '23140', '19184', '5268,47', '18197', '18491', '12249', '34280', '9072', '24506', '11225', '12829', '18225', '28186', '11630', '8651', '17399,2', '14989', '11422', '15468', '14399', '18498', '6639', '23478', '23890', '2610', '14910', '19699', '7360', '18698', '15806', '17006', '25330', '34641', '7084', '5090', '23029', '18517,1', '14521', '8421', '44900', '8419', '35955', '17940', '15480', '27500', '13887,68', '6726,1', '18590', '16690', '22792', '18960', '5680', '4633', '9557,1', '3498', '15800', '11115', '17750', '13025', '27180', '5430', '22047', '5789', '20653', '27895', '6250', '3591', '15078', '24810', '3312', '19622', '22881', '26658,9', '33126', '27886', '18330', '10216', '8241', '16579', '6375', '3725', '2152', '6480', '21771', '13981,8', '23060', '35640', '9447', '10995', '4243', '17509', '11390', '19959', '10374', '18460', '7515', '8879', '5849', '20706', '21380', '16649', '9573', '7690', '14659,2', '35035,2', '21915', '5932', '4661', '10910,6', '13257', '26000', '36910', '6928', '16194', '16669', '7598', '18119', '24195', '7020,9', '5060', '18861', '29975', '13409', '9774', '12197', '23040', '12428,7', '22872', '39600', '47691', '13009', '5695', '11710', '19850', '20205', '8389', '4754', '21927', '5669', '13790', '13197', '7599', '14917', '16317', '20960', '7968', '4220', '19489,91', '31800', '26397', '20767', '17854', '13402', '2310', '3920', '10349', '33760', '32980', '33030', '31990,6', '30224', '4978', '17146', '22091', '4485', '12650', '22570', '6105', '11395', '15755', '36730', '4675', '16218', '10938', '16398', '5531,8', '5335', '6980', '12780', '13965', '7151', '31484,1', '19547', '13615', '12737', '23146', '13193', '6906', '19899', '30940', '8902', '2975', '34100', '22616', '5152', '17361,76', '23148', '3850,85', '21724', '31000', '5050', '7735', '26232', '12325', '22951', '17184', '42669', '12572', '23070,6', '3941', '19099', '7810', '11920', '11748', '3387', '24423', '11400', '19089', '52295', '51000', '3550', '3897', '9325', '6190,92', '8536', '20928', '94358', '16100', '14337', '25182,4', '13455', '19589', '6181', '9989', '9259', '11398', '12304', '18881', '13934', '21440', '38058', '4820', '27510', '10990,91', '28684', '5488', '5820', '5742', '14820', '27922', '12843', '26818', '21350', '7173', '5750', '20397', '13695', '8445', '13495', '6481,8', '8589', '4508', '34806', '22522', '61000', '17399,1', '9263', '3541', '22598,1', '53091', '18426', '11138', '37500', '9858', '18692', '10001', '6380,91', '18515,03', '19419', '6652', '6692', '37495,2', '14921', '7083,05', '11113', '11289', '26337,6', '34900', '19120', '21595', '17815', '4180', '13776', '50678', '27350', '14678,63', '20370', '22900', '5542', '7847', '28055', '11518', '33990', '20592', '9467', '11940', '3834', '22210', '26090', '9059,92', '23749,76', '21648', '3001', '15582', '6461', '44415', '39110', '23130', '59224', '9153', '21481', '3392', '12427,1', '4360', '14461', '23166', '18702', '19580', '4268', '20242', '19280', '6039', '8149', '11560', '10413', '7068', '36267', '24741', '5105,7', '13137', '6452', '12150', '21388', '7776', '5487', '20090', '28402', '25313', '11488', '4580,92', '15985', '11723,2', '5091', '7019', '2580', '8438', '4672', '21670', '14618', '17080', '26547', '13686', '5129', '6838', '15034', '6491', '28932', '8640', '11580', '5867', '12580', '24690', '19889,92', '17075', '14107', '6260', '13287', '27900', '33280', '17605', '7470', '12593,7', '6490,5', '31850', '13155', '11426', '9866', '6127', '12600', '4740', '45672', '8237', '3140', '11362', '3045', '8102,08', '6698', '19810', '15017', '4653', '4292', '9550', '11135', '6181,09', '16630', '3448', '17640', '2671,2', '14588', '4899', '11081,52', '18820', '6749', '6585', '14441', '4072', '3299', '32415', '3602', '5568', '23020', '9341,5', '9235', '20046', '6058,1', '22105', '28208', '22011', '20009', '7250', '35700', '4765', '3701', '12972', '22530', '12451', '13141', '5200', '17760', '14698', '27298', '11050', '7642', '3860', '18414', '15727', '4498', '81743,87', '6698,3', '26499', '9100', '58500', '17756', '6435', '7900', '9490', '28971', '28162', '88000', '18650', '12421', '7493', '28790', '56518', '5720', '15309', '10785', '41490', '37069', '11750,31', '14620', '14942', '6070', '24570', '13785', '20343', '3547', '61540', '23406', '6386', '30344', '13465', '12914', '4555', '19340', '14047', '12127', '17838', '8233,95', '35598', '4910', '32955', '5185', '11455', '4390,91', '2872', '18669,2', '15290', '3270', '33830', '10330', '21270', '7229', '17549', '5456', '9310', '7063', '17320', '2781', '28428', '4596', '18390', '26490', '12608', '25785', '15214', '14206', '10590', '16615', '4850', '9580', '2798', '6999,9', '37508', '12687', '3145', '34000', '11558', '31040', '14670', '13920', '4575', '5610', '34335', '16114', '6374,78', '12906', '46800', '32650', '20877', '11286', '12678', '9010', '44690', '5340', '23300', '28845', '23094', '22509', '10506,76', '3740', '23920', '15795', '39388', '9098', '34695', '12835', '17050', '2007', '3015,2', '6449', '21588', '18030', '15840', '8160', '7800', '47789', '44879', '27070', '13366', '17769', '23990,83', '3080', '6030', '20768', '6130', '27598', '13063', '14781', '20871', '8883', '2341', '13905', '84570', '5219', '11190', '24233', '14990,95', '3484', '2180', '15313', '19129', '17980', '10025', '7088', '18719', '9681,5', '2060', '2322', '15830', '14420', '4008', '25385', '31404', '26760', '16128', '13989', '26896', '44697', '2125', '3990', '6678', '22460', '10231', '20477', '8071', '27480', '25983', '12546', '33450', '20650', '33192', '29400', '6739', '4683', '21484', '45297', '9855', '6101', '9019', '14292', '12480', '23998', '3996,9', '6499', '7240,5', '8460', '20820,44', '19047', '19854', '9499', '25800', '25343', '16814', '16045,2', '58670', '6999,3', '12995', '15638', '6020', '2751', '18528', '47309', '3099', '33678,2', '14900', '24362', '21197', '14619', '73300', '7990', '16460', '13326,5', '12512', '5198', '22384', '7441', '23226', '9810', '17541', '15907', '5855', '14528', '17130', '9850', '19830', '12500', '21120', '3663', '12060', '18602', '19795', '5987', '18940', '13325', '16371', '9457', '11646', '16650', '23760', '4199', '49100', '28674', '5683', '56700', '12443', '77860', '11243', '6130,8', '41498', '4370', '6209', '14177', '3167', '56000', '10939', '63000', '13324', '17804', '7679', '12048', '9899', '4408', '20050', '6867', '19286', '13388', '2680', '7480', '13298', '8346', '13769,2', '14513', '7353', '7639', '5261', '30170', '10693', '4610', '2045', '16200', '3933', '87673', '35960', '18471', '23689', '7620', '29580', '6004', '6075', '47000', '4878', '37235', '11648', '17340', '25454', '4435', '5077', '27560', '17949', '2238', '3561', '16691', '26085', '21009', '10738,5', '5977', '8067', '12309', '30697', '9759,4', '33000', '60829', '41125,88', '19924', '14938', '3875', '3063', '19772', '14636', '26547,1', '4095', '19482', '14096', '4041', '20060', '6856', '5120', '17850', '3340', '14229', '19218', '23795', '31490', '30756', '10470', '10635', '5840,5', '27800', '15720,91', '13835', '9629', '30131', '6575', '14493', '11194,06', '27950', '6590', '29012', '6035', '13315', '13389', '5436', '3898,1', '14660', '16364', '14169,1', '14396', '7471', '3275', '29788', '25727', '9546', '10423', '34766', '27686,2', '7703,1', '9862', '6696', '8905', '28580', '16312', '9504', '8767', '5431,2', '15616', '12741', '3645', '6999', '7559', '7547,2', '16748,1', '51300', '22536', '8899', '6672', '11691', '3389', '2270', '14880', '20698,1', '32765', '2090', '6255,15', '8390', '10298', '10471', '30999', '11550', '11672', '4908', '5424', '17780', '45000', '35825', '21994', '19503', '34618', '39254', '21298', '40037', '20802', '12797', '16743', '15115', '22275', '4947', '7039', '14570,01', '5910', '10969', '17991', '10950', '15832', '11305', '3464', '7745', '14658', '14279', '29177', '3321', '9755', '4680', '10930,52', '20140', '26100', '11750', '13360', '11376', '30361', '6138', '5149', '28421', '35500', '30350', '5076', '8917', '83000', '13992', '11195', '18984', '19220', '13800', '14494', '5859', '12800', '4540', '29900', '18849', '49838', '7588', '10348', '7797,6', '3951', '96860', '10900', '24647', '9595', '6500', '18090', '2910', '4274', '63657', '21881', '16447', '10616', '28039', '11440', '29789,91', '12189', '47704', '24132', '73306', '17173', '3434', '16005', '29780', '32076', '8910', '6527', '15760', '15041', '29700', '7920', '49750', '27680', '9670', '18724', '11619,84', '5409', '23400', '24470', '6298,6', '18100', '6998', '8775', '3980', '14438', '21650', '12631', '21984,55', '29234', '7510', '9620', '36701', '8998', '4099,9', '26555', '10874', '8890', '5929,95', '6740', '6544', '8055', '9526', '2100', '14849', '16698', '5040', '11430', '18392,91', '16596', '17390', '5807', '9980', '18150', '6945', '26695,8', '19782', '7985', '7499', '18600', '4499,2', '22102', '10019', '15883', '6089', '16999,82', '71600', '16799,4', '22645', '9702', '5445', '12447', '15575', '6419,78', '6597', '16796', '13918', '5940', '6407,5', '15552', '9924', '6978', '7999', '7066', '5817', '10879', '20699', '35100', '19189', '7302', '7556', '8806', '4581,87', '55500', '13669', '27342,5', '12366', '17398,2', '10981,82', '8098', '3188', '28042', '5144', '11441', '11020', '26900', '10286', '4400', '16070', '25317', '5984', '21890', '24281', '12289', '11296', '99000', '16199', '21808', '35787', '20670', '16011', '23715', '22558', '23009', '17970', '6475', '21190', '3195,9', '6479', '26988', '21646', '18400', '7632,92', '8140', '9173,88', '5825', '6346', '22195', '25749', '13302,83', '7505', '25360', '5366', '45863', '26410', '28400', '6460', '33800', '28310', '50879,83', '17575', '8064', '4392', '5280', '9768', '9840', '5272', '22944', '13259', '6116', '25000', '27170', '15695', '20237', '3886', '16823', '2995', '4300', '31810', '29445', '10525,01', '6455', '25991', '5426', '18906', '21475', '14609', '16890', '6470,9', '19597', '3173', '27250', '21187', '14599', '12061', '10640', '31400', '24145', '5480', '5997', '4182', '5555', '3039', '8697', '15390', '5800', '15705', '11298', '3798,9', '9278', '3128', '9370', '4139', '26280', '4492', '21717,92', '25760', '31460', '16350', '41000', '28431', '22050', '3764', '14046', '5562', '23861', '21980', '17190', '5388', '4299', '11520', '29590', '4257', '10496', '25990', '7874', '48572', '7340', '4671', '10174', '6309', '17920', '4858,1', '18010', '10389', '6719', '13150', '17962', '13010,94', '3960', '9596', '26941', '23103', '9594', '13267', '4020', '25490', '7815', '6622', '5448', '17043', '19689', '18171', '6201', '18240', '16064', '19000', '10769', '13005', '8070', '4401', '4546', '9189', '27110', '60300', '3690,92', '15099', '18450,8', '26370', '17538', '18535', '9448', '11680', '13623', '32914,31', '12239', '14472', '8128', '2470', '10890', '6494', '7495', '66578', '25999', '21589,9', '15990', '33881', '21237', '30455', '3540,2', '15127,38', '9349', '7905', '17998,2', '19235', '21124', '12896', '4644', '11526', '2400', '3390', '22618', '3391', '37360', '9371', '18648', '5899', '18198', '2495', '5268', '16750', '22799', '11180', '25211', '8240', '63306', '7390', '24000', '4150', '26600', '18630', '12550', '18900', '5389', '2572', '6000', '26430', '16330', '20925', '6561', '25301', '14175', '25263', '2428,2', '4410', '21721,1', '40824', '71500', '4369', '10760', '29430', '5451', '10446', '6199', '8116', '30422', '31726', '23930', '16490', '5390', '7020', '26871', '4260', '19790', '8811', '37456', '17198', '5032', '12845', '23706', '9349,92', '12597', '6919', '4177', '14795', '26461,91', '15216,06', '3500', '25109', '63271', '10366', '22329,67', '12599,9', '3889', '8723', '32481,83', '14100', '17875', '11880', '13860', '7070', '7890', '27880', '26660,2', '11890', '38032', '30198', '12506', '31560', '6136', '15427', '16824', '20680', '7996', '6609', '18670', '6023,7', '4056', '3670', '8844', '9710', '28294', '8744', '21850,94', '32400', '24003', '7859', '37480', '26730', '27449', '7366', '3231', '3376,8', '9298', '15367', '4059', '19720', '37450', '5770', '29384', '10373', '51570', '15560', '3179', '43010', '9180', '7838', '10360', '7610', '24130', '9876', '4852', '9750', '8491,82', '10978', '39276', '17430', '14885', '3604', '8833', '31610', '20700', '12191', '23758', '11219', '14996', '19320', '22600', '17350', '33100', '10170', '10442', '11392', '30313', '5759', '21778', '7285', '4535', '15904', '12393', '19983', '14629', '23575', '18499', '8285', '27398', '36500', '12672', '20833', '13641,3', '11154', '3779', '5267', '9360', '11623', '26997', '7334', '12749', '56899', '28242', '8517', '9140', '10539', '8984', '44000', '10352', '18068', '45110', '10290', '7629', '7422', '8459', '16616', '14661', '41730', '29500', '10712', '20630', '3493', '4428,1', '5922', '5398', '23399', '6830', '47223', '19805', '26321', '2520', '4131', '12554', '16379', '11450', '16519,02', '3419', '23792', '30500', '17347', '23720', '6295', '3290', '14927,83', '24179', '5309', '3786', '28469', '5370', '36086', '9429', '19977', '12810,94', '5482,3', '7197', '23745', '23197', '9367', '13130', '18964', '23511', '6680', '2009', '94300', '10279', '19880', '17049', '10225', '14020', '6950,7', '8906', '8095', '18711,05', '21097', '2990,92', '9460', '23470', '6789', '10134', '3199,2', '12265', '8780', '41700', '8442', '3827', '25765', '17530', '12228', '21570', '2899', '78400', '5364', '13302', '18398', '28210', '15750', '5020', '7336', '18206', '6477', '2844', '41211', '11396', '14600', '11489,91', '18790', '8320', '29200', '55000', '41132', '3690', '33475', '14385', '10972', '7137', '5620', '6467', '18067', '28530', '4505', '5694', '16730', '6327', '8253', '16265', '16392', '38244', '3647', '4939', '29336,4', '11916', '5890', '6495', '19080', '8754', '16783', '7788', '26049', '4690', '29037,12', '24717', '8568', '23793', '5499', '11764', '14596', '30324', '20931', '19360', '18001,28', '12434', '27400', '11524,79', '12488,25', '15016', '10971', '43373', '18361', '5337', '15340', '4962', '24450', '17960', '5594', '6272', '30200', '22090', '6354', '21690', '22225', '26650', '8929', '8858,8', '7982', '31680', '23552', '17466', '20644', '8047,1', '23450', '4769', '5410', '13020', '5570', '5632', '7199', '12260', '22082', '13624', '7891', '5931', '20570', '9902', '22627', '7550', '23650', '21810', '8360', '26999', '6630', '10841', '15246', '6793', '16590', '13288', '77210', '14080', '19591,36', '10860', '15740', '24459', '4021', '7630', '76550', '5100', '35744', '14338', '6840', '18162', '8540', '18050', '13734', '11259', '30110', '6347', '3970', '13254', '22338,94', '3400', '20225', '14092', '78550', '29100', '15226', '13770', '14328', '38408', '10456', '10354', '29877,3', '5432', '15806,5', '4996,8', '8856', '9648', '3882', '3410', '4652', '23784', '8127', '29948', '5799', '20409', '18560', '11280', '4005', '31096', '13018,1', '8499', '6205', '6550', '6361', '3553', '15653', '3530', '7880', '9983', '8380', '7395', '15120', '10791', '34700', '3542', '6090', '87600', '18286', '29880', '34391', '11787', '10720', '29220', '13456,82', '27890', '18850', '8303', '15320', '19170', '7249', '38810', '5019', '20640', '26241,6', '16880,91', '4743', '26848', '13170', '12290', '5018', '4477', '8099', '19404', '17590', '19819', '24923', '31900', '21470', '10435', '39720', '8790', '5347', '5494', '22960', '10124', '4495', '5328', '31588', '12996', '28899', '14688', '6365', '31050', '15070', '24835', '4297', '21930', '3890', '5700', '21505', '13989,4', '5877', '23315', '24475', '13450', '10968', '3929', '10970', '29980', '3119', '18580', '28041', '5848', '7120', '42000', '17500', '18649', '5310', '6780', '10551', '21146,4', '27962', '18777', '32041', '8117', '2797', '31498', '22692,96', '16145', '32819', '4240,91', '4230', '8393', '9498', '3289', '46729', '4940', '24328', '24131', '35775', '22980', '20095', '13900', '12410', '26740', '26034', '9128', '6850', '12097', '21910', '24833', '20295', '4909', '32900', '5688', '23290', '18490,91', '31300', '35091', '14197', '8886', '16660', '24408', '18319', '7084,28', '41990', '8286', '4592', '21498', '20091', '20748', '15096', '23688', '4115', '9985', '97220', '20499', '3196', '6200', '11489', '23852', '8633,7', '99313', '16407', '8341', '5304', '23347', '13748', '9341', '11200', '22850', '27040', '5306', '19798', '16786', '32576,5', '38250', '22188', '23128', '6329', '11223', '6538', '28110', '7163', '18578', '27600', '10548', '13380,56', '2245', '8878', '86041', '28247', '24314', '21496', '4879', '17873,75', '18710', '15857', '9034', '4490', '23352', '4476', '13820', '13039', '7200', '6950', '6266', '32114', '2165,16', '3032', '18048', '6650', '40084', '11968', '18582', '31450', '33920', '6529', '8290', '5369', '4195', '13959', '20155', '5490', '3730', '9890', '35000', '13999,2', '18972', '25299', '15036,21', '9545', '27088', '15980', '8793', '11383', '9445', '9009,91', '6660', '11719', '2799', '19781', '3752,9', '2263', '15036', '6513', '12599', '2183', '8849', '38108', '23790', '4280', '2099', '4107', '14331', '22803', '15030', '13489', '13205', '82700,9', '3301', '12232', '13191', '19140', '11977', '35097,66', '3185', '14522', '23711', '8638', '21340', '4890,2', '17622', '10085,9', '25280', '6189,92', '7614', '46921', '59590', '72885,57', '23980', '4620', '20530', '24970', '27541', '22100', '4928,96', '5131', '51750', '9719', '28273', '10200', '20646', '8132', '8156', '25240', '11519,1', '6504', '4221', '11070', '24030', '13600', '14593', '35610', '6893,7', '6890', '16448', '16480', '36490', '10097', '21938', '8429', '7098', '19095', '32444', '16980', '23600', '3548', '13134', '26091', '4904', '11340', '3250', '34200', '19150', '21948', '5078', '8609,92', '7236', '7980', '7848', '5259', '8453', '16872,3', '37100', '24580', '13995', '4658', '53364', '15450', '4491', '21919', '5908', '24239', '16298', '28775', '7698', '33996', '9793', '19502', '3385,92', '21597', '89640', '58490', '22700', '22428', '3380', '6390', '10735', '12317', '14013', '12412', '6964', '3849', '25937', '18800', '22781', '16063', '3690,82', '5011', '4799', '23390', '17240', '19205', '63776', '10428', '15524', '7850', '21060', '18376', '22588', '4887', '3906', '2990', '14500', '11345', '27810', '30050', '21480', '2390', '19200', '33190', '2635', '19289', '32593', '13148', '8129', '17697', '9296', '9525', '28842', '18209', '3731', '12219', '4966', '15844', '16834', '2457', '9680', '32790,9', '7150', '15948', '19130', '23690,91', '22300', '3040', '22264', '5225', '13990', '8297', '78150', '3440', '10265', '2870', '8355', '40534', '17076,2', '11720', '15147', '15520', '5839', '46156', '32907,5', '6848', '7410', '15370', '31020', '9246', '6782', '20272', '9430,38', '19420', '4362', '18910', '21482', '19324', '31790', '29070', '11368', '24479', '9250', '31509', '6990,92', '13195', '17450', '19060', '14520', '5180', '19750', '19498', '15838', '9170', '21105', '13278', '33850', '15315', '13479', '29875', '9538', '9689', '26910', '33358,84', '12220', '12980', '6900', '14495,35', '4185', '10287', '46695', '10431', '20590', '56964,6', '8006,1', '29600', '26595', '22450', '19567', '17561,8', '22192', '26461', '4842', '14150', '12991,82', '9395', '12092', '3535', '4674', '14219', '15810', '3628', '2724', '8988', '20679', '11330', '6918,34', '12210', '5184', '29622', '5616,15', '3710', '14189', '20305', '15027', '7313', '12012', '5830', '34557,1', '11302', '12077', '17200', '4710', '6584', '27846', '6799', '3674', '49000', '6828', '11167', '11938', '15045', '13110', '35142', '20390', '19051', '11270', '8630', '17573', '3919', '2529,61', '18999', '18599,4', '10987', '8717', '3816', '19740', '21355', '12246', '25623', '23411', '10555', '6096,13', '29699', '8957', '19900', '5980', '98136', '8381,5', '20498,1', '3898', '2947', '83871', '16960', '10538', '16883', '4840', '4845', '8470', '13890', '11615,4', '8225', '6024', '14215', '6281', '4775', '5736,6', '10697', '30545', '24290', '13926', '4949', '26339', '21889,92', '15556', '5085', '11160', '4900', '19529', '22662', '21704', '17388', '9590', '14288', '41929', '31694', '16950', '5748,3', '2299', '12138', '10315', '5482', '29460', '9550,82', '13780,82', '33500', '17688', '5238', '15000', '28755', '21660', '19085', '15680', '12636', '18668', '27348', '4504', '6220', '13350', '22999', '2223', '18825', '33725', '9461,5', '6182', '19800', '19627', '10238', '9622,77', '9095', '12581,89', '32280', '4455', '14449', '13644', '29295', '27750', '10671', '23100', '5353,5', '19730', '31200', '15097', '20059', '24160', '35550', '75500', '25950', '2595', '79959', '11748,2', '20400', '9050', '26524', '7488', '10759', '9879', '5740', '7769', '22317', '6319', '13499', '10189', '17297,6', '22650', '19746', '16879', '5300', '11450,9', '21328', '5824', '4140,2', '32940', '22302', '26400', '18176', '20536,1', '14406', '29388', '35326', '9749', '14530', '5239', '13566', '24990', '15890', '28172', '25887', '27905', '31696', '4202', '5837', '30656', '30031', '7539', '15272', '10628', '15912', '14669', '11496', '17316', '10400', '9338', '8190', '3160', '62000', '10147', '6429', '26596', '5193', '12598,1', '4548', '29390', '13727', '14709', '16418', '24587', '6269', '18445', '36177', '9477', '11539', '8797', '9390', '10440', '10418', '21083', '3509', '15165', '16833', '12284', '49490', '81612', '14090', '31070', '6732', '17820', '18340', '14980', '22124', '27945', '2489', '5994', '36290', '16030', '23110', '9997', '13678', '7640', '16776', '8430', '18598', '10600', '3033,9', '14330', '28715', '11363,99', '20755', '32090', '17370', '27149', '14098,1', '8617', '9940', '13980', '13650', '16197', '10390', '33400', '2691,9', '39830', '17545', '17110', '10659', '14950', '12898', '9510', '22356', '9738', '34720', '2219', '10960', '26150', '25440', '3050', '9412', '10755', '5285', '10844', '38340', '23216', '15127,4', '15725', '11565', '3654', '22898', '25870', '48800', '7917', '61832', '13670', '3143', '12830', '17439', '16489,9', '41171', '4773', '13087', '9908', '17425', '12651', '7425', '18085', '61290', '4892', '10071', '8725', '7209', '31278', '41620', '16449', '6958,92', '17272', '6870', '8228', '14798', '3870', '3490', '19989', '30796', '9675', '8091', '4074', '74690', '14460', '8658', '10853', '14787', '24263', '24858', '15887', '22098', '25250', '6835', '5599', '35793', '12050', '89018', '20550', '31596,92', '15360', '14280', '20296', '11571', '4810', '7988', '10646', '18143', '26837', '4945', '34150', '25158', '14193', '12860', '22110', '16949', '15914', '25506,19', '13949', '22236', '8955', '10773', '20100', '27450', '19295', '16948', '12166', '9960', '23579', '13719', '19590', '15788', '2430', '36400', '2873', '9200', '13792', '24059', '9950', '28945', '13985', '6300', '25966', '6875', '44440', '22498,2', '22520', '10149', '12038', '50940', '12384', '8698,1', '73230', '13290', '17955', '24015', '7431', '14097', '23204', '9400', '37881', '12283', '7845', '20659', '12365,2', '15350', '27736', '7349', '8880', '4570', '17379', '11642,3', '21985', '2880', '9842', '27313', '14916', '25168', '11980', '3048', '8185', '10115', '4880', '20326', '28059', '6750', '4758', '18592', '16065', '14300', '10338', '18734', '8410', '10022', '42300', '29006', '8680', '3123', '13240', '15299', '25167', '3659,5', '51370', '2879', '27589', '4380', '23797', '74700', '9654', '26183,5', '18891', '3877', '8020', '9276', '9573,1', '9107', '10855', '4315', '18334', '13476', '7713', '22711,21', '5135', '5818,5', '26920', '31833', '6053', '17276', '6746', '13265', '12680', '13200', '8718,1', '5660', '4125', '19020', '17981,9', '28861', '21550', '17117', '14854', '10410', '40480', '6217', '24190', '3399', '14960', '4994', '10048', '34190', '16701', '43631', '3737,6', '17593', '8262', '3354', '14925', '24110', '12110', '18882', '9790', '6780,95', '6594', '19520', '72890', '15201', '11308', '19700', '25290', '17261', '6624', '16367', '17613', '15090', '20580', '10447', '6379', '27010', '4175', '18913', '2440', '12713', '12057', '5797', '18468', '29898', '4135', '17459', '11322', '5031', '26174', '3239', '13157', '7578', '23240', '9215', '26590', '16520', '24962', '16908', '6018,39', '12940', '15291', '5577', '35360', '7290', '92951', '18060', '8198', '30197', '21780', '5796', '18080', '4390', '20069,33', '2719,2', '7399', '7105', '30520', '24198,2', '22427', '9427', '38830', '15759', '29663', '25540', '6430', '5757', '13355', '5232,2', '3950', '11297', '10190', '10704', '4387', '11936', '16720', '11590', '19542', '17860', '7530', '6948', '2860', '3269', '22497', '34020', '18175', '6616', '23499', '28922', '16450', '39590', '11269', '25315', '76730', '15084', '32670,79', '16220', '14648', '7327,8', '7858', '14680', '23882', '31474', '7888', '6910', '25498', '17952', '3107,7', '12760', '12318', '24980', '8832', '7112', '40700', '8289', '6136,58', '32293', '9990', '6237,03', '21038', '15897', '13040', '3030', '50330', '4329', '13635', '4462', '26479', '6983', '4922', '87786', '6522', '10020', '21760', '41397', '16977', '14370', '12472', '3460', '13895', '7507', '28060', '20143', '9651', '10864', '32706', '14440', '41210', '12331', '5438', '5288', '38070', '3152', '13921,52', '15897,92', '27208', '15547', '9169', '13232,88', '9586', '18115', '16099', '9540', '3651', '4641', '23304,6', '21943', '4522', '13889', '5850', '15279', '26450', '19993', '37016', '26315', '16733', '7940', '15270', '26115', '11927', '3285', '4436', '30418', '5614', '3360', '11385', '27472', '11350', '17470', '15625', '13897', '18970', '3646', '10250', '4809', '8389,91', '3984', '22890', '54105', '7391', '13880', '11212', '17089,9', '5329', '8480', '8835', '17360', '8440', '33183,4', '44760', '6069', '15843', '3418,5', '22490,91', '29205', '13679', '14469', '7040', '3137', '4589', '24458', '8556', '11090', '12549,07', '17702', '52561', '15745', '19770', '17712', '8448', '20424', '6109', '8396', '8441', '11690,91', '3923', '70047', '9835', '75424', '4207', '20160', '8490', '28472', '29386', '7191', '26720', '7677', '16715', '27518', '2241', '12198', '12750', '12240', '10708', '22830', '4935', '19897,1', '29697', '27925', '20433', '9972', '29612', '28745', '7885', '22589', '3792,92', '57209', '23202', '10990,2', '5606', '4191', '11211', '10801', '17150', '8604', '15899', '13689', '26380', '12640', '5670', '46540', '4872', '5516', '20169', '29630', '13344', '16189', '4761', '13284', '14196', '12725', '17100', '22947', '38832', '31090', '3330', '6887', '22221', '11410', '14190', '8268', '4629', '5898', '11926', '18700', '44290', '5710', '6610', '6783', '14510', '8590', '4120', '9061', '10105', '11100', '22293', '53162', '23485', '58567', '2048', '20229', '23696', '23530', '15440', '24223', '2489,4', '5162', '16800', '23625', '23410', '9515', '10100', '2499', '6543', '9574', '13225', '15763', '7597', '5772', '17885', '10398', '35580,91', '32938', '21100', '16988', '4047', '7965', '2421', '5928,1', '9592', '30627', '3328', '20770', '22307', '3869', '9520', '13653', '7676', '19490', '2800,85', '12799', '7637,63', '31014', '10616,4', '19570', '26440', '19315', '3310', '5169', '10520', '15748', '85270', '37560', '25340', '4726', '31333', '8639', '6103', '6858', '74466', '19719', '29471', '7549,89', '34140', '16662', '24199', '8753', '31015', '7660,42', '6517', '10040', '4999', '2366', '19464', '7157', '40110', '13671', '23440', '8373', '2200', '20196', '15442', '31466', '6745', '23355', '22180', '12029', '23735', '27700', '10836', '6640', '6596', '17346', '17039,91', '6338', '24405,4', '11300', '23667', '6730', '17279,2', '3490,92', '5143', '8050', '7711', '9090', '6236', '7720', '51700,5', '7342', '17251', '6498', '13420', '66504', '10512', '13848', '3570', '7511', '12206', '5510', '35563', '12910', '4040,1', '23480', '7486,1', '18631', '39450', '19736', '8941', '5847', '2031', '3580', '20381', '20750', '10990', '4480', '6540', '13728', '18599', '30471', '6502', '13688', '5220', '24174', '18980', '4048', '2447', '13221', '15150', '31255', '7385', '6289', '21082', '5999', '8935', '9422', '5912', '18540', '7459,6', '15160', '71243', '14644', '10526', '27498', '29944', '27990,91', '17263', '43376', '3983', '10850', '3745', '25960', '4140', '36194', '19860', '17428', '13410', '20079', '23377', '24480', '7370', '70245', '11997,2', '12350', '13351', '8399', '33088,5', '17097', '7908,1', '44495', '22756', '26642', '17215', '20277', '5265', '6204', '17851', '4527', '4212', '8570', '23783', '6165', '7978', '17424', '25140', '7452', '9397', '3294', '5760', '8186', '18550', '18797', '18270', '25627', '27347', '22955', '30590', '31091', '70705,96', '3675', '6450', '6141,75', '3789', '10021,5', '25632', '22692', '14498', '12053', '5708', '8920', '5339', '7824', '19840', '2000', '90000', '27428', '88300', '21479', '24599', '4330', '12720', '30100', '5684', '2389', '32450', '9963', '17901', '9480', '27550', '18204', '14089', '31895,48', '9971,3', '27769', '20500', '10646,2', '15619', '15500', '17420', '16107', '13301', '17422', '4117,5', '15889', '16745', '22800', '5588', '41021', '19857', '2700', '9652', '26200', '18389', '27670', '7147', '19728', '7291,85', '21243', '9898', '43573', '88440', '20660', '14209', '16399', '10630', '8011', '12465', '33320', '18200', '4700', '4923', '13541', '11391', '11660,93', '5088', '10618', '26022', '13527', '30596', '6796', '12575', '24300', '22213', '18538', '11595', '18855', '21814', '40180', '7849', '7040,92', '29334', '16687', '20356', '20063', '12816', '2569', '9464', '17704', '6969', '8597', '22080', '4729', '11303', '4349', '11377', '14990', '10280', '10347', '14725', '6345', '6299,72', '15865,65', '3639', '15128', '30879,55', '12990', '4228', '86618', '11317', '27340', '5748', '17248', '15998', '18045', '19940', '5015', '22145,1', '18210', '8424', '22040', '4807', '78120', '18615', '6080', '20850', '18730', '16322', '28594', '15314', '24520', '4018', '29790', '23459', '7240', '13392', '5301', '22323', '5292', '23121', '57593', '25538', '5827', '12710', '13888', '29250', '9468', '4638', '9127', '7593', '6578', '16105', '3337', '26219', '50020', '37200', '4982,4', '5712', '46881', '4050', '19966', '4132,5', '8978', '18054', '10804', '9074', '20440', '38850', '48000', '17045', '23399,2', '17308', '18510', '14481', '8090', '15670', '7954', '4452,91', '54700', '22528', '8857', '28230', '19765', '3385', '19037,2', '13140', '13630', '15920', '27673', '8950', '3748', '23124', '6246', '8904', '5592', '18049', '2790', '21499', '12342', '12803,4', '4969', '4777', '25989', '20540', '11776', '67500', '5298,1', '25897', '3141', '25220', '22640', '19751', '2957', '3959', '28098', '29680', '18280', '6792', '3329', '6190', '17106', '4265', '3735', '4420', '13899', '15347', '29052', '39980', '8188', '18720', '10394', '18399', '3375', '5320', '9977', '4918', '24389', '20430', '3899', '5544', '25179', '6360', '10789', '15784', '75000', '49227', '17400', '12148', '12159', '19457', '11589', '42746', '11765', '3138', '3411', '17966', '21827', '22561', '21250', '30729', '22560', '18789', '20943', '10854', '19745', '7336,3', '9979', '21216', '28238', '10114', '24236', '14030', '2412', '16965', '18575,2', '15033', '4619', '25998', '91536', '22310', '29000', '9443', '16370', '26346', '9971,89', '9891', '16222', '15756', '5312', '25920', '7600', '17568,3', '19035', '10331', '5455,8', '37437,66', '12591', '16245', '4870', '19350', '7080', '32975,3', '16880', '15750,91', '19886', '6311', '15503', '4938', '7181', '33700', '10757', '2881', '11996', '4377', '66680', '29450', '35992', '5676', '14207,1', '6180', '28509', '10778', '3874', '19440', '37790', '8350', '6570', '23108', '8532', '25050', '7755', '69282', '3528', '9733', '4826', '5780', '3547,42', '5970', '21220', '19791', '11217', '5723', '4950', '13198', '3722', '9554', '16185', '19177', '18338', '5449', '37517', '14450', '4650', '15910', '22905', '13768', '26770', '21578', '31294', '20990', '28750', '12339', '11674', '6279', '7152', '12734', '5889', '16045', '83106', '8292', '12789', '27062', '5351', '35669', '6898', '21000', '19400', '18350', '4312', '24752', '22635', '3861', '86900', '70300', '21286', '16550', '9295', '11650', '8829', '24250', '21809', '6712', '9097', '76738', '16605', '26276', '3010', '87880', '17082', '6348', '15790', '2650', '14724', '16485', '6021', '32292', '39865', '40499', '21381,12', '24640', '37000', '33111', '8278', '6839', '13952,73', '15247', '11786,85', '42335', '24466', '82910', '21180', '23700', '11795', '23608', '6189,3', '56310', '16547,3', '14165', '20450', '4670', '7975', '5989', '8648', '8666', '11724', '14140', '7089', '15890,9', '4590,2', '21279', '10523', '13698', '13190', '5960', '18040', '16571', '6367', '13294', '23037', '25300', '92000', '4134,4', '9470', '17098,2', '23453', '8550', '21520', '30420', '31646', '3895', '7180,9', '30299', '30681', '27850', '28991', '6567', '19920', '21246', '4405', '16899', '42228', '10912', '12570', '15293', '10260', '7369,7', '16278', '4611', '25225', '23200', '29933,4', '20249', '3413', '19110', '21494', '18949', '15647', '8171', '15327', '11359', '9430', '22320', '6643', '15771', '6787,8', '4951', '23822', '39690', '5895', '28800', '27356', '12095', '3308', '116360', '21510', '10998', '21700', '15822', '29950', '17795', '4366,8', '93400', '21762', '4090', '22940', '13469', '3130', '15398', '50700', '6970', '6770', '6470', '11039', '12872', '4035,2', '85100', '7621', '34162', '37400', '14094', '19100', '10439', '28280', '16961,1', '19760', '10898', '7632', '29691', '10080', '17000', '5025', '9444', '5650', '19540', '13910', '21464', '28215', '12904', '55846', '6690', '12100', '21688', '26790', '10417', '15400', '79380', '14872', '9621', '7140', '8991', '30837', '17956', '7207', '5799,2', '12818', '9949', '9695', '12080', '7752', '7315', '61600', '24950', '9759', '3769', '28990,91', '32828', '21597,8', '6454,8', '42135', '10540', '7170', '10980', '14718', '26170', '7077', '17325', '20598', '11699', '7132', '6210', '17615', '11755', '18374', '16455', '60888', '4952', '19497', '9533', '45034', '5607', '24380', '3537', '93000', '25830', '11189', '16789,98', '10480', '8825', '28955', '4290,95', '16998', '16284', '21062', '7047', '31730,91', '11227', '9650', '17490', '79679', '4896', '2439', '8275', '11416', '5500', '16380', '6653', '15496', '15600', '19224', '3599', '23451', '8150', '34891', '8648,5', '15602', '28241', '25515', '21805', '16498', '97000', '7947', '20294', '25855', '28420', '14571', '4701,6', '3430', '3760', '24112', '18689', '10424,6', '11477', '9990,91', '14397', '7660', '29285', '11598', '7189', '13441', '7560', '23230', '4460', '22299', '10151', '5790', '67795', '3894', '28950', '3501', '30696', '4520', '30738', '5602', '6099', '75535,08', '14356', '2907', '4980', '23126', '3067', '15540', '3900', '12170', '9995', '7439', '34390', '9217', '2748', '9405', '29640', '13830', '25177', '4479', '28070', '10466', '31520', '16470', '15927', '11943', '7182', '18857', '25600', '16865', '25105,1', '14052', '3398', '4326', '45900', '20338', '21802', '8595', '35900', '26700', '11768', '35770', '8097', '10262,2', '9928', '70936,32', '14199', '7760', '7208', '18020', '5359', '4320', '30925', '35750', '3801', '38778,01', '5043', '5051', '33097', '7611', '21800', '16420', '18358', '56673', '30951', '17528', '15739', '11796', '20690', '5064', '25459,3', '8068', '4089', '8386', '35250', '20977', '14349', '8010', '27796', '18693', '8049', '35165', '72000', '20874', '4746', '7619', '8244', '14360', '30060', '4500', '34999', '7386,75', '16519', '9000', '5360', '27448', '4100', '13030', '25080', '19660', '20310', '35369,4', '10752', '24675,85', '7416', '20520', '18470', '10780', '5276', '19290', '3415', '19125', '28666', '5505', '4689', '18643', '16732', '3370', '23331', '17802', '2792', '88555', '93890', '12950', '22789', '13006', '9150', '13122', '14410', '12690', '38800', '23971', '4310', '25200', '12959', '9769', '12670', '13496', '17398,1', '3850', '5988,46', '21214', '2330', '2072,7', '5211', '11196', '58947', '6744', '28160', '11978', '11130', '15199', '18224', '23365', '26330', '6050', '9845', '6520', '17397', '8730', '22057', '3824', '10675', '9450', '19602', '23840', '15690', '20600', '30946,29', '9996', '3545', '14540,04', '14144', '13320', '10687', '4196', '21920', '18170', '20179', '13080', '4284', '5405', '4853', '9801', '8432', '27690', '18096', '10740', '3134', '40581', '7337', '19522', '5232', '6036', '8990', '16450,71', '42180', '29280', '3350', '13580', '38300', '5775', '9720', '22230', '7472', '90200', '5966,7', '25695', '15010', '6545', '5190', '7574', '16613', '7999,1', '52469,87', '21999', '9230,9', '7450', '12616', '6834', '11600', '11897', '6086', '20088', '8900', '3879,17', '25520', '14170', '24795', '6396', '9380', '4244', '26800', '17911', '30196', '14390,92', '7870', '38520', '23912', '13850', '4599', '14646', '3474', '7638', '13000', '13365', '3876', '8490,92', '40200', '14230', '14891', '11698', '31991', '13488', '15085', '18360', '22440', '20490', '26547,3', '13592', '4725', '9729', '26462', '11049', '12755', '21624', '9069', '6288', '28016', '21838', '19748', '17895', '8398', '15580', '10734', '10542', '26820', '14890', '4838', '2999', '4704', '20505', '21069,8', '24889', '7790', '6944', '10319', '4841', '5860', '6560', '20180', '13440', '6758', '16263', '27790', '20129', '13489,91', '4281', '11409', '16996', '14976', '7902', '7230', '13490', '5508', '16780', '28557', '12490', '3200', '10359', '16310', '17592', '9342', '15190', '5208', '4487,4', '22590', '20561', '3935', '15100,82', '30990', '19626', '3245', '5665', '22617', '53000', '4160', '23370', '2930', '7090', '5055', '76300', '6393', '24017', '8169,55', '4738', '16191', '2300', '26055', '4118', '18696', '28600', '37818', '16063,29', '30580', '30799', '11637', '18012', '6033', '18220', '12870', '4560', '20464', '16280', '2450', '46385', '12530', '33570', '7498,9', '19240', '25730', '14866', '37800', '7307', '9588', '19210', '15121', '18749', '11460', '19769', '4580', '4389', '4867', '6733', '5300,9', '40756', '5330', '17250', '11429', '11687', '8260', '12250', '17880', '7625', '23395', '10268', '10492', '10150', '47900', '16002', '30428', '78000', '31817,2', '19250', '17329,92', '19840,5', '7794', '13460', '37656', '15640', '21673', '11349', '34493', '15255', '9365', '6720', '8735', '17540', '14321', '7977', '13793', '27971', '27493', '34154', '32770', '26928', '2259,9', '29206', '9660', '79770', '2120', '11025', '8581', '2578', '14978', '15372', '4079', '5640', '6170', '15300', '23550', '2855', '13178', '21170', '42930', '5228', '22870', '15430', '2065,5', '17900', '3051', '16900', '8560', '4579', '49653', '11690', '4630', '28050', '11136', '12389', '26164', '30230', '22330', '16438', '32310', '24103', '16848', '9907,2', '13733', '19797,1', '38570', '27759', '23044', '15098', '3103,2', '27456', '12280', '5160', '6278', '19269', '12330', '7798', '3060', '21860', '34148', '22950', '10820', '6600', '7100', '59629', '9054', '7459', '5140', '35683', '3520,8', '5287', '5639', '18725', '9120', '29094', '15598', '5590', '4013', '8980', '20786', '10248,2', '28722', '8080', '4311', '10940', '78800', '34449', '5754', '14747,1', '3799', '9826', '26054', '12290,9', '24711', '55174', '29470', '10818', '17648', '15065', '5955', '13312', '4550', '7739', '26950', '4209,2', '17520', '4905', '36527', '26543', '5195', '10323', '12000', '30190', '9718', '2676', '5260', '14270', '14243', '26457', '24061', '17995', '10570', '31060', '17990', '4768', '20324,92', '11093', '19045', '3510', '14316', '11789', '19475', '28340', '5197', '16882', '13960', '15354', '4290,9', '27248', '9899,1', '7310', '25780', '8204', '11236', '4890', '11958', '3744', '30673', '9614', '5995', '11655', '22410', '9679', '11042', '4800', '5045', '6060', '4475', '9880', '16781', '14489,2', '20200', '15984', '10699', '18413', '13520', '18230', '21300', '13846', '4021,92', '45280', '13386', '6146', '30000', '9260', '23475', '23584', '6546', '16657', '17290', '13530', '32200', '21015', '25271', '10700', '12598,2', '5690', '17040', '21166', '12385', '6822', '29653', '18495', '5465,26', '4252', '11966', '16647', '16190', '33821', '13318', '11030', '12559', '6424', '5575', '9577,8', '21900', '14320', '36900', '8100', '12884', '23382', '18603', '13550', '16830', '13492', '26082', '49798,1', '11898', '16740', '20209', '22349', '27096', '13847', '6264', '15466', '7950', '11264,25', '20252', '4469', '5230', '14290', '16704', '22848', '17193', '23000', '7455', '15435', '19839', '10060', '14645', '22000', '8280', '28116', '18780', '40521', '5715', '13780', '7454', '20007', '16090', '17270', '16440', '8994', '22500', '13300,91', '12850', '10706', '12498', '16020', '14006', '18632', '31910', '11620', '23152', '18250', '17888', '18328,6', '12655', '12411', '7949', '14847', '28590', '4720', '28900', '2190', '20790', '10695,13', '14755', '6935', '33862', '24777', '5661', '30600', '8720', '2720', '6256,8', '23750', '5221', '12470', '18707,1', '22990', '8549', '24650', '20699,1', '11899', '22324', '8669', '18549', '25584', '26817', '6675', '5472', '10989', '9789', '13699', '14758', '41936', '7224', '37150', '8000', '20575', '6219', '6959', '12708', '11551', '9158', '19820', '4664', '9045', '21999,2', '12628,91', '7796', '2620', '4888', '5706', '52200', '17140', '15621', '6967', '3987', '7729', '4995', '14948', '9350', '4986', '11697,1', '6340', '11540', '16400', '26300', '11800', '4741', '9290', '27501', '3448,8', '4743,68', '11819', '24367', '16600', '13336', '22760', '6071', '35332', '3682', '11935', '24210', '12328', '14446,3', '23647', '43200', '11456', '11730', '16425', '15170', '22147', '8034,2', '21398', '46500', '3110', '2158', '8108', '21218', '10322', '5605', '13577', '23660', '29526,12', '21784', '23437', '4598,6', '4789,92', '9804', '8492', '4628', '17869', '25599', '119700', '23109', '12099,1', '11446', '26780', '3600', '14130', '52509', '30980', '21586', '5010', '4921', '12849', '13382', '23425', '17595', '21080', '15523', '6715,2', '2028,56', '3190', '4781', '43732,8', '12510', '38725', '17763', '8370', '6186,7', '13463', '15245', '48600', '50177', '4114', '17560', '5380', '98042', '20290', '3610', '3159', '7869,61', '3070', '25278,14', '22761', '10024', '16598', '18329', '24700', '20985,62', '5178', '8398,1', '17752', '3095', '21665', '19670', '24280', '22550', '17600', '23825', '15780', '19615', '14590', '5678', '4735', '6377', '12700', '6757', '6556', '14999', '3090', '4500,95', '15610', '5489', '4911', '10478', '9576', '3307', '6820', '19491', '23030', '11279', '16491', '6892', '28640', '4727', '19410', '3865', '17778', '6831', '25298', '16052', '31263', '10457', '4602', '4208', '19665', '23516,84', '10210', '14160', '19245', '21740', '27795', '30974', '5965', '20980', '7582', '13366,2', '17451', '7895', '9728', '7498', '15389', '16395', '5879', '17839,92', '22168', '14611', '5080', '22150', '20620', '14857', '24949,09', '9432', '9264,69', '2399', '21400', '17529,91', '7473', '9534', '15859', '6163', '17170', '27020', '10846', '2928', '23104', '10830', '10420', '23539', '20300', '17510', '21861', '29001', '35320', '12509,9', '62468', '11428', '14295', '24600', '2104', '26580', '9530', '16070,5', '17339', '17273', '4470', '7867', '10591', '22599', '21750', '31190', '20133', '5921', '33900', '5294', '23057', '18500', '5757,1', '7650', '9814', '9799', '27190', '2070', '16390', '37640,77', '6496,1', '9840,6', '10230', '4440', '10191', '3497', '8369', '22488', '24070', '3892', '3538', '17501', '4239', '3910', '27854', '28026', '7740', '52930', '13115', '7682', '6995', '5207', '20565', '3699', '18296', '3109', '20710', '3128,2', '8456', '16358', '7327', '19976', '34916', '6691', '31538', '17630', '11877', '35950', '13558', '15696', '33300', '10158', '6202', '8489', '21506', '14400', '4372,2', '24370', '29461,34', '14456', '3222', '10052', '11842', '7299', '34422', '14031', '8762', '11718,94', '29942', '9268', '10245', '6562', '29065', '6984', '9251', '16849', '8220', '5218', '8076', '2350', '9144', '20132', '4837', '41100', '6247', '20900', '30735', '12702', '3296', '13399', '13100', '28728', '10194', '10550', '6150', '18547', '6381', '14065', '21877', '14387', '2435', '13230', '16170', '94330', '11960', '20753', '9567', '12639', '2800', '22070', '5995,46', '16621', '3815', '17599', '29830', '50568', '2690', '8715', '15639', '4869,66', '20601', '27540', '20297', '18566', '25732,2', '16540', '19390', '28850', '12646', '28661', '4595', '7180', '30920', '10240', '10775', '17609', '13950', '7730', '42928', '13447', '7514', '4165', '8037', '27990', '7710', '2599', '5176,8', '13922', '21880', '21950', '39638', '18553', '20375', '3205', '32370', '19116', '9130', '17310', '7540', '4031', '16870', '5110', '7680', '5746', '4319', '10953', '5440', '3924', '28879', '7296', '6781', '9013', '8918', '8979', '7469', '3405', '6800', '3930,81', '4248', '2511,82', '19342', '89200', '14625', '8874', '18934', '5247', '18458', '24900', '13332', '2934', '11529', '14050', '3752', '25783', '79910', '25840', '25713', '4647', '45820', '8620', '20250', '39800', '16979', '21899,94', '4729,72', '6647', '10058,5', '5530', '2680,4', '10840', '19550', '23154', '44660', '7544', '5573', '7317', '21847', '13248', '25639', '12454', '10163', '22139', '25137', '32810', '6118', '19593', '21128', '20751', '57581', '5936', '15319', '10490', '20480', '12947', '22263', '23772,27', '21640', '7589', '3762', '7201', '20320', '7381', '2248', '6979', '19809', '2961', '22244', '26930', '6960', '22750', '28341', '9117', '16985', '3540', '25992', '4600', '28930', '9923', '6245', '91168', '16629', '8690', '15164', '65250', '3339', '9669', '13139', '12848', '3715', '17379,99', '8340', '18304', '7981', '84000', '24830', '7448', '22959', '39000', '10920', '15325', '16214', '13180', '4744', '19734', '26395', '4898', '15035', '18686', '16257', '14148', '6027', '6975', '22575', '19950', '7741', '23320', '4430', '5930', '4314', '28220', '8025', '25081,98', '4607', '26560', '4458', '6228', '20475', '4869', '11040', '21030', '20882', '11394', '5773', '17910', '5282', '42408', '6549,83', '10300', '6323', '10490,91', '28820', '7839', '6415', '14637', '29760', '12520', '11335', '3393', '21592', '17946,2', '15190,5', '14850', '5721', '5415', '16773', '4941', '18440', '26084', '18180', '5751', '11677', '9555', '10220', '7030', '12742', '13709', '12695', '15482', '20862', '7997', '20989', '19710', '3928', '21160', '7693', '24260', '25897,4', '21866', '22200', '6893', '8250', '15220', '44225', '9809', '17863', '17280', '3255', '21390', '9389', '20820,2', '6665', '24035,5', '10021', '14717', '30597', '9630', '29120', '6883', '22212', '2573', '22747,4', '13443', '56277', '8184', '10880', '30220', '32525', '5355', '9345', '20587', '18240,91', '5840', '12890,92', '5636', '4801', '20350', '3940', '26690', '12960', '7280', '32397', '9538,9', '11048', '2878', '25702', '6985', '13815', '10852', '3284', '22455', '6710', '19008', '37350', '50000', '18144', '3515', '71740', '11247', '12059,1', '22621', '15895', '18667', '27740', '84558', '23251', '7204', '30813', '34199', '31806', '37415', '3879', '8406', '3220', '18962', '12120', '25683', '19133', '19610', '8699', '16050', '13700', '21710', '5397', '11798', '3668', '11740', '36350', '31415', '18463', '13289', '12784', '10770', '34120', '39422', '47247', '13599', '12998', '14119', '4804', '11514', '11685', '23900', '42740', '2268', '24047', '23297', '15460', '8999', '12490,9', '41451', '25068,94', '11077', '22482', '24864', '17811', '5707,8', '14965', '14081', '7605', '3555', '6797', '3590', '3720', '23397', '8549,9', '21658', '3916', '9230', '19945,35', '5037', '16060', '24270', '20792', '7590', '4879,8', '12745', '84630', '18185', '22656', '13090', '65000', '17020', '10750', '26999,2', '22860', '16680', '6785', '10448', '6552', '18138', '9199', '19993,4', '11325', '29475', '7194,72', '17380', '21487', '22770', '11315', '9416', '13690', '3383', '18880', '30960', '28641', '2689', '25145,79', '17366', '30390', '19083', '38553', '11188,14', '11405', '28221', '7187', '9647', '5634', '32617', '5548', '8943', '10925', '7700', '27381', '4030', '3885', '19296', '14040', '32000', '17099', '27080', '14004', '22987', '16840', '37857,2', '2514', '21728', '5942', '24200', '7750', '4703', '54738', '2704', '3271,5', '14430', '16991', '25150', '7166', '11323', '5913', '8977', '25631', '4077', '8412', '6873', '12782', '12130', '7899', '20715', '4398', '16198', '6947', '37466', '77000', '5016', '27470', '5870', '21408', '22490', '8870', '4293', '25350', '64500', '16990', '14355', '33510', '3023,58', '23393', '7830', '7220', '6721', '11892', '27369', '19680', '24881', '20979', '5580', '6380', '13620', '18497', '6741', '15512', '5900', '36617', '3222,9', '7570', '9167', '20330', '39020', '11150', '24929', '6514', '13326', '2570', '11669', '3640', '4998', '4983', '15570', '11295', '5793,3', '53673', '10690', '2890', '20880', '5806', '18217', '9610', '36136', '25700', '4608', '13438,3', '8603', '6299,2', '24552', '19300', '13016', '12537', '7787', '8840', '31933', '9270', '17134', '2850', '90590', '36308', '27228', '5400', '25896', '21746', '27012', '11670', '11500', '23820', '18260', '17714', '18530', '5937', '4103', '12541', '27637', '8088', '13166', '81423', '11986', '5017,9', '18113', '18896', '38700', '82800', '18740', '2889', '16551', '11260', '6930', '5350', '5299', '5435', '3353', '11304', '14560', '25447', '19460', '5897', '29382', '13998', '21600', '5296', '8188,04', '3014', '10238,82', '27898', '10450', '6889', '96490', '21154', '8450', '5832', '17790', '10990,94', '5533', '19341,2', '13891,5', '30686', '17324', '14574', '11830', '89344', '6297', '3998', '27939', '32391', '13439', '4428', '32387', '28170', '16080', '15210', '16999', '17720', '15380', '3868', '26340', '18810', '22097', '27370', '26819', '4290,91', '6658', '9870', '26080', '11586', '11133', '4936', '16507', '3490,91', '14398', '18660', '20000', '11989', '27620', '29493', '8951', '14993', '17499', '3034', '7169', '23680', '2679', '30820', '17890', '13710', '7908', '5525', '6399', '4767', '23351', '15299,9', '4250', '9899,92', '15700', '20636,91', '23310', '13750', '76360', '33598', '4150,95', '31580', '3059', '16240', '17448', '84800', '6197', '59760', '10737', '35530', '30391', '4064', '7092', '10610', '21845', '21850', '11445', '6510', '19316', '2165,4', '15900', '17220', '9030', '11583', '15624', '3617', '11999', '21990', '9241', '14690', '30720', '4860', '11099', '7876', '6881', '5000', '7279', '30325', '17775', '24760', '9913', '22458', '93947', '13872', '10580', '3149', '16576,2', '8641', '71400', '3499', '4790', '10680', '4366', '21696', '15950', '21349', '12200', '5222', '13112', '10536', '9791', '14201', '20648', '30590,92', '31885', '4212,8', '10560', '31716', '25390,94', '2030', '45438', '6899', '3614', '7645', '5070', '22810', '14580', '13536', '32499', '10248', '11159', '5189', '5179', '19789', '30826', '24495', '14443', '9031', '16993', '5611', '10073', '18239', '2599,2', '5906', '11855', '10029,92', '8360,92', '11911', '18799', '20645', '6240', '65747', '3311', '6518', '11727', '34466,4', '22198,1', '4640', '3549', '6397', '19375', '30603', '23989', '16175', '2421,9', '9825', '61487', '15820', '20179,3', '8033', '24772', '34499,2', '10650', '10660', '42436', '10609,2', '21347', '11490', '74482', '11470', '11600,6', '6700', '22214,69', '6530', '60080', '13665', '10991', '3808', '8300', '6280', '24550', '7829', '4534', '11389', '6697', '21907', '4040', '32850', '18624', '5869', '89196', '7492', '11804', '3061,45', '3717,9', '4673', '21450', '16389', '23500', '6247,8', '24682', '15975', '11399', '12889', '12730', '4350', '23025', '12211', '10088', '3780', '12340', '17650', '2909', '18481', '63700', '7998', '10089', '8625', '19011', '10599', '23954', '15186', '9560', '8270', '84500', '4986,5', '9730', '17453', '2050', '23945', '9892', '6748', '7107', '3358', '23780', '23390,91', '37305', '8997', '27714', '2555', '23713', '22880', '19608', '13993', '7262', '29345', '11495', '2660', '6489', '8180', '18760,75', '8700', '4745', '17503', '6192', '69188', '2600', '20691', '13740', '20298', '21320', '23684', '24502', '35990', '21460', '100000', '9536', '2189', '27446', '21295', '31702', '90747,9', '21021,9', '8598', '10340', '2730', '15336', '9754', '8299', '45952', '43682', '26355', '20113', '7984', '6991', '7357', '2250', '26329', '22290', '24940', '29443', '12822', '28059,81', '4963', '7128', '2095', '35670', '29858', '8508', '8580', '22674', '29799', '3006', '3961', '23800', '12390', '3150', '7857', '18099', '31250', '2590', '12590', '19521', '6323,33', '22672', '7319', '20263', '2745', '15200', '30630', '5589', '27617,1', '10130', '19430', '7991', '14750', '5718', '31317', '13494', '17496', '17690', '3033', '15880', '19970', '21865', '38000', '15730', '39090', '10113', '16110', '5333', '4336,2', '9176', '9137', '7995', '10730', '9438', '27970', '18318', '32844', '15020', '59398,2', '19145', '4463', '3630', '7898', '27270', '4648', '22413', '8785', '28258', '9600', '11950', '4291', '20883', '6790', '9085', '10061', '11990', '50929,82', '6125', '5155', '26138', '3117', '7516', '12566', '4242', '2151', '4010', '17060', '22670', '5231', '40900', '10381,5', '83407', '3335', '4858', '8763', '6115', '23598', '5419', '12199', '9690', '29750', '32846', '23865', '19980', '20720', '6166', '32935', '8170', '6966', '19187', '14310', '11510', '8788', '34295', '9986', '6699', '4088', '4039', '3771', '29266', '9393', '8650', '16501', '24220', '18782,2', '7348,52', '29661', '5745', '18410', '19890', '29707', '27860', '28999', '2039', '9300', '5689', '7443', '11833', '10611', '10128,8', '22140', '26708', '12417', '28551', '11250', '4930,95', '6997', '8745', '17091,9', '7417,5', '6191', '10665', '21490', '50950', '11290', '17567', '3314', '22390', '45500', '7937', '29040', '30340', '25740', '48900', '25491', '6457', '28933', '15824', '5941', '9839', '32348', '7183', '2691', '21204', '2936', '21280', '5478', '11725', '10936', '42689', '20519', '7558', '80000', '3516', '20779', '22240', '25898', '13825', '3942', '44560', '9920', '80973', '28781', '29690', '8830', '3703', '17840', '18885', '98030', '10350', '34740', '3300', '3636,9', '10779', '12450', '6525', '34804', '10046', '2940', '19844', '17765', '16500', '19082,3', '26865', '4752', '16260', '27980', '16910', '10320', '14991', '5765', '11148', '7460', '70500', '9900', '15290,7', '18121', '8846', '29782', '19930', '2089', '26199', '27196,1', '24667', '28517', '6073', '4210', '34990', '17230', '24721', '34555', '20863', '10508', '37531', '14205', '25400', '12645', '8750', '13570', '10467,1', '4830', '10530', '31491', '7609,5', '6193', '9994', '14796', '3280', '17112', '7373', '74650', '2075', '10295', '6129', '10670', '9398', '4386', '13975', '23488', '3429', '36260', '20658,2', '5990', '8800', '4930', '5058', '14994', '16499', '13498', '2372', '7060', '6903', '16868', '12598', '17810,82', '12944', '3407', '2979', '10500', '10714', '10438', '14390', '9080', '19005', '12948', '11576', '3883', '14365', '17432', '13491', '13480', '8420', '2255,4', '15003', '11635', '8530', '6364', '27200', '4000', '12236', '19674', '9116', '9497', '47529,91', '12699', '24125', '4082', '3385,83', '6081', '5103', '11529,91', '40050', '24500', '12019', '17199', '27166', '15230', '69500', '28970', '4097', '32508,2', '22515', '26390', '96000', '18022', '12348', '6342', '11192', '10904', '4375', '6373', '6679', '6880', '9007', '32335', '17997', '2150', '4080', '24400', '2619', '31502', '5170', '10090', '17624', '10034', '19446', '24490', '18610', '15359', '3660', '4533', '27599', '9998', '16860', '33978,63', '19343', '16140', '9655,2', '16820', '37752', '15040', '5888', '21200', '2540', '9248', '9599', '27995', '7452,4', '4290', '3619', '11230', '6290', '24680', '16838', '8500', '10800', '19260', '36800', '17330', '27130', '7875', '14550', '25940', '5880', '27490', '3348', '38718', '25640', '12810', '30930', '38625', '22015', '46000', '6662', '28778,3', '9053', '17631', '13999', '31792', '22121,1', '24740', '12495', '19254', '22361', '16591', '10529', '23147', '11799', '20431', '24465', '14284', '4730', '7281,94', '6904', '18425', '3076', '22398', '44100', '22250', '8869', '28500', '9224', '20355', '5579', '16227', '8544', '4339', '13563', '62100', '11754', '10075', '7509', '8199', '5270', '23391', '10617', '19358', '5496', '15192', '29949,7', '23595', '14947', '7420', '5950', '8547', '29376', '18840', '39741', '12716', '6876', '4882', '10990,92', '20910', '9930', '41837', '5095', '3711', '11370', '22252', '9004', '53169', '25900', '4489', '11293', '21685', '14998', '13829', '25122', '4365', '24100,83', '26140', '26365,6', '7618', '36980', '6411,72', '3790', '32449', '6291', '7820', '3359', '15602,5', '6263', '19046', '12405', '21974', '5199', '8694', '10169', '95441', '38406', '9280', '15470', '12044', '9198', '10495', '64670', '27570', '10799', '27234', '12290,94', '12397', '4130', '10647', '23992', '10361', '18784', '5988', '8298', '2998', '15789', '15629', '32800', '15615', '30360', '6283', '35520', '28502', '8308,35', '2290,7', '15863', '17671,2', '24295', '15215', '31990', '4780', '26970,6', '28460', '15100', '16635', '36093', '3854', '70000', '9396', '4109', '18490', '39240', '2420', '27645', '18190', '17091', '19278', '8435', '17483', '16180', '4679', '27372', '4920', '4454', '19021', '19169', '6920', '7190', '10648', '10505,5', '8515,7', '24933', '18898', '3000', '7017', '33120', '9655', '31500', '12854', '15960', '4493', '13730', '12347', '25812,5', '13882,92', '11949', '27283', '12902', '14083', '10256,1', '26641', '18246', '22930', '13300', '18140', '46960', '23661', '9917', '5681', '24840', '7863', '8361', '7376', '8901', '12300', '7189,6', '51685', '26872', '18750', '14250', '5968', '5600', '49500', '10193', '26550', '5724,2', '7259', '12908', '21630', '16975', '24630', '2759', '13456', '14848', '70360', '21312', '7500', '51900', '4057', '40500', '9025', '31587', '11499', '11954', '7497', '5295', '13321', '14035', '25180', '4318,2', '8056', '34479', '17826', '22969', '37880', '5612', '3168', '7035', '13430', '5761,9', '6503', '3560', '3650', '14696', '20903,5', '40574', '3093', '17896', '25662', '7878', '15079,91', '7123', '8675', '5450', '17950', '16362', '12953', '6273', '24120', '14632', '41470', '21960', '24283', '7648', '12195', '12900', '13500', '6682', '7770', '9991', '26379', '17476', '13260', '10656', '46649', '22798', '7369', '11749', '16992', '26990', '13507', '29677', '45160', '7655', '17231', '25386', '3470', '17505', '34821', '24771', '16250', '15102', '26529', '11955', '9910', '6313', '7581', '13940', '33255', '11590,92', '4276', '16381', '8038', '11990,95', '14891,92', '16893', '23185', '20379,5', '6462', '19106', '5150', '10668', '6703', '8652', '25227', '11536', '6598', '26060', '6093', '14487', '16189,4', '14765', '20789', '28000', '8606', '12790', '13433', '3909', '22400', '34396', '5540', '17531', '22233', '20698,2', '77762', '11080', '7110', '10999', '23220', '8118', '13539,2', '14257,91', '17372', '27706', '16940', '7144', '23490', '8110', '7490', '9212', '34699', '7115', '13567', '8210', '8610', '3990,92', '20536', '22160', '42950', '11021', '4756,5', '5130', '4148', '3424', '11170', '17572,68', '22085', '25680', '3316', '9340', '16765', '9227', '3450', '32822', '21420', '8195', '18000', '4026,55', '17010', '8120', '22419', '6625', '8940', '4891', '6301', '14651', '4760', '30370', '6539', '15110', '22345', '9606', '11126', '9532', '32990', '26051', '20488', '16416', '2333', '7433', '11850', '7667', '17789', '11808', '21598', '5175', '27580', '4563', '17558', '7440', '12345', '5520', '10782', '23940', '11790', '40970', '23186', '11151', '17842', '11434', '11055', '69000', '15999', '5243', '41907', '7002', '13948,2', '10198', '29694', '15685', '3768', '10188', '14800', '16850', '7749', '5550', '13138', '16859', '10528,3', '15518', '21430', '10964', '23950', '9290,91', '7258', '6040', '8047', '22525', '9955', '22286', '9800', '22072', '5005,8', '3700', '12140', '59009', '6299', '16995', '7872', '8057', '32700', '14760', '21050', '10917', '9700', '12209,5', '5738', '6490', '23944', '4240', '16320', '6537', '16479', '18187', '17367', '13875', '24750', '16244,9', '40410', '35596', '16436', '3784', '12310', '10584', '14949', '43996', '6145', '6925', '17546', '9500', '10112,8', '12820', '4816', '38120', '9282', '19999', '12315', '21075', '19079', '33470', '30825', '25820', '8685', '60000', '11778', '12024', '13689,86', '7715', '29478', '58900', '20495', '19925', '31224', '24867', '13978', '27360', '14480', '15240', '43353', '6048', '3305', '8148', '5404', '6445', '4934', '2243,7', '20826', '12606', '7362', '5560', '7022,7', '5829', '87570', '45665', '6088', '19470', '15269', '4189', '9970', '16039', '24399', '2190,2', '12455', '9278,1', '7713,42', '26538', '15555', '12262', '10342', '34990,8', '16627', '40000', '33680', '3492', '5210', '7687', '26510', '8041', '6854', '9417', '17716', '4413', '29490', '3031', '27000', '22920', '6809', '10479', '13184', '11212,06', '18300', '6756', '6599', '25641', '7160', '19044', '47600', '10310', '15292', '26875', '14730', '10205,5', '18740,5', '2000,51', '11502', '79200', '29198', '3943', '8960', '22280', '25460', '10274', '16620', '19415', '12493', '11063', '9040', '6651', '7050', '29380', '12511', '22395', '3949,92', '11910', '9837', '14527', '3820', '8322,77', '4525', '11060', '6916', '21536', '2699', '25420', '15481', '7210', '3999', '9287', '13421', '5083', '16700', '15770', '14391', '24346', '32500', '2282', '18216', '37440', '10790', '9308', '14340', '23854', '23170', '54000', '21736,2', '5730', '82162', '60720', '25199', '4188', '5097', '16785', '21654', '5963', '14470', '16692', '13448', '17090', '22498', '3729', '13590', '21858', '6492', '11389,2', '8892', '3598', '62240', '15565,5', '9823', '13010', '16648', '12508,2', '15393', '11751', '5857', '9484', '9347', '8529', '3396', '30372', '26989', '35201', '6049', '15850', '19050', '86071', '19883', '11202,3', '26099', '35529', '24272', '14860', '15856', '17594', '17700', '23774', '11689', '11779', '5504', '41994', '30510', '17988', '42320', '18027', '23389', '32175', '62700', '13216', '6270', '6168', '23160', '8221', '34500', '5755', '2629,8', '19040', '11266', '8330', '10339', '4328,1', '16040', '25574', '3717', '6330', '16285', '14133', '12840', '6620', '4497', '6993', '3904,3', '21240', '20800', '6939', '28079,84', '17298', '29599', '27060', '6938', '4964', '10233', '8995', '11034', '19611', '4379', '15650', '7763', '11692', '3240', '22394', '5384', '3035', '39028', '13021', '16290', '14060', '6440', '37710', '13229', '20040', '18251', '32970', '28490', '11930', '5250', '9664,5', '17111', '12499', '14930', '18370', '14110', '4099', '19799', '20999', '12762', '19990', '21590', '12945', '12424', '4812', '23990', '12560,01', '3195', '11098,8', '22269', '13916', '7766', '13078', '7651', '3170', '24301', '97026', '2490', '13990,92', '2119', '23850', '3356', '39780', '23577', '6940', '24119', '44500', '26020', '29997,24', '4576,5', '21209', '10140', '10805', '4590', '2974,15', '20583', '37017', '99308', '15940', '27744', '6400', '5030', '34905', '5023', '18290', '14639', '26774', '13680', '25980', '19905', '4542', '16048', '43515', '47195,92', '51140', '24871', '10672', '8230', '6519', '10429', '8698', '3718', '25904', '2950', '10803,84', '16875', '32490', '17670', '18105', '53400', '10000', '12610', '99540', '14185', '16670', '14773', '28450', '16736', '76000', '13310', '19439', '8850', '39327,2', '8990,9', '9456', '14570', '20510', '9315', '23268', '22430', '13383', '35450', '35943', '7799', '11528', '3187', '35145', '6863', '22945', '16653', '13640', '12160', '27986', '9956', '12396', '6865', '3979', '36570', '18899', '34630', '14383', '9440', '13263', '17998', '8689', '2819', '20987', '24340', '19797', '19877', '9425', '30011', '26120', '18654', '23280', '13199', '25508', '5794', '21770', '3322', '22369', '60500', '10084', '14240', '20317', '39500', '3230', '17999', '94720', '12542', '27934', '6420', '4968', '11810', '10483', '11700', '14388,3', '14770', '14856', '7909', '20268', '16141', '19382', '11760', '21989', '8381', '8860', '13208', '21901', '88312', '24420', '14497', '16634,5', '17800', '39160', '10525', '2380', '7335', '14453', '30150', '7272', '8405', '17460', '30300', '13930', '21150', '6766,4', '25899', '10795', '18819', '14380', '3100', '56340', '21940', '16760', '17660', '10185', '7247', '15280', '34195', '12132', '20852', '20053', '9798', '16199,2', '5852', '20086', '26500', '17649', '7795', '30918', '3199', '96200', '12173', '21895', '18890', '9237', '23737', '37780', '10463', '23095', '21042', '11480', '31882', '4851,81', '25625', '23050', '3930', '21330', '29742', '4770', '25100', '75581', '9830', '5346', '12833', '32750', '14245', '5749', '25587', '6507', '20609', '3989', '18990', '7300', '26489', '14168', '23975', '14598', '25588', '19843', '51200', '48920', '4499', '22904', '13280', '3749', '21086', '25881', '27781', '21619', '14348', '19998', '12460', '27260', '5535', '2900', '7970', '33459', '5377', '7174,6', '22970', '25500', '12320', '3840', '58640', '16160', '4098', '23659', '4168,8', '24519', '25480', '24357', '24897', '3320', '2559', '17930', '8515', '3114', '13649', '19143', '8078', '2970', '17906', '13001', '23259', '32540', '53499', '11321', '4889', '28410', '22927', '18130', '8377', '67950', '3565', '24605', '13745', '19630', '5297', '7860', '33292', '21405', '9529', '39627', '5768', '8889', '13227,7', '2500', '13941', '4110', '2745,9', '19650', '13435', '12899', '9301', '11487', '22896', '17099,1', '19560', '9452,97', '6605', '2224,8', '23999', '10010', '10419', '18690', '3420', '14780', '9931', '26379,91', '19600', '5427', '11665', '9760', '7604', '13356', '18573', '18004', '4060', '35600', '6860', '11240', '4170', '4351', '20190', '16467', '23830', '18450', '4190', '25570', '4122', '8295', '19230', '4788', '7910', '11288', '35060', '7130', '10605', '18990,5', '25720', '24778', '30800', '7228,2', '27877', '12868', '6982', '11310', '7394', '30599', '6108', '7101', '11817', '13173', '16300', '28810', '21726', '9813', '81000', '46600', '21195', '3681', '13165', '12136', '6747', '35522', '6336', '28224', '27150', '12213', '13490,2', '9988', '20280', '5936,81', '10057', '56130', '13050', '15490', '18895', '9406', '52000', '22167,6', '19895', '4624', '61915', '10422', '10740,64', '61920', '12597,3', '25936', '15930', '23498', '3238', '5645', '19929', '2633', '22194', '22162', '7032', '11970', '4275', '12463', '3880', '5835', '13390', '28308', '23985', '18997', '13400', '20610', '6370', '19960', '7695', '33660', '28700', '3046', '6350', '4262', '5240', '15237,1', '12919', '8200', '10566', '16897', '2240', '5625', '16272', '14200', '20939', '45750', '42940', '26750', '18074', '23396', '21580', '26960', '13275', '18269', '24945', '7011', '5938', '8564', '9009', '6139', '3069,9', '6100', '4345', '10767', '10499', '4488', '11175', '16544', '9496', '5128', '16989,92', '10576', '17073', '17025', '36000', '14000', '30430', '16669,84', '22480', '24059,83', '11753', '11900', '17247', '23517', '5745,12', '6007', '5119', '12890', '4973', '15732', '7892', '12425', '4270', '12310,91', '35400', '20698', '6282', '31875,3', '3520', '3680', '29075', '6142', '7404', '3089', '25492', '18868', '17556', '21207', '17300', '6990', '22469', '10497', '16112', '22660', '21473', '5865', '12935', '16561', '74319', '24085', '4403', '25020', '38200', '2160', '19620', '5545', '4169', '4779', '14350', '13841', '14875', '7289', '4967', '2360', '5798', '32100', '13843', '6779', '4843', '29970', '7135', '3215', '40080', '29615', '16766', '12514', '29294', '64660', '5687', '20443', '14744', '5778', '7649', '8770', '49743', '8741', '7590,31', '13235', '22977', '11853', '46671', '7198', '7523', '8498', '4041,9', '4961', '9820', '83194', '2498', '8970', '11601', '11651', '2088', '7400', '9846', '10655', '4004', '5099', '15250', '19500', '17162', '5630', '43880', '3180', '28350', '18999,2', '12903', '14845', '26889', '2638', '24330', '4835', '6707', '28565', '5931,8', '3276', '12478', '12400', '6097,5', '21870', '14610', '19938', '20313', '49860', '9060', '39900', '33340', '28417', '35767,4', '26890', '14490', '21936', '44030', '6469', '23137', '11666', '21290', '17789,2', '15599', '61250', '5408', '2871', '16512', '6561,9', '29905', '25146', '8600', '16530', '4827', '65400', '7780', '10430', '4200', '5871', '12999', '8755', '7348', '9351', '5109', '7563', '5357', '2955', '16920', '4660', '50970', '7000', '14994,6', '6559', '4915', '16000', '3894,2', '3442', '7919', '24800', '14940', '11860', '14204', '2490,92', '14005', '14595', '21112', '19377', '7407', '24844', '28338', '10870', '19572,1', '21123', '20992,78', '12380', '9240', '29592', '9889', '14700', '8777,1', '7116', '5699', '6885', '17203', '8771', '3028', '13591', '73996', '3770', '19128,41', '5253', '10631', '15704', '7551', '4645', '14044', '25260', '24344', '20995', '8487', '9919', '16081', '30615', '62800', '2831,97', '10116', '6161', '3848', '29990', '22075', '18472', '8102', '15403,02', '21717', '16092', '25406', '20562,2', '4990', '20856', '9420', '5005', '7430', '17254', '25320', '14766', '10992', '22495', '19417', '9973', '5242,3', '17415', '8400', '25829,1', '16798,2', '22864', '3616', '8912', '20393', '20220', '26710', '5735,7', '27065', '28890', '9999', '34650', '21615', '13598', '7747', '3892,2', '7235', '6776', '35940', '7586', '3575', '9326', '16324', '17865', '12398', '4919', '9597', '10935', '6580', '7368', '80440', '3800', '12474', '4785', '10884', '29199', '4186', '12989', '41600', '12518,5', '27005', '39025', '3825', '3357', '5290', '7380', '9219', '18006', '6619', '8644', '24027', '38880', '14840', '27780', '7478,2', '14678', '11498', '52250', '6119', '26886', '10432', '13179', '58541', '4302', '15221', '6941', '5174', '44700', '15870', '9748', '21620', '50098', '26485', '98996', '3072', '98644', '12360', '8619', '9570', '4572', '11085', '33344', '12557', '16010', '15658', '4979', '50652,94', '27820', '12090', '5399', '28440', '10910', '7709', '7541', '78390', '8416', '14260', '3480', '11116', '17550', '21500', '5279', '4984', '62550', '3798', '9927', '4885', '10837', '13921,36', '16428', '28983', '11639', '4070', '11000', '3750,91', '6120', '31221', '4970', '13060', '48580', '10575', '5805', '43950', '16169', '7595'}\n",
      "\n",
      "\n",
      "==========\n",
      "FST_PAYMENT\n",
      "{'1958', '1000,67', '490', '1730', '1899,8', '7995', '941', '816', '1880', '3297', '268', '1704', '1389,8', '1805', '1004', '1682', '7764', '2239', '6200', '800', '3537', '636', '557', '1012', '3489', '7520', '3749,74', '1609', '1300,92', '1840', '732', '1004,2', '4750', '485', '1246', '514', '9600', '9375', '11200', '747', '2825,5', '6000,1', '5500', '690,95', '54870', '7350', '11990', '15600', '3599', '3739', '5155', '680', '2567', '9685', '3774', '1720', '1969', '838', '1042', '1999,94', '2151', '1376', '4510', '518', '48210', '5985', '2011', '7185', '2062,5', '1860,9', '3223', '3335', '2245', '6115', '7477', '1970', '2373', '2080', '1543,5', '510,9', '3760', '1457', '3750', '4490', '1975', '1500,5', '6599,8', '3609', '1689', '4476', '3621,7', '1216', '1701', '4686', '8328', '7200', '2887', '1605', '3064', '6699', '6950', '350', '4399', '2000,9', '7660', '10152', '835', '60245', '964', '6650', '1284', '893', '8650', '4450', '17610', '942', '3730', '35000', '669', '6777', '5790', '1268', '12251', '3597', '2528', '921', '2039', '9300', '3049', '933', '4434', '2702', '3900', '687', '19151', '1364', '16000,1', '752', '5000,91', '1147', '3666,2', '4597', '1469', '2263', '6513', '1255,41', '4280', '2099', '571', '737', '5517', '1823', '2670', '4145', '4000,5', '1781,83', '2997', '3270,82', '3398', '7125', '2869,9', '2340', '1020', '431', '1220', '1000,1', '6326', '2013', '524,85', '2564', '5148', '3524', '3596', '1936', '2861', '464', '7631', '3334', '1200,8', '1629', '6923', '4320', '1834', '1830', '3183', '1978', '3516', '364', '10200', '367', '29080,92', '3403', '2000,79', '70940', '1252', '323,25', '2560', '413,1', '6890', '1215', '3703', '2096', '1091', '10350', '847', '10097', '3300', '496', '685', '393', '988', '1597', '2610', '7811', '404,1', '1930', '2940', '11548', '2259', '16500', '499', '3250', '1244,7', '4746', '681,2', '4752', '4500', '9000', '635', '39910', '4100', '3000,92', '705', '9900', '1292', '2949,7', '1201', '1190', '1695', '1368', '54230', '4210', '959,3', '5532,66', '3108', '2784', '3498', '1013', '1573', '695,2', '2698,93', '3415', '2271', '2414', '25400', '2840', '1309,65', '860', '746', '3595', '9793', '3370', '8750', '1948,92', '4830', '5383,85', '1180', '736', '4992', '1877', '3380', '9096', '1250', '2597', '713', '2331', '38800', '3280', '5375', '4310', '888', '2616', '18800', '1685', '1207', '2152', '2046', '5361', '1287', '710', '1049', '52182', '2235', '1051', '6480', '9472', '891', '1566', '6387', '10098', '2383', '9047', '1639', '1670', '3850', '5990', '8800', '3976,32', '618', '1337', '2330', '1247', '2810', '7464', '2966,2', '515', '2372', '2990', '14500', '2000,22', '1980', '5786', '1322,9', '6050', '9845', '2015', '2390', '456', '905', '439,95', '6481,31', '6646', '10500', '1610', '3482', '1369', '2635', '250,6', '2877', '5036', '3685', '2413', '26000', '53541', '9996', '3545', '1040', '670', '6541', '911', '4666', '7261', '4091', '3363', '1400,95', '5060', '1041', '1482', '1272', '519', '1056', '1921', '4000', '1084', '14220', '1199', '39600', '3440', '1708', '3202', '465', '3124', '14990,94', '5979', '2870', '3134', '1093', '1995', '1361', '4082', '3439', '10460', '8389', '1500,95', '13790', '3350', '1884', '5000,87', '2935', '13580', '7095', '2398', '24500', '1305', '628', '1196', '7174,87', '756', '820', '41580', '6782', '949', '1528', '249', '2370', '729,1', '2349,6', '4027', '1789', '532', '2310', '2843', '7148,1', '960', '620', '463,2', '3105', '3277', '11660', '2150', '4080', '11600', '1722', '9250', '11292', '1249,95', '5844', '362', '1477', '4978', '1625', '1001,7', '757', '5170', '8900', '10090', '336', '738', '637,3', '542', '31350', '3425', '3660', '855,9', '6396', '2022', '1100', '1279,9', '779', '1874,7', '363,5', '2643', '2518', '7669', '3235', '1245', '3658', '4675', '6900', '2885', '1293', '13000', '1460', '4587', '9039', '4185', '2892', '9248', '62250', '2540', '1815', '730', '10431', '1610,4', '1625,2', '1640', '1253,7', '2156', '3619', '6290', '11230', '446,05', '1139', '28257', '1058', '1110', '2200,91', '2975', '2289', '943', '9272', '8500', '613', '520', '650,95', '10800', '1016', '229,5', '2888', '31000', '1635', '5050', '868', '440', '638,7', '4155', '4275,2', '7519', '1523', '873', '644', '416', '2500,2', '3710', '5705', '676', '1800,1', '4197', '7953', '12012', '269,1', '2044', '3550', '9325', '7230', '1809', '4343', '3364', '344,8', '16100', '478', '1000', '9664', '2632', '10723', '2444', '3200', '855', '10177', '9602', '1912', '895', '3159,86', '3935', '929', '3209', '1999', '1141', '473', '3245', '868,83', '4820', '3278,9', '958', '1598', '1677', '1077', '2515', '880,2', '1089', '5820', '4160', '558', '793', '552', '5750', '2930', '830', '11754', '2300', '1408', '5980', '1094', '8000,91', '1366,05', '645', '1726', '41774', '1039', '2947', '814,2', '7420', '5609', '5950', '1438', '781', '444,1', '1030', '3252', '759', '479', '6196', '2192', '56638', '780,1', '13519', '5722,21', '4775', '2450', '688', '889', '760', '4949', '5095', '3711', '5000,8', '2857', '629', '515,85', '13776', '2437', '4900', '27350', '2482,84', '4580', '1869', '1124', '912', '3078', '1210', '2458', '50', '8040', '2864', '9663', '3374', '1381', '770', '650', '1130', '848', '834', '3120', '1660', '594', '3790', '5226,9', '1515,7', '283', '4817', '11076', '2115', '7567', '3359', '7820', '26090', '6641', '642', '674', '6151', '21648', '1411', '3451', '22399', '21839', '2110', '299', '887', '15000', '522,4', '2335', '1003', '12044', '3392', '1015', '3210', '247', '15680', '4360', '15701', '720,2', '2200,05', '718', '4504', '623', '1875', '1493', '2223', '1565', '1095', '2697', '11560', '2998', '6317', '7794,92', '1213', '1650', '1545', '25405', '11673', '2588', '4455', '640', '1581', '451', '54929', '7776', '956', '2855', '230', '50642', '1120', '999', '1011', '7019', '1959', '1770', '2580', '1008', '29860', '2816', '3639,5', '75500', '1922', '2595', '1999,8', '2420', '2457,9', '1491', '4828', '6491', '4579', '1599', '9770', '10759', '8640', '8', '709', '1751', '723', '2345', '301', '5300', '0', '1000,92', '1680,82', '3000', '50120', '4011', '2490,95', '1370', '1835', '1962', '1165', '1866,6', '6127', '4235', '1195', '1330', '12600', '1417', '1458', '6000,81', '1475', '3060', '3140', '2845', '3045', '4653', '9550', '6600', '681', '7100', '545', '973', '2327', '13300', '1638', '5140', '9288', '455', '3448', '3763', '2155', '55982', '2286', '1230', '12300', '5735', '11762,27', '598', '3299', '3602', '4517', '10400', '1731', '6554', '917', '8190', '3975', '1735', '3160', '5600', '470', '10147', '846', '26550', '4395', '7259', '1394', '2027,7', '7250', '6399,9', '400,2', '376,21', '1779', '1197', '2754', '1326', '5200', '549', '694,2', '2865', '7500', '1855', '18589', '5838', '965', '10227,2', '7670', '6837', '18152', '600', '700,83', '4444', '2079,02', '9784', '4498', '4550', '10515', '1269', '2442', '1892', '4815', '1251', '1355', '1399,8', '7900', '2166', '971', '12000', '9490', '1261', '903', '42518', '5260', '19958', '2708', '550', '1700,92', '436', '445', '1350', '2000,85', '3257,04', '13650', '4768', '3650', '1559', '5902', '832', '6509', '3510', '17110', '9068', '2729', '39487', '1288', '2206', '5450', '7082', '910', '53530', '4198', '2405,69', '3050', '3435', '4536', '13500', '2140', '9991', '2586', '4393', '1890', '3000,4', '2244', '48800', '4800', '5045', '13670', '4910', '280', '777', '2716', '2384', '18375', '692', '1000,95', '3270', '3470', '10330', '16250', '649', '9910', '2916', '1656', '1615', '2954', '6410', '1392,4', '1264', '4053', '1047,82', '3000,91', '432', '250', '30000', '1540', '579', '58800', '304', '754', '500', '3214', '16657', '1498', '5150', '608', '20235', '3870', '1899,9', '2532', '1371', '3490', '10700', '2811', '468,1', '1802', '3087', '6598', '3444', '5001,9', '1818', '780,3', '5690', '2749', '2898', '1820,94', '7270', '556,2', '28000', '5398,1', '1499', '3569', '1463', '11320', '3698', '1313', '6835', '272', '20550', '22400', '1356', '2798', '1651', '285', '5540', '469', '1160', '390', '34000', '1487', '426', '11080', '1937', '2375', '553', '21900', '4823', '2299,8', '13772,82', '7110', '5610', '588', '853', '5767', '8100', '14640', '13203', '2283', '5352', '2535', '627', '2260', '745', '828', '2491', '1070', '2135', '808', '5340', '2010', '10026', '3104', '3740', '8008', '7950', '1000,2', '4348', '9960', '870', '2007', '690', '23000', '342', '5130', '10041', '7800', '2430', '22000', '2338', '1431', '10516', '5033', '567', '9200', '498,6', '1481', '373', '3080', '1424', '49038', '3450', '2237', '2765', '4340', '6300', '18000', '8120', '2653', '6875', '22500', '9699,69', '8940', '1680', '48052,1', '1474,3', '13613', '10706', '953', '1098', '2000,2', '8945', '769', '2553', '1898', '6325', '739', '728', '4697', '1155', '1790', '3484', '2180', '3969', '890', '2920', '1745', '574', '1847', '2333', '18719', '1619,95', '2060', '4720', '1563', '2190', '4989,92', '9400', '682', '1522', '3165', '6532', '7845', '1549', '1489', '3433', '2218', '7118', '2720', '1717', '1111', '2125', '2880', '3990', '2698', '3997', '1534', '5726,3', '4632', '3169', '311', '384', '2006', '5472', '2740', '1933', '1767', '1952', '379', '3371', '4739', '6750', '677,3', '8000', '5461,11', '5752', '1302', '1152', '2493', '5812', '2780', '8680', '11221,5', '985', '1899', '969,8', '2620', '1273', '790', '2879', '1910', '5550', '1515', '948', '3092', '4806', '1384', '2665', '1955', '11425,8', '3100,3', '4995', '9955', '776', '9800', '7816', '1399', '12358', '3055', '3700', '258', '1670,69', '6340', '480,9', '4315', '16400', '2204', '11800', '2667', '2751', '2517', '970', '1303', '2290', '7964', '1240', '4184', '3099', '1648,5', '3469', '1059', '1320', '1150', '10051', '1540,84', '1691,6', '7707', '2034', '14760', '5044', '458', '564', '7990', '13200', '9700', '299,1', '1535', '1850', '5198', '1146', '5660', '952', '950,92', '2062', '2285', '3097,8', '839', '3511', '7124', '631', '6217', '539', '1588', '14935', '46500', '3110', '11024', '1799', '12500', '1271', '2409', '2248,1', '3298', '4712', '2017', '1690', '940', '744', '1700,95', '9788', '413', '9500', '6010,3', '9457', '25599', '5445,92', '575,2', '1571', '2324', '648', '7000,5', '3907', '1046', '1399,7', '3600', '2041', '9790', '4199', '5521', '2625', '200', '5108', '4045', '1561', '4370', '5081', '599,95', '2640', '5010', '2179', '1238', '2584', '9661,66', '724', '316', '4352,37', '22097,99', '2440', '824', '5387', '339', '1243', '2680', '7480', '1153,5', '2228', '947', '457,5', '3249', '13818', '3318', '2760', '1860', '825', '2045', '44963', '1081', '1849', '2348,8', '6957', '5560', '10557', '49356', '511', '1115', '1820', '3416', '2000,6', '3610', '6075', '3159', '1170', '2510', '998', '567,3', '1200', '3100,1', '2900,5', '4138', '18080', '4390', '40000', '3492', '26802', '5210', '40100', '2238', '4287', '3095', '2129', '3137,9', '10696', '2999,9', '1185', '368', '8342,38', '341,1', '861', '15091', '1693', '7547,8', '320', '19924', '9254', '818', '27000', '3950', '1053', '449,1', '12700', '2985', '2287', '583', '3090', '2482', '1090', '4387', '53370', '160', '4095', '5761', '6948', '2989', '5120', '6820', '2222', '974', '3340', '715', '1373', '2696', '2077', '1026', '2860', '1082', '10205,5', '925', '653', '2593', '9016', '3943', '2076', '622', '1740', '1648', '1255', '9040', '1759', '2316', '2253', '276', '1029,41', '6575', '3765', '10527', '1204', '6910', '1179,6', '3999', '21094', '2399', '1786,9', '3275', '2980', '3030', '530', '6160', '11597', '3265', '2000,92', '450', '633', '539,09', '508,5', '4521', '5022', '2613', '1099,9', '5730', '1121', '541', '340', '1410', '1158', '7507', '3186', '3502', '5097', '3003,3', '3677', '610', '1390', '9530', '14440', '1999,2', '987', '3688', '4498,91', '7659,01', '1265', '1763', '217,5', '1329', '1365', '1399,3', '345,3', '21750', '930,91', '20890', '6999', '1176', '3568', '5928', '1333', '9391', '2915', '2323', '2270', '1271,1', '1188', '2355', '1318', '2090', '8390', '3194', '900', '2070', '1178', '5244', '1595', '256,2', '5850', '10230', '388', '45000', '2926,4', '3538', '780', '326', '2710', '4239', '3910', '205', '2598', '7740', '749', '859', '989', '50500', '13526', '43359', '3360', '1005', '878', '4353', '150', '10950', '1306', '813', '1568', '359', '1819', '4680', '8816', '13360', '699', '6138', '2578,8', '4364', '4809', '1392', '1996', '3158', '11689', '30660', '25131,59', '3984', '5504', '2328', '1509', '1500', '1516', '1901', '1703,2', '8480', '1575', '555,2', '389', '1363', '2437,5', '1132', '8125', '10', '1065', '3293', '6933', '1202', '6603', '601', '570', '3687,5', '1634', '3136', '10900', '2350', '6534', '590', '11233', '1453', '11090', '6500', '2910', '740', '2132', '4274', '4263', '4567', '13100', '14753', '2231', '1484', '2630', '2750', '1915', '10550', '765', '2357', '3717', '2346', '1608', '2508', '2460', '11440', '1924', '238', '4916', '1064,2', '1440', '559', '2364', '799,92', '437', '213', '2800', '2028', '3212', '1771', '16481', '1737', '2241', '1928', '3980', '3815', '439', '742', '9824', '4935', '3240', '616', '1950', '1533', '2294', '2901', '2690', '2712', '507', '663', '1442', '1143', '3902', '799', '3023', '3810', '1434', '334', '24500,03', '7506', '8998', '5250', '3084', '479,8', '513', '754,2', '1510', '1348', '1319', '1845', '2210', '735', '10240', '7913', '2040', '19990', '1181', '5670', '1069', '2703', '560', '4846,96', '2599', '3195', '2100', '1312', '3205', '1495', '1808', '332', '9020', '2053', '457', '4565', '3330', '2775', '3170', '386', '353', '14190', '2490', '4629', '5746', '2500,95', '1278', '6945', '4319', '5440', '10467', '60432', '2078', '6257', '1172', '306', '5710', '6610', '1087', '1979', '562', '1897', '33694', '10695', '44500', '2608', '7049', '3000,68', '1490', '12335', '3157', '874', '786', '6800', '120', '9445,95', '75606', '10140', '1395', '1570', '4590', '1102', '177', '862', '13126', '2778', '510', '1596', '6400', '16293', '10100', '8923', '2499', '2934', '13539', '4346', '6543', '3752', '6929', '9574', '5940', '5023', '2299,9', '1800', '3650,1', '3495', '381', '4647', '17669', '2394', '827', '538', '1888', '5744,5', '1266', '1126', '5817', '531', '2477', '1873', '1071', '377', '3328', '1876,25', '475', '1290', '6519', '2199,95', '3346', '2796', '9520', '772', '2950', '349', '867', '3043', '1829', '1900', '3073,8', '10933', '10000', '2538', '3310', '1866', '1752', '675', '1960', '503', '1514', '2605', '1182', '586', '3304', '11020', '1508', '6625,16', '2763', '4400', '16070', '7528', '2047', '4081', '2084', '1281', '2248', '2852', '2466', '8710', '2467', '337,1', '1310', '1393', '11528', '3995', '869', '223', '2200', '1914', '7553', '2121', '3369', '2698,89', '4600', '300', '18400', '1060', '2020', '10267', '1512', '168', '727', '1765', '2455', '2549', '4225,44', '10489,92', '535', '2230', '4335', '1842', '795', '9425', '2832', '3339', '1103', '5366', '3162,71', '11382', '6730', '468', '14448', '1810', '0,92', '5143', '26410', '2001', '3015', '2651', '1679', '2130', '407', '1179', '8064', '3318,4', '1824', '2112', '2278', '4898', '3230', '658', '400', '1550', '10512', '6975', '19950', '1831', '4430', '25000', '3570', '2173', '460', '3037', '12910', '2067', '1050', '775', '4742', '4300', '419', '863', '1520', '1488', '8734', '4289', '1715', '6228', '352', '5631', '6000,95', '8618', '1666', '2846', '1400', '596', '10525', '2380', '2999,6', '1125', '5847', '459', '18588', '2031', '422,1', '695', '3173', '363', '990', '415', '1254', '982', '10162', '10795', '3534', '6323', '4480', '7822', '3100', '668,71', '1828', '2178', '936', '815', '3039', '606', '5248,91', '12520', '7243', '800,82', '655', '5800', '3264', '999,2', '19556', '4048', '276,6', '1260', '1175', '10637,7', '1717,92', '30303', '5999', '669,3', '1940', '7795', '425', '346', '2604', '247,2', '383,2', '16350', '51127', '41000', '10619', '3669,6', '1854', '1725', '8688,09', '1785', '1270', '2826', '729', '1338', '5562', '2136', '2568', '1768', '16086', '1973', '2772,13', '5074', '962', '3000,95', '3899,95', '798', '659', '3745', '1702', '29590', '5811', '5998', '10007', '8250', '546', '2504', '938', '4850,8', '6844', '8879,48', '672', '1894', '7531', '918', '667', '39804', '3930', '13395', '1989', '2937', '3172', '1398', '2315', '3960', '8349', '4770', '3333', '421', '49582', '592', '4020', '3266', '1297', '32750', '2480', '2500,4', '1949', '19000', '1991', '16668,82', '4851', '656', '7300', '1233,2', '60360', '1050,33', '589', '2410', '1591', '2700,75', '1778', '3294', '2878', '1512,1', '612', '5760', '4499', '687,7', '4139,36', '1987', '299,92', '3284', '1750', '1383', '2201', '1092', '7836', '1876', '2000,4', '50000', '50442', '3088', '418', '5437', '3000,2', '1294', '5708', '2470', '1885', '2547', '1050,92', '4983,2', '2900', '3500,6', '7165', '2858', '2000', '1340', '7495', '319', '4330', '508', '2655', '3840', '260', '691', '2369', '4098', '1956', '9480', '3220', '16484', '2400', '40664', '3390', '3391', '1045', '1796,94', '234', '292,2', '5899', '1280', '3320', '529', '2495', '140000', '1444', '15500', '16750', '2559', '13700', '2753', '726', '17930', '1135', '4268,72', '3114', '309', '24000', '330', '2970', '698', '2700', '845,5', '1341', '3245,95', '18900', '854', '2572', '6000', '10095', '6670', '4000,9', '542,2', '717,2', '10425', '1353', '2347', '9898', '4000,91', '210', '1034', '33590', '3463', '1430', '7805', '5999,2', '15939', '2288', '899', '23900', '1899,1', '1708,5', '1351', '4700', '1340,92', '10000,2', '1080', '433', '1171', '10015', '2368', '2500', '833', '2849', '7020', '4260', '1525', '4110', '3555', '380', '3590', '7447', '3720', '3916', '4086', '652', '527', '1994', '797', '15140', '555', '4177', '7590', '10434', '1544', '3500', '197', '2569', '1119', '1200,2', '792', '65000', '1002', '1649', '1063', '3605', '10750', '1405', '4937', '1557', '630', '1231', '6785', '4060', '660', '524', '4944', '387', '5002', '383', '366', '1619', '4980,91', '1813', '1161', '14100', '1837', '1497', '1620', '4190', '1168', '20595', '1560', '1480', '1786', '11890', '5192', '2634', '4788', '1961', '2689', '2803', '4186,59', '3126', '14221', '1036', '561', '4206,8', '1655', '40758', '810', '3449', '2674', '1148', '651', '3670', '2375,68', '1546', '2098', '2325', '10000,92', '7882', '7700', '1116', '1010', '1290,6', '677', '4523', '4030', '8650,48', '3795', '3885', '2429', '4363', '3718,2', '677,5', '1339,9', '734', '2863', '3288', '1935', '2830', '4715', '2433', '2668', '2514', '1841,91', '13807', '7750', '2213', '5245', '711', '1920', '4018', '3829,6', '615', '1379', '920', '225', '1450', '7240', '544', '36330', '1530', '605', '2835', '11027', '8751', '9838', '4398', '392', '783', '11337', '2587', '686', '706', '9750', '4798', '371', '755', '1258', '1072', '3337', '5234', '2415', '2614', '1239', '42906', '2911', '4050', '3880', '9528', '2320', '4267', '11044', '1343', '4551', '2472,5', '34923', '1705,5', '305,1', '13400', '712', '1671', '6370', '934', '1374', '1517', '1374,88', '3678', '5580', '485,2', '2770', '720', '5240', '980', '176', '15670', '4000,22', '8200', '8082', '2240', '5900', '405', '646,5', '778', '1721', '3385', '14200', '13140', '35800', '573', '9871', '249,3', '1035', '2570', '449', '602', '480', '2790', '3779', '3800,2', '9267', '1075', '1445', '1225', '981', '159', '2890', '767', '1327', '697', '6100', '880', '750', '811', '2952', '509', '100', '5784', '1703', '9270', '704', '857', '4358', '2850', '1630', '1299', '3414', '8688', '1501', '5246,5', '626', '1422,6', '5400', '9190', '293', '2649', '2220', '7142', '1889', '29500', '14000', '3236', '517', '11500', '6357', '1226', '3735', '3148', '6445,86', '696', '3830', '11900', '1386', '5320', '1504', '6007', '1198', '2690,92', '3086', '2520', '508,79', '75570', '1871,75', '1784,81', '576', '1567', '1556,8', '2365', '3899', '877', '4270', '965,92', '5350', '2265', '488', '5703', '3520', '290', '3680', '395', '554', '25089', '3290', '54080', '2688,69', '1380', '420', '2685', '3014', '438', '2981', '281', '424', '485,8', '3138', '3411', '3846', '8450', '6990', '868,42', '1048', '10497', '2016', '5373', '1700,91', '5460', '1574,1', '6297', '375', '995', '6320', '516', '9979', '599', '1500,2', '4403', '2160', '2923', '10394,5', '6789', '4619', '2459', '725', '979', '240,6', '7623,3', '2962,1', '875', '2092,94', '34492', '8522,2', '251,1', '2360', '1479', '3787', '1686', '370', '29032', '2899', '540', '3215', '5305', '955', '20000', '764', '7600', '1129', '528,5', '771', '10000,1', '772,3', '4870', '7080', '11924', '788', '1257', '9418', '4250', '9411', '8320', '1519', '443', '2498', '13750', '1806', '55000', '372', '837,91', '2088', '7400', '2024', '1776', '694', '1632', '14385', '915', '3298,92', '3180', '3135', '1997', '230,3', '1800,2', '1433', '3187,74', '3107', '2175', '1883', '14806', '2776', '2574', '842', '1418', '606,2', '7298', '3794', '1093,4', '0,95', '1622', '15900', '774', '5890', '4948', '6398', '2019', '10981', '1547', '1289', '2197', '6495', '3874', '5000', '1939', '2352', '4690', '3020', '2469', '6174', '1880,2', '391,2', '850', '375,2', '1747', '54470', '2387', '5499', '2014', '3149', '2170', '684', '279', '3499', '551', '1710', '16515', '1584', '2159', '21696', '4950', '7945', '1140', '2247', '845', '950', '1555', '1814', '14786', '10560', '5594', '4708', '1055', '4200', '4650', '3454', '1865', '12999', '48156,13', '638', '34698,2', '2030', '840', '1829,43', '2955', '20644', '4660', '13536', '2114', '2958', '7000', '1248', '2358', '4925', '1112', '1455', '6882', '15000,4', '16000', '1106', '15886', '1739,69', '7550', '3442', '24800', '2205', '2233', '9108', '3198', '14940', '5611', '1151', '2199', '11860', '1700', '21000', '553,6', '894', '3901', '49200', '18735', '2029', '2052', '20645', '6820,45', '6240', '7630', '4000,92', '7238,86', '2395', '3311', '5100', '7116', '1275', '1009', '2131', '8540', '4640', '1872', '2805', '1025', '2522', '1590', '2167', '3028', '360', '430', '6712', '3970', '51929', '3400', '1486', '3010', '6995,92', '2403', '10725', '2650', '10650', '11490', '2454', '1661', '1267', '2500,8', '1524', '3585', '2571', '6700', '2419', '4014', '3410', '429', '8263', '1957', '10136', '1452', '1259', '4005', '2988', '2420,1', '1235', '4318', '60488', '580', '500,39', '8499', '6550', '2055', '3260', '23700', '1500,92', '1992', '2499,8', '4953', '1138', '7880', '1018', '4990', '8300', '9922', '5989', '4040', '758', '5038', '46300', '7395', '1107', '8400', '512', '1400,1', '3216', '1572', '3872', '1000,89', '2530', '4194,3', '1295', '25300', '1103,85', '4350', '1841', '12211', '619', '1470', '18850', '3780', '1895', '3679', '1219', '7747', '977', '19355', '9964', '269', '7586', '3575', '1887', '1507', '1600', '4593', '4743', '1788', '3426', '4919', '8099', '8164', '3800', '410', '4986,5', '9730', '1694', '1108', '1123', '2050', '10260', '2807', '3620', '8790', '6748', '7034', '358,1', '1780', '2149', '2550', '6832', '3538,92', '5075,84', '2025', '10729', '9568', '3357', '399', '885', '446,88', '799,5', '639', '1719', '2555', '3413', '525', '2647', '643', '2485', '787', '1328', '2660', '8180', '2186', '5038,1', '3319,7', '6365', '39400', '1099', '1864', '8700', '2615', '1760', '625', '2600', '10008', '2356', '927', '4546,8', '5700', '481,8', '5000,1', '495', '1462', '1360', '2506', '46832', '9639', '63219', '28800', '5145', '365', '3119', '748', '1812', '3822', '2142', '1556', '2730', '2157', '1870', '1229', '9037', '8820', '9754', '2758', '8274', '17500', '900,2', '1256', '3130', '3657', '5667', '3408,8', '10502', '700', '2280', '1279', '643,7', '1674', '2250', '4245', '1291', '8117', '2797', '7128', '2095', '9570', '5814', '1300', '355', '10270', '2279', '54910', '489', '4230', '296,8', '1331', '858', '3006', '23800', '3150', '435', '1360,92', '9498', '12144,42', '7883', '2848', '2590', '582', '315', '17000', '2000,7', '7633', '26565', '930', '19521', '337', '9444', '5650', '2745', '239', '849', '1580', '7541', '10465', '3480', '1503', '11116', '21500', '804,5', '12100', '1310,62', '2198', '637,4', '19430', '5279', '5718', '1222', '3228', '369', '323', '7207', '1982', '1990', '138', '984', '2293', '9695', '1420', '2686', '11000', '5177', '565', '2487', '1653', '634,2', '2004', '448,9', '38000', '1159', '130', '7170', '1821', '10980', '2688', '1385', '10397', '2596', '409'}\n",
      "\n",
      "\n",
      "==========\n",
      "LOAN_AVG_DLQ_AMT\n",
      "{'1789,04', '490', '1730', '2090', '1880', '4920', '2127,1', '3769,3625', '4630', '756,1', '1309,89', '1535,89', '1145,85', '900', '2979,31', '2070', '3635,77', '810', '1591,94', '782,21', '3762,5', '3777,93333333333', '6200', '11310', '0', '800', '110,91', '5850', '6260', '965,1', '1829,73', '1120,93', '509,52', '444', '1222,06', '3000', '3670', '780', '2910,25', '6041,86', '806,19', '2702,4', '2710', '2232,28333333333', '3910', '3630', '1370', '1010', '820,124', '2259,35', '1840', '596,29', '4030', '5428,62', '533', '1200,99', '904,08', '3768,7', '1330', '3360', '2158,72', '2097,97333333333', '2916,18', '5160', '2830', '6080', '1670,18', '2270', '3060', '1321,68833333333', '869,26', '1833,77', '3140', '1176,82', '5500', '959,955', '4680', '1920,9575', '836,6', '1986,88', '1920', '755,063333333333', '7100', '1088,05', '3172,83', '680', '1706,3', '569,121428571429', '920', '1683,49', '1450', '1720', '2044,155', '1530', '5140', '5269,78', '517,51', '2031,34333333333', '970,155', '2326,81', '1292,59', '1329,54', '619,4', '1230', '63,31', '1500', '1889,43', '1029,75', '3691,2675', '1007,8', '1848,05', '979,63', '5545,0225', '554,36', '2186,585', '1970', '5870', '1010,43', '3160', '2779,4', '1942,72', '798,53', '2080', '3760', '433,3425', '2701,5', '518,9', '673,89', '570', '677,474', '4050', '3750', '3880', '2320', '1953,6', '1179,86', '776,59', '2142,2', '1314,11', '605,496', '2350', '1317,06', '2105', '855,675', '946,49', '1314,58666666667', '6500', '846,74', '2910', '740', '6133,41', '1095,61', '975', '1402,92', '6650', '1286,73', '7670', '2770', '812,693333333333', '980', '2750', '2630', '600', '578,06', '720', '438,19', '1127,76', '1477,37', '4450', '2240', '3626,91', '2139,63375', '1138,2', '3589,09', '948,58', '4550', '763,3', '1459,99', '896,1', '1892,238', '1141,06', '1883,04', '684,89', '1440', '560,86', '1093,22', '2570', '2372,77', '3119,99', '480', '769,43', '2790', '766,26', '2379,46', '823,54', '2154,02', '3900', '1091,2', '87,39', '2890', '3433,42', '3024', '2800', '550', '310', '1761,03', '880', '6660', '1350', '750', '3072,475', '1922,69', '2349,51', '100', '3202,2', '1552,325', '1792,71', '1740,19', '3240', '1950', '673,6825', '3510', '2163,94', '2670', '6070', '2850', '1549,18', '4472,91333333333', '62,46', '1630', '3959', '3018,275', '3506,07', '674,263333333333', '910', '2340', '386,666666666667', '1182,23', '1020', '3810', '2276,54666666667', '1220', '1095,89', '1002,60333333333', '3050', '2220', '2462,1', '5397,15', '1386,115', '2140', '1831,51333333333', '3283,1', '1957,21', '4445,6', '1778,635', '1890', '2082,47857142857', '782,705', '1510', '1196,43', '51,8', '2210', '735', '4620', '1160,96', '816,83', '3860,18', '3659,0625', '1258,95', '1272,72', '2040', '4320', '2957,71', '1830', '5320', '1817,76', '1985,3', '2157,32', '1237,24', '1798,49', '988,85', '704,93', '2520', '849,91', '1010,27', '269,51', '560', '3470', '1205,4725', '367', '2598,9', '1147,5', '683,9975', '1085,5', '2100', '1666,28', '2560', '1283,93', '5040', '2386,505', '1412,55', '762,93', '894,29', '2202,69', '2419,9', '2265', '3520', '1845,5', '1004,225', '1615', '1459,54666666667', '1215', '4565', '3330', '5110', '3170', '613,21', '980,42', '954,65', '2490', '2090,53', '1380', '3501,45', '1164,99666666667', '1540', '1116,49', '5370', '3428,56', '2263,2', '767,7', '2679,82', '1359,6', '3300', '1538,69', '1077,03', '500', '2368,84', '2184,66', '2610', '1152,15', '917,57', '1686,92', '3490', '1930', '4120', '2940', '1260,55', '1490', '2088,86', '1639,24571428571', '1296,4', '559,94', '669,12', '642,31', '1312,44', '3250', '2755,21', '2009', '1663,27', '216,59', '2258,3', '1097,86', '1570', '1418,86', '984,79', '1539,13', '1276,66666666667', '2235,225', '1288,898', '2272,5', '2739,76', '1593,76', '2160', '1539,2', '1190', '1966,99', '510', '929,51', '918,55', '5030', '1160', '758,82', '4210', '750,175', '552,57', '553', '478,13', '1800', '1052,63', '13920', '4810', '1599,9', '2360', '1098,8', '1070,05', '1386,96', '872,065', '2406,8', '5430', '370', '18307,16', '849,085', '540', '2840', '860', '2260', '4376,4', '981,71', '339,83', '370,77', '1426,72', '1070', '14870', '0,04', '429,11', '651,16', '1290', '2010', '2059,46', '620,75', '778,32', '1180', '1296,74', '613,12', '2950', '1250', '6390', '879', '2013,19', '1900', '1441,57', '4310', '665,57', '870', '821,45', '3310', '310,126', '2538', '5075,99', '690', '4250', '59,68', '2569,05', '451,495', '446,31', '2509,38', '1068,47', '812,11', '1932,5', '1563,45', '709,96', '2959', '1409,965', '722,59', '2365,47', '2430', '1960', '710', '2237,245', '767,566', '5526,72666666667', '327,98', '809,42', '2262,12', '1107,5', '3180', '2503,19', '1880,59', '4400', '3080', '1670', '875,2', '3850', '4055,03', '1931,44', '1304,0625', '1313,33333333333', '605,32', '2330', '6130', '1879,28', '3716,35', '789,23', '599,19', '2961', '2810', '3106,29', '2476,77', '1680', '1626,75', '3102,49333333333', '4760', '658,42', '3279,705', '240', '2990', '543,33', '796,59', '1310', '9060', '1088,48', '957,59', '752,923076923077', '1980', '2200', '1398,58', '772,73', '966,953333333333', '865,05', '1790', '2467,33', '648,68', '5076,65', '2390', '2247,51', '2180', '1439,94', '890', '1113,74', '3540', '2920', '1402,43', '1724,15333333333', '4600', '1875,70333333333', '1610', '1077,605', '300', '4690', '2590,15', '3020', '2060', '2518,18', '2020', '1060', '1512', '850', '2190', '2782,89', '840,7', '827,57', '682', '535,53', '1405,53', '2699,88', '2230', '1258,69', '1007,36', '1179,394', '1040', '670', '668,53', '2170', '1677,48', '2370,01', '682,56', '2720', '5780', '2742,25', '753', '2070,52', '3322,7775', '2425', '2989,98', '1710', '1810', '1348,68', '791,98', '2880', '3990', '1140', '3040', '1733,88', '2066,905', '2130', '950', '1388,83769230769', '2794,22333333333', '324,16', '724,38', '1594,914', '7780', '860,505', '5603,82', '604,353333333333', '4000', '1867,66166666667', '1264,23', '2293,65', '3440', '830,7', '455,32', '1478,49', '2740', '610,986666666667', '1582,435', '4200', '3230', '1550', '2870', '400', '749,82', '4650', '1056,95', '2549,52', '1781,225', '3570', '2030', '5510', '549,88', '836,79', '1050', '840', '4530', '4300', '2002,45', '5698,46', '1259,43', '1692,49', '1520', '1492,404', '4660', '1844,885', '1427,295', '1072,34', '862,5', '2656,68', '901,64', '5410', '1671,7', '1069,6', '1581,82', '845,55', '837,48', '790', '2441,465', '4220', '1300,386', '1400', '5550', '1910', '911,793333333333', '1221,92', '2380', '1247,92', '1003,255', '2273,72', '1269,82', '2676,2125', '820', '1266,34', '856,64', '2370', '1697,22', '1589,92333333333', '177,34', '1149,495', '4164,34', '8020', '990', '991,19', '2477,64', '2524,28', '49,35', '1208,09', '2310', '472,11', '1508,79', '960', '673,02', '3100', '620', '1700', '1675,75', '989,15', '1149,395', '2178', '558,06625', '2150', '908,78', '526,563333333333', '699,78', '670,085', '2816,25', '198,88', '3315', '2128,74', '1601,63', '970', '2497,09', '990,85', '857,956666666667', '2290', '1240', '2568,45', '2083', '2005,15', '1144,03', '5170', '1288,7', '1320', '1260', '804,32', '2201,11', '1150', '647,42', '1717,47333333333', '4640', '1155,02142857143', '3660', '1590', '1713,74', '1002,22', '6490', '1100', '1940', '1850', '360', '430', '3237,94', '4001,34', '1810,155', '315,796666666667', '2269,565', '3970', '3770', '3400', '4240', '678,2', '1830,2', '3010', '4884,95', '1134,58', '2647,9', '2650', '1745,7', '2466,8625', '631', '1270', '776,3', '433,306666666667', '1460', '2540', '1258,49', '3110', '3539,82', '4827,666', '730', '586,646666666667', '1640', '4290', '1949,8', '882,01', '1411,31', '3410', '726,57', '2707,25', '940', '1690', '1371,86', '687,11', '818,74', '821,93', '2701,26', '1110', '740,575', '1102,7', '4140', '7340', '580', '1241,32428571429', '5872,64', '1731,06', '3600', '3260', '702,23', '3651,445', '2084,32', '1040,78666666667', '846,55', '3530', '440', '3960', '1373,99333333333', '1429,99', '3209,5', '4770', '4370', '1215,45777777778', '2361,22', '2640', '1033', '510,136666666667', '1059,47', '2340,06777777778', '1065,62', '4020', '768,97', '1258,585', '1468,38', '1299,55', '1344,33', '425,97', '779,415', '355,04', '437,26', '568,7', '3089,155', '7010', '2440', '2480', '1634,81', '5830', '2680', '957,63', '2530', '3190', '2629,87', '777,84', '892,95', '1684,04', '1108,96333333333', '1259,71333333333', '4115,33333333333', '1570,46', '4350', '543,17', '1614,36', '3940', '1605,95', '1555,00090909091', '1470', '2410', '3780', '2760', '1000', '1860', '4710', '966,07', '769,915', '1140,2', '2119,77', '1352,85714285714', '3200', '5560', '5760', '1369,755', '855', '1930,595', '2554,005', '986,606666666667', '1894,04', '2690,33333333333', '1175,57', '3127,19', '1820', '1600', '1411,835', '3610', '1033,905', '0,71', '1750', '2510', '1170', '3070', '1066,005', '578,3', '619,73', '1200', '758,95', '407,8', '4390', '3509,805', '763,185', '1608,255', '909,424285714286', '1139,49', '791,56', '2051,5', '825,10875', '2858,6', '880,2', '2429,09', '4160', '1439,9', '2050', '1626', '2470', '1006,59', '1639,99', '567,51', '2900', '3620', '2269,735', '2930', '830', '2000', '5394,29', '1780', '2732,2', '1340', '2796,66', '1288,63', '2550', '600,93', '1230,63', '2300', '3840', '1094', '289,02', '3702,8', '502,1', '499,69', '1509,44', '3303,2', '2585', '2261,19', '1335,47', '2547,85', '1053', '2400', '2925', '2660', '1804,9', '3390', '224,59', '3964,85', '1030', '1325,63', '1090', '1280', '1305,97', '989,39', '1760', '1154,34', '2600', '859,84', '38,32', '2450', '1108,574', '1193,9675', '1135', '1496,3275', '3890', '760', '6310', '1489,13', '859,92', '1275,785', '560,36', '1090,8', '2860', '330', '5048,19', '1360', '3637,43', '1433,4', '887,79', '2970', '2700', '2492,54', '2820', '1283,89', '567,16', '2151,50333333333', '1939,61', '2287,02', '702,565', '1210', '1374,28', '976,68', '651,625', '728,49', '4508,2', '863,68', '1870', '656,705', '2239,37', '663,05', '2315,64857142857', '1768,07', '1740', '650', '770', '849,19', '1130', '2464,55', '1878,86', '2240,34', '1119,27', '630,49', '3120', '1498,26', '2343,41', '94,89', '1199,27', '1649,37', '1113,335', '1093,75', '366,58', '2280', '700', '875,09', '2960', '1597,92', '824,581428571429', '1171,686', '896,31', '2250', '830,53', '497,62', '1430', '3820', '2112,17', '604,43', '603,55', '598,5', '1716,52', '805,86', '1793,66', '3971,6', '1841,9', '582,386666666667', '2185', '1387,15', '2510,2', '4700', '2110', '1080', '1751,37', '3870,25', '1300', '115,65', '270', '1259,1', '588,13', '2500', '9280', '1439,815', '1010,55', '727,63', '1319,56', '2094,3', '1070,52', '1410,53333333333', '532,24', '4729,07', '1015', '4260', '3150', '134,78', '3914,24', '3201,95', '913,4975', '380', '2590', '530', '28012,2', '3590', '3030', '2980', '4158,85', '1909,16', '4940', '2441,4', '450', '930', '588,9', '1742,41', '136,76', '5650', '1899,7', '1259,39', '1580', '3037,58', '481,506', '367,35', '2409,01', '3480', '951', '1399,25', '1197,38333333333', '2120', '1749,69', '3420', '1424,9175', '892,18', '1650', '3460', '3500', '2018,255', '1410', '1959,99', '1636,04', '640', '2101,256', '2751,25', '574,21', '862,43', '630', '1390', '610', '1990', '660', '4070', '1420', '3782,39', '2359,898', '3086,66666666667', '14990', '6689,82', '1391,47', '957,4', '1679,2', '761,866666666667', '1120', '2573,8', '3509,22', '516,18', '1066,605', '1770', '2580', '1144,98', '802,36', '1620', '4190', '1516,872', '957,46', '714', '918,255', '1480', '1560', '1776,96666666667', '1324,41285714286', '1155,125', '1529,06', '1109,855', '1413,765', '457,71', '1851,55', '879,74'}\n",
      "\n",
      "\n",
      "==========\n",
      "LOAN_MAX_DLQ_AMT\n",
      "{'1789,04', '490', '1730', '2090', '1880', '4920', '2127,1', '997,66', '756,1', '1309,89', '1145,85', '3635,77', '900', '2070', '989,39', '810', '3762,5', '6200', '11310', '0', '800', '110,91', '5850', '6260', '965,1', '1120,93', '444', '1222,06', '3000', '3670', '780', '806,19', '6041,86', '2702,4', '2710', '856,3', '3910', '3630', '1370', '1010', '596,29', '1840', '4030', '5428,62', '533', '1387,3', '1200,99', '904,08', '3768,7', '1330', '3360', '2158,72', '2916,18', '5160', '2830', '918,28', '6080', '1670,18', '2270', '3060', '1086,57', '869,26', '1833,77', '3140', '1176,82', '5500', '4680', '836,6', '1986,88', '1920', '1387,47', '7100', '1088,05', '3172,83', '680', '609,52', '1706,3', '920', '1683,49', '1450', '1720', '1530', '5140', '5269,78', '517,51', '1292,59', '1386,14', '1230', '63,31', '1500', '1889,43', '783', '1029,75', '1007,8', '1848,05', '979,63', '554,36', '1970', '5870', '3160', '2779,4', '470', '1942,72', '798,53', '2080', '3760', '1837,31', '518,9', '673,89', '570', '4050', '3750', '3880', '4490', '2320', '1953,6', '1179,86', '776,59', '1300,16', '2142,2', '2350', '1317,06', '590', '946,49', '6500', '846,74', '2910', '740', '6133,41', '1095,61', '975', '6650', '5580', '7670', '2770', '720', '980', '2630', '2750', '600', '578,06', '438,19', '1127,76', '1477,37', '4450', '2240', '3626,91', '1138,2', '3589,09', '948,58', '4550', '1459,99', '896,1', '1729,66', '1141,06', '1883,04', '684,89', '1440', '1093,22', '2570', '2372,77', '1012,9', '480', '769,43', '2790', '937,79', '766,26', '2379,46', '823,54', '2154,02', '3900', '473,16', '87,39', '2890', '3433,42', '310', '2800', '550', '2044,32', '1761,03', '776,6', '880', '6660', '1350', '750', '2349,51', '3560', '100', '3202,2', '1792,71', '1740,19', '3240', '1351,06', '1950', '3780,1', '3510', '2163,94', '2670', '6070', '2850', '1901,3', '1549,18', '62,46', '1630', '3959', '3506,07', '910', '2340', '2782,93', '18310', '1020', '3810', '1220', '1095,89', '3050', '918,83', '2220', '2462,1', '5397,15', '2140', '3283,1', '1957,21', '1890', '1510', '954,34', '1196,43', '51,8', '2210', '4620', '1160,96', '816,83', '3860,18', '1272,72', '2040', '4320', '2957,71', '1830', '1817,76', '5320', '1985,3', '2157,32', '1408,32', '1798,49', '988,85', '704,93', '2520', '849,91', '1010,27', '269,51', '560', '3470', '1370,25', '367', '2598,9', '1085,5', '2100', '1666,28', '2560', '1283,93', '5040', '762,93', '894,29', '2202,69', '2419,9', '2265', '3520', '1845,5', '2064,03', '1615', '4565', '3330', '5110', '3170', '613,21', '980,42', '2064,08', '954,65', '2490', '2090,53', '1672,88', '1380', '3501,45', '1540', '1116,49', '5370', '3428,56', '2263,2', '767,7', '2679,82', '755,76', '1359,6', '3300', '1077,03', '500', '2368,84', '2184,66', '2610', '917,57', '1686,92', '3490', '1930', '4120', '2940', '1260,55', '1490', '2088,86', '1296,4', '559,94', '669,12', '1819,26', '642,31', '1930,47', '1312,44', '3250', '2755,21', '2009', '1663,27', '216,59', '2258,3', '1097,86', '1570', '1418,86', '1539,13', '1860,72', '1593,76', '2739,76', '2160', '1539,2', '1190', '1966,99', '1066', '510', '918,55', '5030', '961,94', '1160', '4210', '552,57', '553', '478,13', '1800', '1052,63', '13920', '1599,9', '2360', '1098,8', '1070,05', '2406,8', '5430', '370', '828,51', '1302,38', '540', '2840', '860', '2260', '981,71', '339,83', '370,77', '1426,72', '1070', '14870', '0,04', '429,11', '4830', '651,16', '1290', '5340', '2010', '2059,46', '620,75', '778,32', '1180', '1296,74', '797,16', '2950', '1250', '6390', '879', '2013,19', '1900', '883,33', '4310', '665,57', '870', '1591,94', '3310', '5075,99', '690', '4250', '59,68', '2569,05', '446,31', '937,6', '2509,38', '1068,47', '2642,83', '1046,01', '812,11', '1563,45', '2959', '722,59', '2365,47', '2430', '1960', '710', '327,98', '809,42', '2262,12', '3180', '1185,5', '2503,19', '1880,59', '4400', '3080', '1670', '875,2', '3850', '3450', '4055,03', '1931,44', '3285,74', '605,32', '2330', '6130', '3716,35', '789,23', '1840,14', '599,19', '2810', '3106,29', '1680', '1626,75', '4760', '658,42', '240', '2990', '543,33', '796,59', '1310', '2589,2', '9060', '957,59', '1980', '2200', '589,45', '772,73', '1398,58', '1790', '2467,33', '648,68', '5076,65', '849,07', '2390', '2247,51', '2180', '1439,94', '890', '1113,74', '3540', '2920', '1402,43', '4600', '1610', '300', '4690', '2590,15', '3020', '2060', '2518,18', '2020', '1060', '850', '2190', '827,57', '682', '535,53', '1405,53', '2699,88', '2230', '1040', '670', '668,53', '2170', '1677,48', '586,5', '2720', '5780', '2742,25', '2425', '2989,98', '1710', '1810', '1348,68', '490,88', '736,3', '791,98', '2880', '3990', '1140', '3040', '1733,88', '840,4', '2130', '950', '2375,59', '324,16', '724,38', '4000', '5603,82', '2058,71', '826,77', '2293,65', '3440', '830,7', '1478,49', '2740', '4880', '4200', '3230', '1550', '2870', '3018,62', '400', '749,82', '4650', '2549,52', '3570', '2030', '549,88', '2398,8', '836,79', '1050', '840', '4530', '1395,7', '4300', '2002,45', '5698,46', '1259,43', '1692,49', '1520', '581,67', '4660', '862,5', '2618,78', '2656,68', '901,64', '5410', '1671,7', '1069,6', '2620', '1581,82', '837,48', '790', '4220', '1221,92', '1400', '5550', '1910', '910,63', '2380', '1247,92', '1783,55', '1324,5', '820', '1266,34', '856,64', '2370', '1697,22', '177,34', '4164,34', '8020', '990', '991,19', '2477,64', '2524,28', '49,35', '1208,09', '620,18', '2310', '472,11', '1508,79', '960', '673,02', '3100', '620', '3700', '1700', '3920', '989,15', '2178', '2150', '908,78', '699,78', '2816,25', '1601,63', '970', '2497,09', '990,85', '2290', '1240', '2568,45', '2083', '2005,15', '1144,03', '5170', '1288,7', '1320', '1260', '804,32', '3357,52', '1150', '2201,11', '647,42', '4640', '3660', '1590', '1002,22', '6490', '1100', '1940', '1850', '360', '430', '3237,94', '4001,34', '3970', '3770', '3400', '4240', '678,2', '3010', '4884,95', '1134,58', '2647,9', '2650', '1745,7', '631', '1270', '776,3', '1460', '2540', '604,76', '5470', '1258,49', '3110', '3539,82', '730', '1110,39', '1640', '4290', '1949,8', '3089,5', '1411,31', '3410', '726,57', '2707,25', '1819,09', '940', '1690', '1371,86', '1105,07', '818,74', '687,11', '2701,26', '1452', '1110', '1102,7', '821,93', '1538,69', '4140', '7340', '580', '943,56', '5872,64', '1731,06', '3600', '3260', '702,23', '2084,32', '331', '2281,1', '846,55', '3530', '440', '3960', '1429,99', '4770', '4370', '2361,22', '1033', '2640', '1059,47', '1065,62', '4020', '1650,53', '768,97', '1468,38', '1299,55', '1344,33', '355,04', '437,26', '568,7', '7010', '2440', '2480', '5980,18', '5830', '2680', '957,63', '2530', '3190', '2629,87', '2289,89', '777,84', '892,95', '4350', '543,17', '1614,36', '3940', '1470', '2410', '3780', '2760', '1000', '1860', '4710', '660,86', '966,07', '1140,2', '2119,77', '3200', '4446,3', '5560', '2497', '5760', '1894,04', '1489,45', '1175,57', '3127,19', '1820', '1600', '3610', '3111,86', '724,93', '0,71', '1750', '2510', '1170', '481,51', '3070', '578,3', '619,73', '1200', '572,22', '758,95', '407,8', '4390', '1139,49', '791,56', '2051,5', '2858,6', '880,2', '2429,09', '4160', '1439,9', '2050', '2470', '1006,59', '1639,99', '567,51', '2900', '3620', '2930', '830', '1828,89', '2000', '5394,29', '1780', '2732,2', '1340', '2796,66', '1288,63', '2550', '600,93', '1450,22', '1230,63', '2300', '3840', '1094', '289,02', '3702,8', '502,1', '499,69', '2102,75', '1509,44', '3303,2', '2261,19', '1335,47', '3220', '1053', '2400', '2660', '1804,9', '2547,85', '3390', '224,59', '2969,75', '3964,85', '1030', '1325,63', '2220,72', '1090', '1154,9', '1280', '1760', '1154,34', '1090,01', '2600', '1479,51', '38,32', '2450', '4960', '3890', '760', '6310', '1489,13', '859,92', '560,36', '1090,8', '2860', '1427,4', '330', '5048,19', '1360', '3637,43', '1433,4', '887,79', '2970', '2700', '2492,54', '2820', '567,16', '605,59', '1939,61', '2287,02', '1210', '1374,28', '976,68', '728,49', '1870,69', '4508,2', '1870', '863,68', '2239,37', '663,05', '1768,07', '1740', '650', '770', '790,77', '849,19', '1130', '630,49', '1119,27', '919,88', '3120', '1498,26', '2343,41', '94,89', '1199,27', '1649,37', '1093,75', '366,58', '2280', '700', '875,09', '2960', '1597,92', '896,31', '2250', '830,53', '489,13', '1430', '3820', '2112,17', '497,62', '604,43', '603,55', '1716,52', '598,5', '1793,66', '3971,6', '1841,9', '1387,15', '2510,2', '4700', '2110', '1080', '1751,37', '3870,25', '1300', '115,65', '270', '1259,1', '588,13', '2500', '9280', '1010,55', '1319,56', '1056,95', '2094,3', '1070,52', '1015', '4729,07', '4260', '3150', '134,78', '3914,24', '3201,95', '2590', '530', '28012,2', '3590', '3030', '2980', '4158,85', '1909,16', '4940', '2441,4', '450', '930', '1742,41', '136,76', '1056,64', '5650', '1259,39', '1580', '1249,61', '367,35', '2409,01', '3480', '2120', '1749,69', '3420', '892,18', '1650', '3460', '3500', '1410', '2979,35', '2902,89', '1959,99', '1636,04', '640', '2751,25', '574,21', '862,43', '630', '1390', '610', '2858,62', '1990', '660', '4070', '1420', '3782,39', '14990', '6689,82', '1391,47', '957,4', '1679,2', '1120', '2573,8', '3509,22', '516,18', '1365', '2580', '1770', '1144,98', '802,36', '1620', '4190', '7890', '714', '1480', '1560', '1519,64', '1529,06', '457,71', '1851,55', '879,74'}\n",
      "\n",
      "\n",
      "==========\n",
      "sample\n",
      "{'train'}\n",
      "\n",
      "\n"
     ]
    }
   ],
   "source": [
    "for i in df_train.columns: # перебираем все столбцы\n",
    "    if str(df_train[i].dtype) == 'object': # если тип столбца - object\n",
    "        print('='*10)\n",
    "        print(i) # выводим название столбца\n",
    "        print(set(df_train[i])) # выводим все его значения (но делаем set - чтоб значения не повторялись)\n",
    "        print('\\n') # выводим пустую строку"
   ]
  },
  {
   "cell_type": "markdown",
   "metadata": {},
   "source": [
    "Mожно заметить что некоторые переменные, которые обозначены как строки (например PERSONAL_INCOME) на самом деле числа, но по какой-то причине были распознаны как строки\n",
    "\n",
    "Причина же что использовалась запятая для разделения не целой части числа.."
   ]
  },
  {
   "cell_type": "markdown",
   "metadata": {},
   "source": [
    "Перекодировать их можно например так:"
   ]
  },
  {
   "cell_type": "code",
   "execution_count": 14,
   "metadata": {
    "collapsed": true
   },
   "outputs": [
    {
     "data": {
      "text/plain": [
       "0         7000.0\n",
       "1         4100.0\n",
       "2        40000.0\n",
       "3        20000.0\n",
       "4        17000.0\n",
       "5         7000.0\n",
       "6        10000.0\n",
       "7         7500.0\n",
       "8         9000.0\n",
       "9         4000.0\n",
       "10       15000.0\n",
       "11       12000.0\n",
       "12        8000.0\n",
       "13       20000.0\n",
       "14       18500.0\n",
       "15       14000.0\n",
       "16        6000.0\n",
       "17        9000.0\n",
       "18        5000.0\n",
       "19       15000.0\n",
       "20        6100.0\n",
       "21       22180.0\n",
       "22        9000.0\n",
       "23        8700.0\n",
       "24        7000.0\n",
       "25        6000.0\n",
       "26       15000.0\n",
       "27       12000.0\n",
       "28       11000.0\n",
       "29        8000.0\n",
       "          ...   \n",
       "30103    12000.0\n",
       "30104    10000.0\n",
       "30105    10000.0\n",
       "30106     8000.0\n",
       "30107    11000.0\n",
       "30108     7000.0\n",
       "30109    10000.0\n",
       "30110     8000.0\n",
       "30111    25000.0\n",
       "30112    10000.0\n",
       "30113    12000.0\n",
       "30114     7000.0\n",
       "30115    12000.0\n",
       "30116    14500.0\n",
       "30117    12000.0\n",
       "30118     8000.0\n",
       "30119     7000.0\n",
       "30120    10000.0\n",
       "30121    10000.0\n",
       "30122    10000.0\n",
       "30123    15000.0\n",
       "30124     8100.0\n",
       "30125     9500.0\n",
       "30126    13000.0\n",
       "30127    10000.0\n",
       "30128    12000.0\n",
       "30129    10000.0\n",
       "30130     6000.0\n",
       "30131     4500.0\n",
       "30132    20000.0\n",
       "Name: PERSONAL_INCOME, Length: 30133, dtype: float64"
      ]
     },
     "execution_count": 14,
     "metadata": {},
     "output_type": "execute_result"
    }
   ],
   "source": [
    "df['PERSONAL_INCOME'].map(lambda x: x.replace(',', '.')).astype('float')"
   ]
  },
  {
   "cell_type": "markdown",
   "metadata": {},
   "source": [
    "Такой эффект наблюдается в столбцах `PERSONAL_INCOME`, `CREDIT`, `FST_PAYMENT`, `LOAN_AVG_DLQ_AMT`, `LOAN_MAX_DLQ_AMT`"
   ]
  },
  {
   "cell_type": "markdown",
   "metadata": {},
   "source": [
    "### Теперь ваше небольшое исследование"
   ]
  },
  {
   "cell_type": "markdown",
   "metadata": {},
   "source": [
    "#### Задание 1. Есть ли пропуски в данных? Что с ними сделать?\n",
    "\n",
    "(единственного верного ответа нет - аргументируйте)"
   ]
  },
  {
   "cell_type": "code",
   "execution_count": 15,
   "metadata": {
    "collapsed": true
   },
   "outputs": [
    {
     "data": {
      "text/plain": [
       "GEN_INDUSTRY                   2713\n",
       "GEN_TITLE                      2713\n",
       "ORG_TP_STATE                   2713\n",
       "ORG_TP_FCAPITAL                2708\n",
       "JOB_DIR                        2713\n",
       "TP_PROVINCE                     590\n",
       "REGION_NM                         2\n",
       "WORK_TIME                      2717\n",
       "PREVIOUS_CARD_NUM_UTILIZED    29533\n",
       "dtype: int64"
      ]
     },
     "execution_count": 15,
     "metadata": {},
     "output_type": "execute_result"
    }
   ],
   "source": [
    "# посмотрим на пропуски , они есть \n",
    "df.isnull().sum()[df.isnull().sum()!=0]"
   ]
  },
  {
   "cell_type": "code",
   "execution_count": 16,
   "metadata": {},
   "outputs": [
    {
     "data": {
      "text/plain": [
       "(30133, 53)"
      ]
     },
     "execution_count": 16,
     "metadata": {},
     "output_type": "execute_result"
    }
   ],
   "source": [
    "df.shape"
   ]
  },
  {
   "cell_type": "markdown",
   "metadata": {},
   "source": [
    "они есть , соответственно из рассмотра переменных можно сделать следующие преобразования \n",
    "1. добавить новый категориальный признак\n",
    "2. наиболее часто встречающее значение в категориальных признаках или среднее для числовых\n",
    "3. удалить ,  если ,например, у нас  небольшое кол-ва таких объектов"
   ]
  },
  {
   "cell_type": "code",
   "execution_count": 17,
   "metadata": {},
   "outputs": [
    {
     "data": {
      "text/html": [
       "<div>\n",
       "<style scoped>\n",
       "    .dataframe tbody tr th:only-of-type {\n",
       "        vertical-align: middle;\n",
       "    }\n",
       "\n",
       "    .dataframe tbody tr th {\n",
       "        vertical-align: top;\n",
       "    }\n",
       "\n",
       "    .dataframe thead th {\n",
       "        text-align: right;\n",
       "    }\n",
       "</style>\n",
       "<table border=\"1\" class=\"dataframe\">\n",
       "  <thead>\n",
       "    <tr style=\"text-align: right;\">\n",
       "      <th></th>\n",
       "      <th>GEN_INDUSTRY</th>\n",
       "      <th>GEN_TITLE</th>\n",
       "      <th>ORG_TP_STATE</th>\n",
       "      <th>ORG_TP_FCAPITAL</th>\n",
       "      <th>JOB_DIR</th>\n",
       "      <th>TP_PROVINCE</th>\n",
       "      <th>REGION_NM</th>\n",
       "      <th>WORK_TIME</th>\n",
       "      <th>PREVIOUS_CARD_NUM_UTILIZED</th>\n",
       "    </tr>\n",
       "  </thead>\n",
       "  <tbody>\n",
       "    <tr>\n",
       "      <th>0</th>\n",
       "      <td>Торговля</td>\n",
       "      <td>Специалист</td>\n",
       "      <td>Частная компания</td>\n",
       "      <td>Без участия</td>\n",
       "      <td>Участие в основ. деятельности</td>\n",
       "      <td>Краснодарский край</td>\n",
       "      <td>ЮЖНЫЙ</td>\n",
       "      <td>36.0</td>\n",
       "      <td>1.0</td>\n",
       "    </tr>\n",
       "  </tbody>\n",
       "</table>\n",
       "</div>"
      ],
      "text/plain": [
       "  GEN_INDUSTRY   GEN_TITLE      ORG_TP_STATE ORG_TP_FCAPITAL  \\\n",
       "0     Торговля  Специалист  Частная компания     Без участия   \n",
       "\n",
       "                         JOB_DIR         TP_PROVINCE REGION_NM  WORK_TIME  \\\n",
       "0  Участие в основ. деятельности  Краснодарский край     ЮЖНЫЙ       36.0   \n",
       "\n",
       "   PREVIOUS_CARD_NUM_UTILIZED  \n",
       "0                         1.0  "
      ]
     },
     "execution_count": 17,
     "metadata": {},
     "output_type": "execute_result"
    }
   ],
   "source": [
    "df[['GEN_INDUSTRY' ,\n",
    "'GEN_TITLE' ,\n",
    "'ORG_TP_STATE'  ,\n",
    "'ORG_TP_FCAPITAL',\n",
    "'JOB_DIR'   ,\n",
    "'TP_PROVINCE'  ,\n",
    "'REGION_NM'     ,\n",
    "'WORK_TIME'    ,\n",
    "'PREVIOUS_CARD_NUM_UTILIZED']].mode()"
   ]
  },
  {
   "cell_type": "markdown",
   "metadata": {},
   "source": [
    "#### Задание 2. Есть ли категориальные признаки? Что с ними делать?"
   ]
  },
  {
   "cell_type": "markdown",
   "metadata": {},
   "source": [
    "1.\n",
    "Сделать dummy кодирование "
   ]
  },
  {
   "cell_type": "markdown",
   "metadata": {},
   "source": [
    "#### Задание 3. Фунция предобработки"
   ]
  },
  {
   "cell_type": "markdown",
   "metadata": {},
   "source": [
    "Напишите функцию, которая бы\n",
    "\n",
    "* Удаляло идентификатор `AGREEMENT_RK`\n",
    "* Избавлялась от проблем с '.' и ',' в стобцах PERSONAL_INCOME, CREDIT, FST_PAYMENT, LOAN_AVG_DLQ_AMT, LOAN_MAX_DLQ_AMT\n",
    "* Что-то делала с пропусками\n",
    "* Кодировала категориальные признаки\n",
    "\n",
    "В результате, ваш датафрейм должен содержать только числа и не содержать пропусков!"
   ]
  },
  {
   "cell_type": "code",
   "execution_count": 18,
   "metadata": {},
   "outputs": [
    {
     "name": "stdout",
     "output_type": "stream",
     "text": [
      "EDUCATION, MARITAL_STATUS, GEN_INDUSTRY, GEN_TITLE, ORG_TP_STATE, ORG_TP_FCAPITAL, JOB_DIR, FAMILY_INCOME, PERSONAL_INCOME, REG_ADDRESS_PROVINCE, FACT_ADDRESS_PROVINCE, POSTAL_ADDRESS_PROVINCE, TP_PROVINCE, REGION_NM, CREDIT, FST_PAYMENT, LOAN_AVG_DLQ_AMT, LOAN_MAX_DLQ_AMT, sample, "
     ]
    }
   ],
   "source": [
    "for i in df_train.columns: # перебираем все столбцы\n",
    "    if str(df_train[i].dtype) == 'object': # если тип столбца - object\n",
    "        print(i, end=\", \") # выводим название столбца"
   ]
  },
  {
   "cell_type": "code",
   "execution_count": 19,
   "metadata": {},
   "outputs": [
    {
     "name": "stdout",
     "output_type": "stream",
     "text": [
      "<class 'pandas.core.frame.DataFrame'>\n",
      "RangeIndex: 30133 entries, 0 to 30132\n",
      "Data columns (total 53 columns):\n",
      "AGREEMENT_RK                  30133 non-null int64\n",
      "TARGET                        30133 non-null int64\n",
      "AGE                           30133 non-null int64\n",
      "SOCSTATUS_WORK_FL             30133 non-null int64\n",
      "SOCSTATUS_PENS_FL             30133 non-null int64\n",
      "GENDER                        30133 non-null int64\n",
      "CHILD_TOTAL                   30133 non-null int64\n",
      "DEPENDANTS                    30133 non-null int64\n",
      "EDUCATION                     30133 non-null object\n",
      "MARITAL_STATUS                30133 non-null object\n",
      "GEN_INDUSTRY                  27420 non-null object\n",
      "GEN_TITLE                     27420 non-null object\n",
      "ORG_TP_STATE                  27420 non-null object\n",
      "ORG_TP_FCAPITAL               27425 non-null object\n",
      "JOB_DIR                       27420 non-null object\n",
      "FAMILY_INCOME                 30133 non-null object\n",
      "PERSONAL_INCOME               30133 non-null object\n",
      "REG_ADDRESS_PROVINCE          30133 non-null object\n",
      "FACT_ADDRESS_PROVINCE         30133 non-null object\n",
      "POSTAL_ADDRESS_PROVINCE       30133 non-null object\n",
      "TP_PROVINCE                   29543 non-null object\n",
      "REGION_NM                     30131 non-null object\n",
      "REG_FACT_FL                   30133 non-null int64\n",
      "FACT_POST_FL                  30133 non-null int64\n",
      "REG_POST_FL                   30133 non-null int64\n",
      "REG_FACT_POST_FL              30133 non-null int64\n",
      "REG_FACT_POST_TP_FL           30133 non-null int64\n",
      "FL_PRESENCE_FL                30133 non-null int64\n",
      "OWN_AUTO                      30133 non-null int64\n",
      "AUTO_RUS_FL                   30133 non-null int64\n",
      "HS_PRESENCE_FL                30133 non-null int64\n",
      "COT_PRESENCE_FL               30133 non-null int64\n",
      "GAR_PRESENCE_FL               30133 non-null int64\n",
      "LAND_PRESENCE_FL              30133 non-null int64\n",
      "CREDIT                        30133 non-null object\n",
      "TERM                          30133 non-null int64\n",
      "FST_PAYMENT                   30133 non-null object\n",
      "DL_DOCUMENT_FL                30133 non-null int64\n",
      "GPF_DOCUMENT_FL               30133 non-null int64\n",
      "FACT_LIVING_TERM              30133 non-null int64\n",
      "WORK_TIME                     27416 non-null float64\n",
      "FACT_PHONE_FL                 30133 non-null int64\n",
      "REG_PHONE_FL                  30133 non-null int64\n",
      "GEN_PHONE_FL                  30133 non-null int64\n",
      "LOAN_NUM_TOTAL                30133 non-null int64\n",
      "LOAN_NUM_CLOSED               30133 non-null int64\n",
      "LOAN_NUM_PAYM                 30133 non-null int64\n",
      "LOAN_DLQ_NUM                  30133 non-null int64\n",
      "LOAN_MAX_DLQ                  30133 non-null int64\n",
      "LOAN_AVG_DLQ_AMT              30133 non-null object\n",
      "LOAN_MAX_DLQ_AMT              30133 non-null object\n",
      "PREVIOUS_CARD_NUM_UTILIZED    600 non-null float64\n",
      "sample                        30133 non-null object\n",
      "dtypes: float64(2), int64(32), object(19)\n",
      "memory usage: 12.2+ MB\n"
     ]
    }
   ],
   "source": [
    "df.info()"
   ]
  },
  {
   "cell_type": "code",
   "execution_count": 22,
   "metadata": {
    "collapsed": true
   },
   "outputs": [],
   "source": [
    "def preproc_data(df_input):\n",
    "    df_output = df_input.copy()\n",
    "    del_list=['AGREEMENT_RK']\n",
    "    float_list =['PERSONAL_INCOME', 'CREDIT', 'FST_PAYMENT', 'LOAN_AVG_DLQ_AMT', 'LOAN_MAX_DLQ_AMT']\n",
    "    cat_list=['EDUCATION', 'MARITAL_STATUS', 'GEN_INDUSTRY', 'GEN_TITLE', 'ORG_TP_STATE', 'ORG_TP_FCAPITAL', 'JOB_DIR', 'FAMILY_INCOME',\n",
    "              'REG_ADDRESS_PROVINCE', 'FACT_ADDRESS_PROVINCE',\n",
    "              'POSTAL_ADDRESS_PROVINCE', 'TP_PROVINCE', 'REGION_NM']\n",
    "    ## Your Code Here\n",
    "    # drop\n",
    "    df_output.drop(columns=del_list, inplace = True)\n",
    "    # convert to float\n",
    "    for f in float_list:\n",
    "        print(f)\n",
    "        df_output[f]=df_output[f].apply(lambda x: x.replace(',', '.'))\n",
    "        df_output[f].astype('float')\n",
    "    \n",
    "    # fillna\n",
    "    # float 'WORK_TIME' ,'PREVIOUS_CARD_NUM_UTILIZED'\n",
    "    df_output.WORK_TIME[df_output.WORK_TIME.isnull()] = df_output.WORK_TIME.mean()\n",
    "    df_output.PREVIOUS_CARD_NUM_UTILIZED[df_output.PREVIOUS_CARD_NUM_UTILIZED.isnull()] = df_output.PREVIOUS_CARD_NUM_UTILIZED.mean()\n",
    "    #cat\n",
    "    max_fr = df_output[['GEN_INDUSTRY' ,'GEN_TITLE' ,'ORG_TP_STATE'  ,'ORG_TP_FCAPITAL',\n",
    "        'JOB_DIR','TP_PROVINCE'  ,'REGION_NM']].mode()\n",
    "    \n",
    "    df_output.loc[df_output.GEN_INDUSTRY.isnull() , 'GEN_INDUSTRY'] = max_fr['GEN_INDUSTRY'][0]\n",
    "    df_output.loc[df_output.GEN_TITLE.isnull() , 'GEN_TITLE'] = max_fr['GEN_TITLE'][0]\n",
    "    df_output.loc[df_output.ORG_TP_STATE.isnull() , 'ORG_TP_STATE'] = max_fr['ORG_TP_STATE'][0]\n",
    "    df_output.loc[df_output.ORG_TP_FCAPITAL.isnull() , 'ORG_TP_FCAPITAL'] = max_fr['ORG_TP_FCAPITAL'][0]\n",
    "    df_output.loc[df_output.JOB_DIR.isnull() , 'JOB_DIR'] = max_fr['JOB_DIR'][0]\n",
    "    df_output.loc[df_output.TP_PROVINCE.isnull() , 'TP_PROVINCE'] = max_fr['TP_PROVINCE'][0]\n",
    "    df_output.loc[df_output.REGION_NM.isnull() , 'REGION_NM'] = max_fr['REGION_NM'][0]\n",
    "    print(\"shape before dummy = \", df_output.shape)\n",
    "    df_output = pd.get_dummies(df_output, columns=cat_list)\n",
    "    print(\"shape after dummy = \", df_output.shape)\n",
    "    return df_output"
   ]
  },
  {
   "cell_type": "code",
   "execution_count": 23,
   "metadata": {
    "collapsed": true
   },
   "outputs": [
    {
     "name": "stdout",
     "output_type": "stream",
     "text": [
      "PERSONAL_INCOME\n",
      "CREDIT\n",
      "FST_PAYMENT\n",
      "LOAN_AVG_DLQ_AMT\n",
      "LOAN_MAX_DLQ_AMT\n"
     ]
    },
    {
     "name": "stderr",
     "output_type": "stream",
     "text": [
      "/home/igor/anaconda3/lib/python3.6/site-packages/ipykernel_launcher.py:19: SettingWithCopyWarning: \n",
      "A value is trying to be set on a copy of a slice from a DataFrame\n",
      "\n",
      "See the caveats in the documentation: http://pandas.pydata.org/pandas-docs/stable/indexing.html#indexing-view-versus-copy\n",
      "/home/igor/anaconda3/lib/python3.6/site-packages/ipykernel_launcher.py:20: SettingWithCopyWarning: \n",
      "A value is trying to be set on a copy of a slice from a DataFrame\n",
      "\n",
      "See the caveats in the documentation: http://pandas.pydata.org/pandas-docs/stable/indexing.html#indexing-view-versus-copy\n"
     ]
    },
    {
     "name": "stdout",
     "output_type": "stream",
     "text": [
      "shape before dummy =  (30133, 52)\n",
      "shape after dummy =  (30133, 444)\n"
     ]
    },
    {
     "data": {
      "text/html": [
       "<div>\n",
       "<style scoped>\n",
       "    .dataframe tbody tr th:only-of-type {\n",
       "        vertical-align: middle;\n",
       "    }\n",
       "\n",
       "    .dataframe tbody tr th {\n",
       "        vertical-align: top;\n",
       "    }\n",
       "\n",
       "    .dataframe thead th {\n",
       "        text-align: right;\n",
       "    }\n",
       "</style>\n",
       "<table border=\"1\" class=\"dataframe\">\n",
       "  <thead>\n",
       "    <tr style=\"text-align: right;\">\n",
       "      <th></th>\n",
       "      <th>TARGET</th>\n",
       "      <th>AGE</th>\n",
       "      <th>SOCSTATUS_WORK_FL</th>\n",
       "      <th>SOCSTATUS_PENS_FL</th>\n",
       "      <th>GENDER</th>\n",
       "      <th>CHILD_TOTAL</th>\n",
       "      <th>DEPENDANTS</th>\n",
       "      <th>PERSONAL_INCOME</th>\n",
       "      <th>REG_FACT_FL</th>\n",
       "      <th>FACT_POST_FL</th>\n",
       "      <th>...</th>\n",
       "      <th>REGION_NM_ДАЛЬНЕВОСТОЧНЫЙ</th>\n",
       "      <th>REGION_NM_ЗАПАДНО-СИБИРСКИЙ</th>\n",
       "      <th>REGION_NM_ПОВОЛЖСКИЙ</th>\n",
       "      <th>REGION_NM_ПРИВОЛЖСКИЙ</th>\n",
       "      <th>REGION_NM_СЕВЕРО-ЗАПАДНЫЙ</th>\n",
       "      <th>REGION_NM_УРАЛЬСКИЙ</th>\n",
       "      <th>REGION_NM_ЦЕНТРАЛЬНЫЙ 1</th>\n",
       "      <th>REGION_NM_ЦЕНТРАЛЬНЫЙ 2</th>\n",
       "      <th>REGION_NM_ЦЕНТРАЛЬНЫЙ ОФИС</th>\n",
       "      <th>REGION_NM_ЮЖНЫЙ</th>\n",
       "    </tr>\n",
       "  </thead>\n",
       "  <tbody>\n",
       "    <tr>\n",
       "      <th>0</th>\n",
       "      <td>0</td>\n",
       "      <td>30</td>\n",
       "      <td>1</td>\n",
       "      <td>0</td>\n",
       "      <td>1</td>\n",
       "      <td>1</td>\n",
       "      <td>1</td>\n",
       "      <td>7000</td>\n",
       "      <td>0</td>\n",
       "      <td>1</td>\n",
       "      <td>...</td>\n",
       "      <td>0</td>\n",
       "      <td>0</td>\n",
       "      <td>0</td>\n",
       "      <td>0</td>\n",
       "      <td>0</td>\n",
       "      <td>0</td>\n",
       "      <td>0</td>\n",
       "      <td>0</td>\n",
       "      <td>0</td>\n",
       "      <td>0</td>\n",
       "    </tr>\n",
       "    <tr>\n",
       "      <th>1</th>\n",
       "      <td>0</td>\n",
       "      <td>48</td>\n",
       "      <td>0</td>\n",
       "      <td>1</td>\n",
       "      <td>1</td>\n",
       "      <td>0</td>\n",
       "      <td>0</td>\n",
       "      <td>4100</td>\n",
       "      <td>1</td>\n",
       "      <td>1</td>\n",
       "      <td>...</td>\n",
       "      <td>0</td>\n",
       "      <td>0</td>\n",
       "      <td>0</td>\n",
       "      <td>0</td>\n",
       "      <td>0</td>\n",
       "      <td>0</td>\n",
       "      <td>1</td>\n",
       "      <td>0</td>\n",
       "      <td>0</td>\n",
       "      <td>0</td>\n",
       "    </tr>\n",
       "    <tr>\n",
       "      <th>2</th>\n",
       "      <td>0</td>\n",
       "      <td>35</td>\n",
       "      <td>1</td>\n",
       "      <td>0</td>\n",
       "      <td>0</td>\n",
       "      <td>1</td>\n",
       "      <td>0</td>\n",
       "      <td>40000</td>\n",
       "      <td>1</td>\n",
       "      <td>1</td>\n",
       "      <td>...</td>\n",
       "      <td>0</td>\n",
       "      <td>0</td>\n",
       "      <td>0</td>\n",
       "      <td>0</td>\n",
       "      <td>0</td>\n",
       "      <td>0</td>\n",
       "      <td>0</td>\n",
       "      <td>1</td>\n",
       "      <td>0</td>\n",
       "      <td>0</td>\n",
       "    </tr>\n",
       "    <tr>\n",
       "      <th>3</th>\n",
       "      <td>0</td>\n",
       "      <td>22</td>\n",
       "      <td>1</td>\n",
       "      <td>0</td>\n",
       "      <td>0</td>\n",
       "      <td>0</td>\n",
       "      <td>0</td>\n",
       "      <td>20000</td>\n",
       "      <td>1</td>\n",
       "      <td>1</td>\n",
       "      <td>...</td>\n",
       "      <td>0</td>\n",
       "      <td>0</td>\n",
       "      <td>0</td>\n",
       "      <td>0</td>\n",
       "      <td>0</td>\n",
       "      <td>0</td>\n",
       "      <td>0</td>\n",
       "      <td>0</td>\n",
       "      <td>0</td>\n",
       "      <td>0</td>\n",
       "    </tr>\n",
       "    <tr>\n",
       "      <th>4</th>\n",
       "      <td>0</td>\n",
       "      <td>27</td>\n",
       "      <td>1</td>\n",
       "      <td>0</td>\n",
       "      <td>1</td>\n",
       "      <td>2</td>\n",
       "      <td>2</td>\n",
       "      <td>17000</td>\n",
       "      <td>1</td>\n",
       "      <td>1</td>\n",
       "      <td>...</td>\n",
       "      <td>1</td>\n",
       "      <td>0</td>\n",
       "      <td>0</td>\n",
       "      <td>0</td>\n",
       "      <td>0</td>\n",
       "      <td>0</td>\n",
       "      <td>0</td>\n",
       "      <td>0</td>\n",
       "      <td>0</td>\n",
       "      <td>0</td>\n",
       "    </tr>\n",
       "  </tbody>\n",
       "</table>\n",
       "<p>5 rows × 444 columns</p>\n",
       "</div>"
      ],
      "text/plain": [
       "   TARGET  AGE  SOCSTATUS_WORK_FL  SOCSTATUS_PENS_FL  GENDER  CHILD_TOTAL  \\\n",
       "0       0   30                  1                  0       1            1   \n",
       "1       0   48                  0                  1       1            0   \n",
       "2       0   35                  1                  0       0            1   \n",
       "3       0   22                  1                  0       0            0   \n",
       "4       0   27                  1                  0       1            2   \n",
       "\n",
       "   DEPENDANTS PERSONAL_INCOME  REG_FACT_FL  FACT_POST_FL       ...         \\\n",
       "0           1            7000            0             1       ...          \n",
       "1           0            4100            1             1       ...          \n",
       "2           0           40000            1             1       ...          \n",
       "3           0           20000            1             1       ...          \n",
       "4           2           17000            1             1       ...          \n",
       "\n",
       "   REGION_NM_ДАЛЬНЕВОСТОЧНЫЙ  REGION_NM_ЗАПАДНО-СИБИРСКИЙ  \\\n",
       "0                          0                            0   \n",
       "1                          0                            0   \n",
       "2                          0                            0   \n",
       "3                          0                            0   \n",
       "4                          1                            0   \n",
       "\n",
       "   REGION_NM_ПОВОЛЖСКИЙ  REGION_NM_ПРИВОЛЖСКИЙ  REGION_NM_СЕВЕРО-ЗАПАДНЫЙ  \\\n",
       "0                     0                      0                          0   \n",
       "1                     0                      0                          0   \n",
       "2                     0                      0                          0   \n",
       "3                     0                      0                          0   \n",
       "4                     0                      0                          0   \n",
       "\n",
       "   REGION_NM_УРАЛЬСКИЙ  REGION_NM_ЦЕНТРАЛЬНЫЙ 1  REGION_NM_ЦЕНТРАЛЬНЫЙ 2  \\\n",
       "0                    0                        0                        0   \n",
       "1                    0                        1                        0   \n",
       "2                    0                        0                        1   \n",
       "3                    0                        0                        0   \n",
       "4                    0                        0                        0   \n",
       "\n",
       "   REGION_NM_ЦЕНТРАЛЬНЫЙ ОФИС  REGION_NM_ЮЖНЫЙ  \n",
       "0                           0                0  \n",
       "1                           0                0  \n",
       "2                           0                0  \n",
       "3                           0                0  \n",
       "4                           0                0  \n",
       "\n",
       "[5 rows x 444 columns]"
      ]
     },
     "execution_count": 23,
     "metadata": {},
     "output_type": "execute_result"
    }
   ],
   "source": [
    "df_preproc = df.pipe(preproc_data)\n",
    "\n",
    "df_preproc.head()"
   ]
  },
  {
   "cell_type": "code",
   "execution_count": 24,
   "metadata": {},
   "outputs": [],
   "source": [
    "df_train_preproc = df_preproc.query('sample == \"train\"').drop(['sample'], axis=1)\n",
    "df_test_preproc = df_preproc.query('sample == \"test\"').drop(['sample'], axis=1)"
   ]
  },
  {
   "cell_type": "markdown",
   "metadata": {},
   "source": [
    "#### Задание 4. Отделите целевую переменную и остальные признаки\n",
    "\n",
    "Должно получится:\n",
    "* 2 матрицы: X и X_test\n",
    "* 2 вектора: y и y_test"
   ]
  },
  {
   "cell_type": "code",
   "execution_count": 25,
   "metadata": {
    "collapsed": true
   },
   "outputs": [],
   "source": [
    "y = df_train_preproc['TARGET'].values\n",
    "y_test = df_test_preproc['TARGET'].values\n",
    "X = df_train_preproc.drop('TARGET', axis=1)\n",
    "X_test = df_test_preproc.drop('TARGET', axis=1)"
   ]
  },
  {
   "cell_type": "markdown",
   "metadata": {},
   "source": [
    "#### Задание 5. Обучение и оценка качества разных моделей"
   ]
  },
  {
   "cell_type": "code",
   "execution_count": 26,
   "metadata": {
    "collapsed": true
   },
   "outputs": [
    {
     "name": "stderr",
     "output_type": "stream",
     "text": [
      "/home/igor/anaconda3/lib/python3.6/site-packages/sklearn/cross_validation.py:41: DeprecationWarning: This module was deprecated in version 0.18 in favor of the model_selection module into which all the refactored classes and functions are moved. Also note that the interface of the new CV iterators are different from that of this module. This module will be removed in 0.20.\n",
      "  \"This module will be removed in 0.20.\", DeprecationWarning)\n"
     ]
    }
   ],
   "source": [
    "from sklearn.cross_validation import train_test_split\n",
    "# test_size=0.3, random_state=42\n",
    "X_train, X_t, y_train, y_t = train_test_split(X, y, test_size=0.3, random_state=42)\n"
   ]
  },
  {
   "cell_type": "code",
   "execution_count": 29,
   "metadata": {
    "collapsed": true
   },
   "outputs": [],
   "source": [
    "# Попробовать следующие \"черные ящики\": интерфейс одинаковый \n",
    "#     fit, \n",
    "#     predict, \n",
    "#     predict_proba\n",
    "\n",
    "from sklearn.tree import DecisionTreeClassifier\n",
    "from sklearn.ensemble import RandomForestClassifier\n",
    "from sklearn.linear_model import LogisticRegression\n",
    "\n",
    "## Your Code Here\n",
    "dtc = DecisionTreeClassifier()\n",
    "rfc = RandomForestClassifier()\n",
    "lr = LogisticRegression()\n",
    "dtc.fit(X_train, y_train)\n",
    "rfc.fit(X_train, y_train)\n",
    "lr.fit(X_train, y_train)\n",
    "\n",
    "predict_dtc = dtc.predict(X_t)\n",
    "predict_rfc = rfc.predict(X_t)\n",
    "predict_lr = lr.predict(X_t)\n",
    "\n"
   ]
  },
  {
   "cell_type": "code",
   "execution_count": 31,
   "metadata": {
    "collapsed": true
   },
   "outputs": [
    {
     "name": "stdout",
     "output_type": "stream",
     "text": [
      "DecisionTreeClassifier\n",
      "precision 0.1526032315978456\n",
      "recall 0.15315315315315314\n",
      "accuracy 0.7937376833807751\n",
      " \n",
      "RandForestClass\n",
      "precision 0.3333333333333333\n",
      "recall 0.009009009009009009\n",
      "accuracy 0.8773812130501423\n",
      " \n",
      "LogReg\n",
      "precision 0.2857142857142857\n",
      "recall 0.0036036036036036037\n",
      "accuracy 0.877819137289249\n"
     ]
    }
   ],
   "source": [
    "# Посчитать метрики стандартные\n",
    "# accuracy, precision, recall\n",
    "\n",
    "from sklearn.metrics import accuracy_score, precision_score, recall_score\n",
    "\n",
    "## Your Code Here\n",
    "print(\"DecisionTreeClassifier\")\n",
    "print('precision', precision_score(y_t, predict_dtc))\n",
    "print('recall', recall_score(y_t, predict_dtc))\n",
    "print('accuracy', accuracy_score(y_t, predict_dtc))\n",
    "print(\" \")\n",
    "print(\"RandForestClass\")\n",
    "print('precision', precision_score(y_t, predict_rfc))\n",
    "print('recall', recall_score(y_t, predict_rfc))\n",
    "print('accuracy', accuracy_score(y_t, predict_rfc))\n",
    "print(\" \")\n",
    "print(\"LogReg\")\n",
    "print('precision', precision_score(y_t, predict_lr))\n",
    "print('recall', recall_score(y_t, predict_lr))\n",
    "print('accuracy', accuracy_score(y_t, predict_lr))"
   ]
  },
  {
   "cell_type": "code",
   "execution_count": null,
   "metadata": {
    "collapsed": true
   },
   "outputs": [],
   "source": [
    "# Визуалищировать эти метрики всех моделей на одном графике (чтоб визуально посмотреть)\n",
    "\n",
    "## Your Code Here"
   ]
  },
  {
   "cell_type": "code",
   "execution_count": 35,
   "metadata": {
    "collapsed": true
   },
   "outputs": [
    {
     "data": {
      "text/plain": [
       "(-0.01, 1.01)"
      ]
     },
     "execution_count": 35,
     "metadata": {},
     "output_type": "execute_result"
    },
    {
     "data": {
      "image/png": "[encoded data removed]",
      "text/plain": [
       "<Figure size 720x720 with 1 Axes>"
      ]
     },
     "metadata": {},
     "output_type": "display_data"
    }
   ],
   "source": [
    "# Потроить roc-кривые всех можелей на одном графике\n",
    "# Вывести roc_auc каждой моделе\n",
    "%matplotlib inline\n",
    "from matplotlib import pyplot as plt\n",
    "from sklearn.metrics import roc_auc_score, roc_curve\n",
    "\n",
    "predict_d = dtc.predict_proba(X_t)\n",
    "predict_r = rfc.predict_proba(X_t)\n",
    "predict_l = lr.predict_proba(X_t)\n",
    "\n",
    "fpr_1, tpr_1, thresholds_1 = roc_curve(y_t, predict_d[:,1])\n",
    "\n",
    "fpr_2, tpr_2, thresholds_2 = roc_curve(y_t, predict_r[:,1])\n",
    "\n",
    "fpr_3, tpr_3, thresholds_3 = roc_curve(y_t, predict_l[:,1])\n",
    "plt.figure(figsize=(10, 10))\n",
    "plt.plot(fpr_1, tpr_1,  label=\"DecTree\")\n",
    "plt.plot(fpr_2, tpr_2 , label=\"RandFor\")\n",
    "plt.plot(fpr_3, tpr_3, label=\"LogReg\")\n",
    "plt.plot([0, 1], [0, 1])\n",
    "plt.ylabel('tpr')\n",
    "plt.xlabel('fpr')\n",
    "plt.grid(True)\n",
    "plt.legend()\n",
    "plt.title('ROC curve')\n",
    "plt.xlim((-0.01, 1.01))\n",
    "plt.ylim((-0.01, 1.01))"
   ]
  },
  {
   "cell_type": "code",
   "execution_count": 38,
   "metadata": {},
   "outputs": [
    {
     "name": "stdout",
     "output_type": "stream",
     "text": [
      "DecTree roc_aiuc= 0.5177530471648119\n",
      "RandFor roc_aiuc= 0.607770607097626\n",
      "LogReg roc_aiuc= 0.6388110443444441\n"
     ]
    }
   ],
   "source": [
    "print(\"DecTree roc_aiuc=\", roc_auc_score(y_t, predict_d[:,1]))\n",
    "\n",
    "print(\"RandFor roc_aiuc=\", roc_auc_score(y_t, predict_r[:,1]))\n",
    "\n",
    "print(\"LogReg roc_aiuc=\", roc_auc_score(y_t, predict_l[:,1]))\n"
   ]
  },
  {
   "cell_type": "code",
   "execution_count": 43,
   "metadata": {
    "collapsed": true
   },
   "outputs": [
    {
     "name": "stdout",
     "output_type": "stream",
     "text": [
      "[0.51996364 0.51913038 0.56899073 0.51552194 0.53038468 0.52336839\n",
      " 0.53441812 0.51911454 0.53507937 0.50955624] mean= 0.5275528040530846\n"
     ]
    }
   ],
   "source": [
    "from sklearn.model_selection import cross_val_score\n",
    "from sklearn.model_selection import StratifiedKFold\n",
    "# Сделать k-fold (10 фолдов) кросс-валидацию каждой модели\n",
    "# И посчитать средний roc_auc\n",
    "cv = StratifiedKFold(n_splits=10, shuffle=True, random_state=123)\n",
    "dtc = DecisionTreeClassifier()\n",
    "rfc = RandomForestClassifier()\n",
    "lr = LogisticRegression()\n",
    "\n",
    "cvs_dtc = cross_val_score(dtc,X, y, scoring='roc_auc', cv=cv)\n",
    "cvs_rfc = cross_val_score(rfc,X, y, scoring='roc_auc', cv=cv)\n",
    "cvs_lr = cross_val_score(lr,X, y, scoring='roc_auc', cv=cv)\n"
   ]
  },
  {
   "cell_type": "code",
   "execution_count": 44,
   "metadata": {},
   "outputs": [
    {
     "name": "stdout",
     "output_type": "stream",
     "text": [
      "[0.51996364 0.51913038 0.56899073 0.51552194 0.53038468 0.52336839\n",
      " 0.53441812 0.51911454 0.53507937 0.50955624] mean= 0.5275528040530846\n",
      "[0.61278476 0.60435668 0.55985473 0.56277166 0.60196893 0.61179502\n",
      " 0.59792107 0.58810733 0.55416507 0.589298  ] mean= 0.5883023251010722\n",
      "[0.66016361 0.64799518 0.64206641 0.63401189 0.68193111 0.61691819\n",
      " 0.60318637 0.63817305 0.59521426 0.61416606] mean= 0.6333826118416834\n"
     ]
    }
   ],
   "source": [
    "print (cvs_dtc ,\"mean=\", cvs_dtc.mean())\n",
    "\n",
    "print (cvs_rfc ,\"mean=\", cvs_rfc.mean())\n",
    "\n",
    "print (cvs_lr ,\"mean=\", cvs_lr.mean())"
   ]
  },
  {
   "cell_type": "code",
   "execution_count": 47,
   "metadata": {
    "collapsed": true
   },
   "outputs": [],
   "source": [
    "# Взять лучшую модель и сделать predict (с вероятностями (!!!)) для test выборки\n",
    "lr = LogisticRegression()\n",
    "lr.fit(X,y)\n",
    "res=lr.predict_proba(X_test)"
   ]
  },
  {
   "cell_type": "code",
   "execution_count": 48,
   "metadata": {
    "collapsed": true
   },
   "outputs": [
    {
     "data": {
      "text/plain": [
       "0.6343633087277465"
      ]
     },
     "execution_count": 48,
     "metadata": {},
     "output_type": "execute_result"
    }
   ],
   "source": [
    "# Померить roc_auc на тесте\n",
    "roc_auc_score(y_test, res[:,1])"
   ]
  },
  {
   "cell_type": "code",
   "execution_count": null,
   "metadata": {
    "collapsed": true
   },
   "outputs": [],
   "source": []
  }
 ],
 "metadata": {
  "anaconda-cloud": {},
  "kernelspec": {
   "display_name": "Python 3",
   "language": "python",
   "name": "python3"
  },
  "language_info": {
   "codemirror_mode": {
    "name": "ipython",
    "version": 3
   },
   "file_extension": ".py",
   "mimetype": "text/x-python",
   "name": "python",
   "nbconvert_exporter": "python",
   "pygments_lexer": "ipython3",
   "version": "3.6.6"
  },
  "toc": {
   "colors": {
    "hover_highlight": "#DAA520",
    "navigate_num": "#000000",
    "navigate_text": "#333333",
    "running_highlight": "#FF0000",
    "selected_highlight": "#FFD700",
    "sidebar_border": "#EEEEEE",
    "wrapper_background": "#FFFFFF"
   },
   "moveMenuLeft": true,
   "nav_menu": {
    "height": "31px",
    "width": "253px"
   },
   "navigate_menu": true,
   "number_sections": false,
   "sideBar": true,
   "threshold": 4,
   "toc_cell": false,
   "toc_section_display": "block",
   "toc_window_display": false,
   "widenNotebook": false
  }
 },
 "nbformat": 4,
 "nbformat_minor": 2
}
