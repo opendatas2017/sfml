{
 "cells": [
  {
   "cell_type": "markdown",
   "metadata": {
    "toc": "true"
   },
   "source": [
    "# 6\n"
   ]
  },
  {
   "cell_type": "code",
   "execution_count": 1,
   "metadata": {
    "collapsed": true
   },
   "outputs": [],
   "source": [
    "import pandas as pd\n",
    "import numpy as np\n",
    "import matplotlib.pyplot as plt\n",
    "import seaborn as sns\n",
    "\n",
    "%matplotlib inline\n",
    "\n",
    "plt.style.use('ggplot')\n",
    "plt.rcParams['figure.figsize'] = (12, 10)\n",
    "import re\n",
    "import pymystem3\n",
    "from bs4 import BeautifulSoup"
   ]
  },
  {
   "cell_type": "code",
   "execution_count": 2,
   "metadata": {
    "collapsed": true
   },
   "outputs": [],
   "source": [
    "import warnings\n",
    "warnings.filterwarnings('ignore')\n",
    "\n",
    "from ipywidgets import interact, IntSlider, fixed, FloatSlider"
   ]
  },
  {
   "cell_type": "code",
   "execution_count": 3,
   "metadata": {},
   "outputs": [
    {
     "data": {
      "text/html": [
       "<div>\n",
       "<style scoped>\n",
       "    .dataframe tbody tr th:only-of-type {\n",
       "        vertical-align: middle;\n",
       "    }\n",
       "\n",
       "    .dataframe tbody tr th {\n",
       "        vertical-align: top;\n",
       "    }\n",
       "\n",
       "    .dataframe thead th {\n",
       "        text-align: right;\n",
       "    }\n",
       "</style>\n",
       "<table border=\"1\" class=\"dataframe\">\n",
       "  <thead>\n",
       "    <tr style=\"text-align: right;\">\n",
       "      <th></th>\n",
       "      <th>name</th>\n",
       "      <th>description</th>\n",
       "      <th>target</th>\n",
       "    </tr>\n",
       "    <tr>\n",
       "      <th>id</th>\n",
       "      <th></th>\n",
       "      <th></th>\n",
       "      <th></th>\n",
       "    </tr>\n",
       "  </thead>\n",
       "  <tbody>\n",
       "    <tr>\n",
       "      <th>0</th>\n",
       "      <td>Заведующий отделом/секцией в магазин YORK (Уру...</td>\n",
       "      <td>&lt;p&gt;&lt;strong&gt;В НОВЫЙ МАГАЗИН YORK (хозтовары) пр...</td>\n",
       "      <td>1</td>\n",
       "    </tr>\n",
       "    <tr>\n",
       "      <th>1</th>\n",
       "      <td>Наладчик станков и манипуляторов с ПУ</td>\n",
       "      <td>Обязанности:работа на токарных станках с ЧПУ T...</td>\n",
       "      <td>0</td>\n",
       "    </tr>\n",
       "    <tr>\n",
       "      <th>2</th>\n",
       "      <td>Разработчик С++ (Криптограф)</td>\n",
       "      <td>&lt;strong&gt;Требования:&lt;/strong&gt; &lt;ul&gt; &lt;li&gt;Опыт про...</td>\n",
       "      <td>0</td>\n",
       "    </tr>\n",
       "    <tr>\n",
       "      <th>3</th>\n",
       "      <td>Фрезеровщик</td>\n",
       "      <td>&lt;p&gt;Условия:&lt;/p&gt; &lt;ul&gt; &lt;li&gt;На работу вахтовым ме...</td>\n",
       "      <td>0</td>\n",
       "    </tr>\n",
       "    <tr>\n",
       "      <th>4</th>\n",
       "      <td>Мерчендайзер/продавец-консультант</td>\n",
       "      <td>&lt;p&gt;&lt;strong&gt;Компания Палладиум Стандарт - призн...</td>\n",
       "      <td>1</td>\n",
       "    </tr>\n",
       "  </tbody>\n",
       "</table>\n",
       "</div>"
      ],
      "text/plain": [
       "                                                 name  \\\n",
       "id                                                      \n",
       "0   Заведующий отделом/секцией в магазин YORK (Уру...   \n",
       "1               Наладчик станков и манипуляторов с ПУ   \n",
       "2                        Разработчик С++ (Криптограф)   \n",
       "3                                         Фрезеровщик   \n",
       "4                   Мерчендайзер/продавец-консультант   \n",
       "\n",
       "                                          description  target  \n",
       "id                                                             \n",
       "0   <p><strong>В НОВЫЙ МАГАЗИН YORK (хозтовары) пр...       1  \n",
       "1   Обязанности:работа на токарных станках с ЧПУ T...       0  \n",
       "2   <strong>Требования:</strong> <ul> <li>Опыт про...       0  \n",
       "3   <p>Условия:</p> <ul> <li>На работу вахтовым ме...       0  \n",
       "4   <p><strong>Компания Палладиум Стандарт - призн...       1  "
      ]
     },
     "execution_count": 3,
     "metadata": {},
     "output_type": "execute_result"
    }
   ],
   "source": [
    "df_train = pd.read_csv('train.csv' ,sep ='\\t' , index_col = 0)\n",
    "df_train.head()"
   ]
  },
  {
   "cell_type": "code",
   "execution_count": 4,
   "metadata": {
    "collapsed": true
   },
   "outputs": [
    {
     "name": "stdout",
     "output_type": "stream",
     "text": [
      "<class 'pandas.core.frame.DataFrame'>\n",
      "Int64Index: 200000 entries, 0 to 199999\n",
      "Data columns (total 3 columns):\n",
      "name           200000 non-null object\n",
      "description    200000 non-null object\n",
      "target         200000 non-null int64\n",
      "dtypes: int64(1), object(2)\n",
      "memory usage: 6.1+ MB\n"
     ]
    }
   ],
   "source": [
    "df_train.info()"
   ]
  },
  {
   "cell_type": "code",
   "execution_count": 5,
   "metadata": {},
   "outputs": [],
   "source": [
    "def remove_html_tags(text):\n",
    "    \"\"\"Remove html tags from a string\"\"\"\n",
    "    clean = re.compile('<.*?>')\n",
    "    return re.sub(clean, '', text)"
   ]
  },
  {
   "cell_type": "code",
   "execution_count": 6,
   "metadata": {},
   "outputs": [
    {
     "data": {
      "text/plain": [
       "'<p><strong>В НОВЫЙ МАГАЗИН YORK (хозтовары) приглашаем на постоянную работу руководителя секции (хозтовары).</strong></p> <p><strong>Обязанности: </strong></p> <p> </p> <ul> <li>организация эффективного и культурного обслуживания покупателей</li> <li>организация приемки-сдачи товаров на склад</li> <li>консультация покупателей по вопросам, касающимся оказываемых услуг</li> <li>контроль своевременной подачи товаров в торговую секцию</li> <li>проверка качества, сроков годности ТМЦ, наличие маркировок, ценников на товарах</li> <li>организация бесперебойной работы товарной секции и участка склада, закрепленного за ней</li> <li>контроль за сохранностью товаров, торгового оборудования и прочих материальных ценностей</li> <li>инвентаризация товаров</li> </ul> <p> </p> <p><strong>Требования:</strong></p> <ul> <li>знание товарной группы</li> <li>знание правил приемки товара</li> <li>опыт работы в розничной торговле в качестве продавца 6 р. / заместителя заведующего секцией/отделом</li> <li>ответственность, лидерские качества, опыт управления коллективом</li> </ul> <ul> </ul> <p> </p> <p><strong>Условия:</strong></p> <ul> <li>НОВЫЙ современный магазин розничной торговли хозтоварами</li> <li>хороший коллектив</li> <li>достойная зарплата, премии, соц.пакет</li> <li>график работы пн-пт с 8.00 до 16.30 (плавающий)</li> </ul> <p> </p> <p><strong>Место работы: ул. Никифорова (УРУЧЬЕ)</strong></p>'"
      ]
     },
     "execution_count": 6,
     "metadata": {},
     "output_type": "execute_result"
    }
   ],
   "source": [
    "df_train.loc[0, 'description']"
   ]
  },
  {
   "cell_type": "code",
   "execution_count": 7,
   "metadata": {},
   "outputs": [
    {
     "data": {
      "text/plain": [
       "'В НОВЫЙ МАГАЗИН YORK (хозтовары) приглашаем на постоянную работу руководителя секции (хозтовары). Обязанности:     организация эффективного и культурного обслуживания покупателей организация приемки-сдачи товаров на склад консультация покупателей по вопросам, касающимся оказываемых услуг контроль своевременной подачи товаров в торговую секцию проверка качества, сроков годности ТМЦ, наличие маркировок, ценников на товарах организация бесперебойной работы товарной секции и участка склада, закрепленного за ней контроль за сохранностью товаров, торгового оборудования и прочих материальных ценностей инвентаризация товаров    Требования:  знание товарной группы знание правил приемки товара опыт работы в розничной торговле в качестве продавца 6 р. / заместителя заведующего секцией/отделом ответственность, лидерские качества, опыт управления коллективом      Условия:  НОВЫЙ современный магазин розничной торговли хозтоварами хороший коллектив достойная зарплата, премии, соц.пакет график работы пн-пт с 8.00 до 16.30 (плавающий)    Место работы: ул. Никифорова (УРУЧЬЕ)'"
      ]
     },
     "execution_count": 7,
     "metadata": {},
     "output_type": "execute_result"
    }
   ],
   "source": [
    "remove_html_tags(df_train.loc[0, 'description'])"
   ]
  },
  {
   "cell_type": "code",
   "execution_count": 21,
   "metadata": {},
   "outputs": [
    {
     "data": {
      "text/plain": [
       "str"
      ]
     },
     "execution_count": 21,
     "metadata": {},
     "output_type": "execute_result"
    }
   ],
   "source": [
    "type(remove_html_tags(df_train.loc[0, 'description']))"
   ]
  },
  {
   "cell_type": "code",
   "execution_count": 22,
   "metadata": {},
   "outputs": [
    {
     "data": {
      "text/plain": [
       "str"
      ]
     },
     "execution_count": 22,
     "metadata": {},
     "output_type": "execute_result"
    }
   ],
   "source": [
    "type(BeautifulSoup(df_train.loc[0, 'description'], 'lxml').text)"
   ]
  },
  {
   "cell_type": "code",
   "execution_count": 23,
   "metadata": {
    "collapsed": true
   },
   "outputs": [],
   "source": [
    "mystem = pymystem3.Mystem()"
   ]
  },
  {
   "cell_type": "code",
   "execution_count": 24,
   "metadata": {},
   "outputs": [],
   "source": [
    "def my_tokenizer(text):\n",
    "    lemms = mystem.lemmatize(text)\n",
    "    lemms =[s.lower() for s in lemms if (len(s)>1)] \n",
    "    #lemms =[s for s in lemms if len(s)>1] \n",
    "    lemms = [x for x in lemms if re.match('[а-яё0-9a-z]+', x)]\n",
    "    return \" \".join([x for x in lemms])"
   ]
  },
  {
   "cell_type": "code",
   "execution_count": 25,
   "metadata": {},
   "outputs": [
    {
     "data": {
      "text/plain": [
       "'новый магазин york хозтовары приглашать на постоянный работа руководитель секция хозтовары обязанность организация эффективный культурный обслуживание покупатель организация приемка сдача товар на склад консультация покупатель по вопрос касаться оказывать услуга контроль своевременный подача товар торговый секция проверка качество срок годность тмц наличие маркировка ценник на товар организация бесперебойный работа товарный секция участок склад закреплять за она контроль за сохранность товар торговый оборудование прочий материальный ценность инвентаризация товар требование знание товарный группа знание правило приемка товар опыт работа розничный торговля качество продавец заместитель заведующий секция отдел ответственность лидерский качество опыт управление коллектив условие новый современный магазин розничный торговля хозтовары хороший коллектив достойный зарплата премия соц пакет график работа пн пт 8.00 до 16.30 плавать место работа ул никифоров уручей'"
      ]
     },
     "execution_count": 25,
     "metadata": {},
     "output_type": "execute_result"
    }
   ],
   "source": [
    "my_tokenizer(BeautifulSoup(df_train.loc[0, 'description'], 'lxml').text)"
   ]
  },
  {
   "cell_type": "code",
   "execution_count": 26,
   "metadata": {},
   "outputs": [
    {
     "data": {
      "text/plain": [
       "'новый магазин york хозтовары приглашать на постоянный работа руководитель секция хозтовары обязанность организация эффективный культурный обслуживание покупатель организация приемка сдача товар на склад консультация покупатель по вопрос касаться оказывать услуга контроль своевременный подача товар торговый секция проверка качество срок годность тмц наличие маркировка ценник на товар организация бесперебойный работа товарный секция участок склад закреплять за она контроль за сохранность товар торговый оборудование прочий материальный ценность инвентаризация товар требование знание товарный группа знание правило приемка товар опыт работа розничный торговля качество продавец заместитель заведующий секция отдел ответственность лидерский качество опыт управление коллектив условие новый современный магазин розничный торговля хозтовары хороший коллектив достойный зарплата премия соц пакет график работа пн пт 8.00 до 16.30 плавать место работа ул никифоров уручей'"
      ]
     },
     "execution_count": 26,
     "metadata": {},
     "output_type": "execute_result"
    }
   ],
   "source": [
    "my_tokenizer(remove_html_tags(df_train.loc[0, 'description']))"
   ]
  },
  {
   "cell_type": "code",
   "execution_count": 27,
   "metadata": {},
   "outputs": [],
   "source": [
    "def check_eng(txt):\n",
    "    return len( re.sub(\"[^A-Za-z]\", \"\", txt.strip()) )\n",
    "\n",
    "def check_word(txt , w='strong'):\n",
    "    w='</'+w+'>'\n",
    "    return txt.count(w)"
   ]
  },
  {
   "cell_type": "code",
   "execution_count": 28,
   "metadata": {},
   "outputs": [],
   "source": [
    "df_train['w_strong'] = df_train['description'].apply(lambda row: check_word(row))\n",
    "df_train['w_ul'] = df_train['description'].apply(lambda row: check_word(txt=row,w='ul'))"
   ]
  },
  {
   "cell_type": "code",
   "execution_count": 29,
   "metadata": {},
   "outputs": [
    {
     "data": {
      "text/html": [
       "<div>\n",
       "<style scoped>\n",
       "    .dataframe tbody tr th:only-of-type {\n",
       "        vertical-align: middle;\n",
       "    }\n",
       "\n",
       "    .dataframe tbody tr th {\n",
       "        vertical-align: top;\n",
       "    }\n",
       "\n",
       "    .dataframe thead th {\n",
       "        text-align: right;\n",
       "    }\n",
       "</style>\n",
       "<table border=\"1\" class=\"dataframe\">\n",
       "  <thead>\n",
       "    <tr style=\"text-align: right;\">\n",
       "      <th></th>\n",
       "      <th>name</th>\n",
       "      <th>description</th>\n",
       "      <th>target</th>\n",
       "      <th>w_strong</th>\n",
       "      <th>w_ul</th>\n",
       "    </tr>\n",
       "    <tr>\n",
       "      <th>id</th>\n",
       "      <th></th>\n",
       "      <th></th>\n",
       "      <th></th>\n",
       "      <th></th>\n",
       "      <th></th>\n",
       "    </tr>\n",
       "  </thead>\n",
       "  <tbody>\n",
       "    <tr>\n",
       "      <th>0</th>\n",
       "      <td>Заведующий отделом/секцией в магазин YORK (Уру...</td>\n",
       "      <td>&lt;p&gt;&lt;strong&gt;В НОВЫЙ МАГАЗИН YORK (хозтовары) пр...</td>\n",
       "      <td>1</td>\n",
       "      <td>5</td>\n",
       "      <td>4</td>\n",
       "    </tr>\n",
       "    <tr>\n",
       "      <th>1</th>\n",
       "      <td>Наладчик станков и манипуляторов с ПУ</td>\n",
       "      <td>Обязанности:работа на токарных станках с ЧПУ T...</td>\n",
       "      <td>0</td>\n",
       "      <td>0</td>\n",
       "      <td>0</td>\n",
       "    </tr>\n",
       "    <tr>\n",
       "      <th>2</th>\n",
       "      <td>Разработчик С++ (Криптограф)</td>\n",
       "      <td>&lt;strong&gt;Требования:&lt;/strong&gt; &lt;ul&gt; &lt;li&gt;Опыт про...</td>\n",
       "      <td>0</td>\n",
       "      <td>2</td>\n",
       "      <td>2</td>\n",
       "    </tr>\n",
       "    <tr>\n",
       "      <th>3</th>\n",
       "      <td>Фрезеровщик</td>\n",
       "      <td>&lt;p&gt;Условия:&lt;/p&gt; &lt;ul&gt; &lt;li&gt;На работу вахтовым ме...</td>\n",
       "      <td>0</td>\n",
       "      <td>0</td>\n",
       "      <td>2</td>\n",
       "    </tr>\n",
       "    <tr>\n",
       "      <th>4</th>\n",
       "      <td>Мерчендайзер/продавец-консультант</td>\n",
       "      <td>&lt;p&gt;&lt;strong&gt;Компания Палладиум Стандарт - призн...</td>\n",
       "      <td>1</td>\n",
       "      <td>4</td>\n",
       "      <td>3</td>\n",
       "    </tr>\n",
       "  </tbody>\n",
       "</table>\n",
       "</div>"
      ],
      "text/plain": [
       "                                                 name  \\\n",
       "id                                                      \n",
       "0   Заведующий отделом/секцией в магазин YORK (Уру...   \n",
       "1               Наладчик станков и манипуляторов с ПУ   \n",
       "2                        Разработчик С++ (Криптограф)   \n",
       "3                                         Фрезеровщик   \n",
       "4                   Мерчендайзер/продавец-консультант   \n",
       "\n",
       "                                          description  target  w_strong  w_ul  \n",
       "id                                                                             \n",
       "0   <p><strong>В НОВЫЙ МАГАЗИН YORK (хозтовары) пр...       1         5     4  \n",
       "1   Обязанности:работа на токарных станках с ЧПУ T...       0         0     0  \n",
       "2   <strong>Требования:</strong> <ul> <li>Опыт про...       0         2     2  \n",
       "3   <p>Условия:</p> <ul> <li>На работу вахтовым ме...       0         0     2  \n",
       "4   <p><strong>Компания Палладиум Стандарт - призн...       1         4     3  "
      ]
     },
     "execution_count": 29,
     "metadata": {},
     "output_type": "execute_result"
    }
   ],
   "source": [
    "df_train.head()"
   ]
  },
  {
   "cell_type": "code",
   "execution_count": 30,
   "metadata": {},
   "outputs": [],
   "source": [
    "def text_prep(txt):\n",
    "    return my_tokenizer(BeautifulSoup(txt, 'lxml').text)\n",
    "\n",
    "def text_prep_2(txt):\n",
    "    return my_tokenizer(remove_html_tags(txt))\n",
    "\n",
    "def text_prep_withoutlem(txt):\n",
    "    return BeautifulSoup(txt, 'lxml').text"
   ]
  },
  {
   "cell_type": "code",
   "execution_count": 31,
   "metadata": {},
   "outputs": [],
   "source": [
    "df_train['name'] = df_train['name'].apply(lambda row: text_prep_2(row))"
   ]
  },
  {
   "cell_type": "code",
   "execution_count": 32,
   "metadata": {},
   "outputs": [
    {
     "data": {
      "text/html": [
       "<div>\n",
       "<style scoped>\n",
       "    .dataframe tbody tr th:only-of-type {\n",
       "        vertical-align: middle;\n",
       "    }\n",
       "\n",
       "    .dataframe tbody tr th {\n",
       "        vertical-align: top;\n",
       "    }\n",
       "\n",
       "    .dataframe thead th {\n",
       "        text-align: right;\n",
       "    }\n",
       "</style>\n",
       "<table border=\"1\" class=\"dataframe\">\n",
       "  <thead>\n",
       "    <tr style=\"text-align: right;\">\n",
       "      <th></th>\n",
       "      <th>name</th>\n",
       "      <th>description</th>\n",
       "      <th>target</th>\n",
       "      <th>w_strong</th>\n",
       "      <th>w_ul</th>\n",
       "    </tr>\n",
       "    <tr>\n",
       "      <th>id</th>\n",
       "      <th></th>\n",
       "      <th></th>\n",
       "      <th></th>\n",
       "      <th></th>\n",
       "      <th></th>\n",
       "    </tr>\n",
       "  </thead>\n",
       "  <tbody>\n",
       "    <tr>\n",
       "      <th>0</th>\n",
       "      <td>заведующий отдел секция магазин york уручье</td>\n",
       "      <td>&lt;p&gt;&lt;strong&gt;В НОВЫЙ МАГАЗИН YORK (хозтовары) пр...</td>\n",
       "      <td>1</td>\n",
       "      <td>5</td>\n",
       "      <td>4</td>\n",
       "    </tr>\n",
       "    <tr>\n",
       "      <th>1</th>\n",
       "      <td>наладчик станок манипулятор пу</td>\n",
       "      <td>Обязанности:работа на токарных станках с ЧПУ T...</td>\n",
       "      <td>0</td>\n",
       "      <td>0</td>\n",
       "      <td>0</td>\n",
       "    </tr>\n",
       "    <tr>\n",
       "      <th>2</th>\n",
       "      <td>разработчик с++ криптограф</td>\n",
       "      <td>&lt;strong&gt;Требования:&lt;/strong&gt; &lt;ul&gt; &lt;li&gt;Опыт про...</td>\n",
       "      <td>0</td>\n",
       "      <td>2</td>\n",
       "      <td>2</td>\n",
       "    </tr>\n",
       "    <tr>\n",
       "      <th>3</th>\n",
       "      <td>фрезеровщик</td>\n",
       "      <td>&lt;p&gt;Условия:&lt;/p&gt; &lt;ul&gt; &lt;li&gt;На работу вахтовым ме...</td>\n",
       "      <td>0</td>\n",
       "      <td>0</td>\n",
       "      <td>2</td>\n",
       "    </tr>\n",
       "    <tr>\n",
       "      <th>4</th>\n",
       "      <td>мерчендайзер продавец консультант</td>\n",
       "      <td>&lt;p&gt;&lt;strong&gt;Компания Палладиум Стандарт - призн...</td>\n",
       "      <td>1</td>\n",
       "      <td>4</td>\n",
       "      <td>3</td>\n",
       "    </tr>\n",
       "  </tbody>\n",
       "</table>\n",
       "</div>"
      ],
      "text/plain": [
       "                                           name  \\\n",
       "id                                                \n",
       "0   заведующий отдел секция магазин york уручье   \n",
       "1                наладчик станок манипулятор пу   \n",
       "2                    разработчик с++ криптограф   \n",
       "3                                   фрезеровщик   \n",
       "4             мерчендайзер продавец консультант   \n",
       "\n",
       "                                          description  target  w_strong  w_ul  \n",
       "id                                                                             \n",
       "0   <p><strong>В НОВЫЙ МАГАЗИН YORK (хозтовары) пр...       1         5     4  \n",
       "1   Обязанности:работа на токарных станках с ЧПУ T...       0         0     0  \n",
       "2   <strong>Требования:</strong> <ul> <li>Опыт про...       0         2     2  \n",
       "3   <p>Условия:</p> <ul> <li>На работу вахтовым ме...       0         0     2  \n",
       "4   <p><strong>Компания Палладиум Стандарт - призн...       1         4     3  "
      ]
     },
     "execution_count": 32,
     "metadata": {},
     "output_type": "execute_result"
    }
   ],
   "source": [
    "df_train.head()"
   ]
  },
  {
   "cell_type": "code",
   "execution_count": 33,
   "metadata": {},
   "outputs": [],
   "source": [
    "df_train['description'] = df_train['description'].apply(lambda row: text_prep_2(row))"
   ]
  },
  {
   "cell_type": "code",
   "execution_count": 34,
   "metadata": {},
   "outputs": [],
   "source": [
    "df_train['en'] = df_train['description'].apply(lambda row: check_eng(row))"
   ]
  },
  {
   "cell_type": "code",
   "execution_count": 35,
   "metadata": {},
   "outputs": [],
   "source": [
    "def get_word_count(txt):\n",
    "    return len(txt.split())\n",
    "\n",
    "def get_mean(txt):\n",
    "    lst= txt.split()\n",
    "    average = sum(len(word) for word in lst) / len(lst)\n",
    "    return average"
   ]
  },
  {
   "cell_type": "code",
   "execution_count": 36,
   "metadata": {},
   "outputs": [],
   "source": [
    "df_train['wc'] = df_train['description'].apply(lambda row: get_word_count(row))\n",
    "df_train['mean'] = df_train['description'].apply(lambda row: get_mean(row))"
   ]
  },
  {
   "cell_type": "code",
   "execution_count": 37,
   "metadata": {},
   "outputs": [
    {
     "data": {
      "text/html": [
       "<div>\n",
       "<style scoped>\n",
       "    .dataframe tbody tr th:only-of-type {\n",
       "        vertical-align: middle;\n",
       "    }\n",
       "\n",
       "    .dataframe tbody tr th {\n",
       "        vertical-align: top;\n",
       "    }\n",
       "\n",
       "    .dataframe thead th {\n",
       "        text-align: right;\n",
       "    }\n",
       "</style>\n",
       "<table border=\"1\" class=\"dataframe\">\n",
       "  <thead>\n",
       "    <tr style=\"text-align: right;\">\n",
       "      <th></th>\n",
       "      <th>name</th>\n",
       "      <th>description</th>\n",
       "      <th>target</th>\n",
       "      <th>w_strong</th>\n",
       "      <th>w_ul</th>\n",
       "      <th>en</th>\n",
       "      <th>wc</th>\n",
       "      <th>mean</th>\n",
       "    </tr>\n",
       "    <tr>\n",
       "      <th>id</th>\n",
       "      <th></th>\n",
       "      <th></th>\n",
       "      <th></th>\n",
       "      <th></th>\n",
       "      <th></th>\n",
       "      <th></th>\n",
       "      <th></th>\n",
       "      <th></th>\n",
       "    </tr>\n",
       "  </thead>\n",
       "  <tbody>\n",
       "    <tr>\n",
       "      <th>0</th>\n",
       "      <td>заведующий отдел секция магазин york уручье</td>\n",
       "      <td>новый магазин york хозтовары приглашать на пос...</td>\n",
       "      <td>1</td>\n",
       "      <td>5</td>\n",
       "      <td>4</td>\n",
       "      <td>4</td>\n",
       "      <td>118</td>\n",
       "      <td>7.220339</td>\n",
       "    </tr>\n",
       "    <tr>\n",
       "      <th>1</th>\n",
       "      <td>наладчик станок манипулятор пу</td>\n",
       "      <td>обязанность работа на токарный станок чпу taki...</td>\n",
       "      <td>0</td>\n",
       "      <td>0</td>\n",
       "      <td>0</td>\n",
       "      <td>36</td>\n",
       "      <td>71</td>\n",
       "      <td>5.816901</td>\n",
       "    </tr>\n",
       "    <tr>\n",
       "      <th>2</th>\n",
       "      <td>разработчик с++ криптограф</td>\n",
       "      <td>требование опыт программирование на с++ знание...</td>\n",
       "      <td>0</td>\n",
       "      <td>2</td>\n",
       "      <td>2</td>\n",
       "      <td>27</td>\n",
       "      <td>95</td>\n",
       "      <td>7.568421</td>\n",
       "    </tr>\n",
       "    <tr>\n",
       "      <th>3</th>\n",
       "      <td>фрезеровщик</td>\n",
       "      <td>условие на работа вахтовый метод калуга требов...</td>\n",
       "      <td>0</td>\n",
       "      <td>0</td>\n",
       "      <td>2</td>\n",
       "      <td>0</td>\n",
       "      <td>56</td>\n",
       "      <td>6.107143</td>\n",
       "    </tr>\n",
       "    <tr>\n",
       "      <th>4</th>\n",
       "      <td>мерчендайзер продавец консультант</td>\n",
       "      <td>компания палладиум стандарт признавать лидер п...</td>\n",
       "      <td>1</td>\n",
       "      <td>4</td>\n",
       "      <td>3</td>\n",
       "      <td>3</td>\n",
       "      <td>137</td>\n",
       "      <td>6.627737</td>\n",
       "    </tr>\n",
       "  </tbody>\n",
       "</table>\n",
       "</div>"
      ],
      "text/plain": [
       "                                           name  \\\n",
       "id                                                \n",
       "0   заведующий отдел секция магазин york уручье   \n",
       "1                наладчик станок манипулятор пу   \n",
       "2                    разработчик с++ криптограф   \n",
       "3                                   фрезеровщик   \n",
       "4             мерчендайзер продавец консультант   \n",
       "\n",
       "                                          description  target  w_strong  w_ul  \\\n",
       "id                                                                              \n",
       "0   новый магазин york хозтовары приглашать на пос...       1         5     4   \n",
       "1   обязанность работа на токарный станок чпу taki...       0         0     0   \n",
       "2   требование опыт программирование на с++ знание...       0         2     2   \n",
       "3   условие на работа вахтовый метод калуга требов...       0         0     2   \n",
       "4   компания палладиум стандарт признавать лидер п...       1         4     3   \n",
       "\n",
       "    en   wc      mean  \n",
       "id                     \n",
       "0    4  118  7.220339  \n",
       "1   36   71  5.816901  \n",
       "2   27   95  7.568421  \n",
       "3    0   56  6.107143  \n",
       "4    3  137  6.627737  "
      ]
     },
     "execution_count": 37,
     "metadata": {},
     "output_type": "execute_result"
    }
   ],
   "source": [
    "df_train.head()"
   ]
  },
  {
   "cell_type": "code",
   "execution_count": 43,
   "metadata": {},
   "outputs": [],
   "source": [
    "df_train['en'] = (df_train['en'] > 0).astype(int)"
   ]
  },
  {
   "cell_type": "code",
   "execution_count": 44,
   "metadata": {},
   "outputs": [
    {
     "data": {
      "text/html": [
       "<div>\n",
       "<style scoped>\n",
       "    .dataframe tbody tr th:only-of-type {\n",
       "        vertical-align: middle;\n",
       "    }\n",
       "\n",
       "    .dataframe tbody tr th {\n",
       "        vertical-align: top;\n",
       "    }\n",
       "\n",
       "    .dataframe thead th {\n",
       "        text-align: right;\n",
       "    }\n",
       "</style>\n",
       "<table border=\"1\" class=\"dataframe\">\n",
       "  <thead>\n",
       "    <tr style=\"text-align: right;\">\n",
       "      <th></th>\n",
       "      <th>name</th>\n",
       "      <th>description</th>\n",
       "      <th>target</th>\n",
       "      <th>w_strong</th>\n",
       "      <th>w_ul</th>\n",
       "      <th>en</th>\n",
       "      <th>wc</th>\n",
       "      <th>mean</th>\n",
       "    </tr>\n",
       "    <tr>\n",
       "      <th>id</th>\n",
       "      <th></th>\n",
       "      <th></th>\n",
       "      <th></th>\n",
       "      <th></th>\n",
       "      <th></th>\n",
       "      <th></th>\n",
       "      <th></th>\n",
       "      <th></th>\n",
       "    </tr>\n",
       "  </thead>\n",
       "  <tbody>\n",
       "    <tr>\n",
       "      <th>0</th>\n",
       "      <td>заведующий отдел секция магазин york уручье</td>\n",
       "      <td>новый магазин york хозтовары приглашать на пос...</td>\n",
       "      <td>1</td>\n",
       "      <td>5</td>\n",
       "      <td>4</td>\n",
       "      <td>1</td>\n",
       "      <td>118</td>\n",
       "      <td>7.220339</td>\n",
       "    </tr>\n",
       "    <tr>\n",
       "      <th>1</th>\n",
       "      <td>наладчик станок манипулятор пу</td>\n",
       "      <td>обязанность работа на токарный станок чпу taki...</td>\n",
       "      <td>0</td>\n",
       "      <td>0</td>\n",
       "      <td>0</td>\n",
       "      <td>1</td>\n",
       "      <td>71</td>\n",
       "      <td>5.816901</td>\n",
       "    </tr>\n",
       "    <tr>\n",
       "      <th>2</th>\n",
       "      <td>разработчик с++ криптограф</td>\n",
       "      <td>требование опыт программирование на с++ знание...</td>\n",
       "      <td>0</td>\n",
       "      <td>2</td>\n",
       "      <td>2</td>\n",
       "      <td>1</td>\n",
       "      <td>95</td>\n",
       "      <td>7.568421</td>\n",
       "    </tr>\n",
       "    <tr>\n",
       "      <th>3</th>\n",
       "      <td>фрезеровщик</td>\n",
       "      <td>условие на работа вахтовый метод калуга требов...</td>\n",
       "      <td>0</td>\n",
       "      <td>0</td>\n",
       "      <td>2</td>\n",
       "      <td>0</td>\n",
       "      <td>56</td>\n",
       "      <td>6.107143</td>\n",
       "    </tr>\n",
       "    <tr>\n",
       "      <th>4</th>\n",
       "      <td>мерчендайзер продавец консультант</td>\n",
       "      <td>компания палладиум стандарт признавать лидер п...</td>\n",
       "      <td>1</td>\n",
       "      <td>4</td>\n",
       "      <td>3</td>\n",
       "      <td>1</td>\n",
       "      <td>137</td>\n",
       "      <td>6.627737</td>\n",
       "    </tr>\n",
       "  </tbody>\n",
       "</table>\n",
       "</div>"
      ],
      "text/plain": [
       "                                           name  \\\n",
       "id                                                \n",
       "0   заведующий отдел секция магазин york уручье   \n",
       "1                наладчик станок манипулятор пу   \n",
       "2                    разработчик с++ криптограф   \n",
       "3                                   фрезеровщик   \n",
       "4             мерчендайзер продавец консультант   \n",
       "\n",
       "                                          description  target  w_strong  w_ul  \\\n",
       "id                                                                              \n",
       "0   новый магазин york хозтовары приглашать на пос...       1         5     4   \n",
       "1   обязанность работа на токарный станок чпу taki...       0         0     0   \n",
       "2   требование опыт программирование на с++ знание...       0         2     2   \n",
       "3   условие на работа вахтовый метод калуга требов...       0         0     2   \n",
       "4   компания палладиум стандарт признавать лидер п...       1         4     3   \n",
       "\n",
       "    en   wc      mean  \n",
       "id                     \n",
       "0    1  118  7.220339  \n",
       "1    1   71  5.816901  \n",
       "2    1   95  7.568421  \n",
       "3    0   56  6.107143  \n",
       "4    1  137  6.627737  "
      ]
     },
     "execution_count": 44,
     "metadata": {},
     "output_type": "execute_result"
    }
   ],
   "source": [
    "df_train.head()"
   ]
  },
  {
   "cell_type": "code",
   "execution_count": 38,
   "metadata": {},
   "outputs": [
    {
     "data": {
      "text/html": [
       "<div>\n",
       "<style scoped>\n",
       "    .dataframe tbody tr th:only-of-type {\n",
       "        vertical-align: middle;\n",
       "    }\n",
       "\n",
       "    .dataframe tbody tr th {\n",
       "        vertical-align: top;\n",
       "    }\n",
       "\n",
       "    .dataframe thead th {\n",
       "        text-align: right;\n",
       "    }\n",
       "</style>\n",
       "<table border=\"1\" class=\"dataframe\">\n",
       "  <thead>\n",
       "    <tr style=\"text-align: right;\">\n",
       "      <th></th>\n",
       "      <th>name</th>\n",
       "      <th>description</th>\n",
       "    </tr>\n",
       "    <tr>\n",
       "      <th>id</th>\n",
       "      <th></th>\n",
       "      <th></th>\n",
       "    </tr>\n",
       "  </thead>\n",
       "  <tbody>\n",
       "    <tr>\n",
       "      <th>200000</th>\n",
       "      <td>Дизайнер-консультант мебели</td>\n",
       "      <td>&lt;p&gt;&lt;strong&gt;Обязанности:&lt;/strong&gt;&lt;/p&gt; &lt;ul&gt; &lt;li&gt;...</td>\n",
       "    </tr>\n",
       "    <tr>\n",
       "      <th>200001</th>\n",
       "      <td>Продавец-консультант (ТЦ на Пушкина)</td>\n",
       "      <td>&lt;p&gt;&lt;strong&gt;Обязанности&lt;/strong&gt;:&lt;/p&gt; &lt;p&gt;∙ конс...</td>\n",
       "    </tr>\n",
       "    <tr>\n",
       "      <th>200002</th>\n",
       "      <td>Менеджер по продажам</td>\n",
       "      <td>&lt;p&gt;Торговый Дом «Форт» это ведущая компания Пе...</td>\n",
       "    </tr>\n",
       "    <tr>\n",
       "      <th>200003</th>\n",
       "      <td>Продавец-консультант в магазин одежды (ТЦ Волн...</td>\n",
       "      <td>&lt;p&gt;&lt;strong&gt;Требуются продавцы консультанты в м...</td>\n",
       "    </tr>\n",
       "    <tr>\n",
       "      <th>200004</th>\n",
       "      <td>Специалист по охране труда</td>\n",
       "      <td>&lt;strong&gt;Обязанности:&lt;/strong&gt; &lt;ul&gt; &lt;li&gt; &lt;p&gt;осу...</td>\n",
       "    </tr>\n",
       "  </tbody>\n",
       "</table>\n",
       "</div>"
      ],
      "text/plain": [
       "                                                     name  \\\n",
       "id                                                          \n",
       "200000                        Дизайнер-консультант мебели   \n",
       "200001               Продавец-консультант (ТЦ на Пушкина)   \n",
       "200002                               Менеджер по продажам   \n",
       "200003  Продавец-консультант в магазин одежды (ТЦ Волн...   \n",
       "200004                         Специалист по охране труда   \n",
       "\n",
       "                                              description  \n",
       "id                                                         \n",
       "200000  <p><strong>Обязанности:</strong></p> <ul> <li>...  \n",
       "200001  <p><strong>Обязанности</strong>:</p> <p>∙ конс...  \n",
       "200002  <p>Торговый Дом «Форт» это ведущая компания Пе...  \n",
       "200003  <p><strong>Требуются продавцы консультанты в м...  \n",
       "200004  <strong>Обязанности:</strong> <ul> <li> <p>осу...  "
      ]
     },
     "execution_count": 38,
     "metadata": {},
     "output_type": "execute_result"
    }
   ],
   "source": [
    "df_test = pd.read_csv('test.csv' ,sep ='\\t' , index_col = 0)\n",
    "df_test.head()"
   ]
  },
  {
   "cell_type": "code",
   "execution_count": 39,
   "metadata": {},
   "outputs": [],
   "source": [
    "df_test['w_strong'] = df_test['description'].apply(lambda row: check_word(row))\n",
    "df_test['w_ul'] = df_test['description'].apply(lambda row: check_word(txt=row,w='ul'))"
   ]
  },
  {
   "cell_type": "code",
   "execution_count": 40,
   "metadata": {},
   "outputs": [],
   "source": [
    "df_test['name'] = df_test['name'].apply(lambda row: text_prep_2(row))\n",
    "df_test['description'] = df_test['description'].apply(lambda row: text_prep_2(row))"
   ]
  },
  {
   "cell_type": "code",
   "execution_count": 41,
   "metadata": {},
   "outputs": [],
   "source": [
    "df_test['wc'] = df_test['description'].apply(lambda row: get_word_count(row))\n",
    "df_test['mean'] = df_test['description'].apply(lambda row: get_mean(row))"
   ]
  },
  {
   "cell_type": "code",
   "execution_count": 42,
   "metadata": {},
   "outputs": [],
   "source": [
    "df_test['en'] = df_test['description'].apply(lambda row: check_eng(row))\n",
    "df_test['en'] = (df_test['en'] > 0).astype(int)"
   ]
  },
  {
   "cell_type": "code",
   "execution_count": 45,
   "metadata": {},
   "outputs": [],
   "source": [
    "df_train['mean'] = np.log1p(df_train['mean'])\n",
    "df_train['wc'] = np.log1p(df_train['wc'])\n",
    "df_train['w_strong'] = np.log1p(df_train['w_strong'])\n",
    "df_train['w_ul'] = np.log1p(df_train['w_ul'])\n",
    "\n",
    "\n",
    "df_test['mean'] = np.log1p(df_test['mean'])\n",
    "df_test['wc'] = np.log1p(df_test['wc'])\n",
    "df_test['w_strong'] = np.log1p(df_test['w_strong'])\n",
    "df_test['w_ul'] = np.log1p(df_test['w_ul'])"
   ]
  },
  {
   "cell_type": "code",
   "execution_count": 46,
   "metadata": {},
   "outputs": [
    {
     "data": {
      "text/html": [
       "<div>\n",
       "<style scoped>\n",
       "    .dataframe tbody tr th:only-of-type {\n",
       "        vertical-align: middle;\n",
       "    }\n",
       "\n",
       "    .dataframe tbody tr th {\n",
       "        vertical-align: top;\n",
       "    }\n",
       "\n",
       "    .dataframe thead th {\n",
       "        text-align: right;\n",
       "    }\n",
       "</style>\n",
       "<table border=\"1\" class=\"dataframe\">\n",
       "  <thead>\n",
       "    <tr style=\"text-align: right;\">\n",
       "      <th></th>\n",
       "      <th>name</th>\n",
       "      <th>description</th>\n",
       "      <th>target</th>\n",
       "      <th>w_strong</th>\n",
       "      <th>w_ul</th>\n",
       "      <th>en</th>\n",
       "      <th>wc</th>\n",
       "      <th>mean</th>\n",
       "    </tr>\n",
       "    <tr>\n",
       "      <th>id</th>\n",
       "      <th></th>\n",
       "      <th></th>\n",
       "      <th></th>\n",
       "      <th></th>\n",
       "      <th></th>\n",
       "      <th></th>\n",
       "      <th></th>\n",
       "      <th></th>\n",
       "    </tr>\n",
       "  </thead>\n",
       "  <tbody>\n",
       "    <tr>\n",
       "      <th>0</th>\n",
       "      <td>заведующий отдел секция магазин york уручье</td>\n",
       "      <td>новый магазин york хозтовары приглашать на пос...</td>\n",
       "      <td>1</td>\n",
       "      <td>1.791759</td>\n",
       "      <td>1.609438</td>\n",
       "      <td>1</td>\n",
       "      <td>4.779123</td>\n",
       "      <td>2.106611</td>\n",
       "    </tr>\n",
       "    <tr>\n",
       "      <th>1</th>\n",
       "      <td>наладчик станок манипулятор пу</td>\n",
       "      <td>обязанность работа на токарный станок чпу taki...</td>\n",
       "      <td>0</td>\n",
       "      <td>0.000000</td>\n",
       "      <td>0.000000</td>\n",
       "      <td>1</td>\n",
       "      <td>4.276666</td>\n",
       "      <td>1.919405</td>\n",
       "    </tr>\n",
       "    <tr>\n",
       "      <th>2</th>\n",
       "      <td>разработчик с++ криптограф</td>\n",
       "      <td>требование опыт программирование на с++ знание...</td>\n",
       "      <td>0</td>\n",
       "      <td>1.098612</td>\n",
       "      <td>1.098612</td>\n",
       "      <td>1</td>\n",
       "      <td>4.564348</td>\n",
       "      <td>2.148083</td>\n",
       "    </tr>\n",
       "    <tr>\n",
       "      <th>3</th>\n",
       "      <td>фрезеровщик</td>\n",
       "      <td>условие на работа вахтовый метод калуга требов...</td>\n",
       "      <td>0</td>\n",
       "      <td>0.000000</td>\n",
       "      <td>1.098612</td>\n",
       "      <td>0</td>\n",
       "      <td>4.043051</td>\n",
       "      <td>1.961100</td>\n",
       "    </tr>\n",
       "    <tr>\n",
       "      <th>4</th>\n",
       "      <td>мерчендайзер продавец консультант</td>\n",
       "      <td>компания палладиум стандарт признавать лидер п...</td>\n",
       "      <td>1</td>\n",
       "      <td>1.609438</td>\n",
       "      <td>1.386294</td>\n",
       "      <td>1</td>\n",
       "      <td>4.927254</td>\n",
       "      <td>2.031791</td>\n",
       "    </tr>\n",
       "  </tbody>\n",
       "</table>\n",
       "</div>"
      ],
      "text/plain": [
       "                                           name  \\\n",
       "id                                                \n",
       "0   заведующий отдел секция магазин york уручье   \n",
       "1                наладчик станок манипулятор пу   \n",
       "2                    разработчик с++ криптограф   \n",
       "3                                   фрезеровщик   \n",
       "4             мерчендайзер продавец консультант   \n",
       "\n",
       "                                          description  target  w_strong  \\\n",
       "id                                                                        \n",
       "0   новый магазин york хозтовары приглашать на пос...       1  1.791759   \n",
       "1   обязанность работа на токарный станок чпу taki...       0  0.000000   \n",
       "2   требование опыт программирование на с++ знание...       0  1.098612   \n",
       "3   условие на работа вахтовый метод калуга требов...       0  0.000000   \n",
       "4   компания палладиум стандарт признавать лидер п...       1  1.609438   \n",
       "\n",
       "        w_ul  en        wc      mean  \n",
       "id                                    \n",
       "0   1.609438   1  4.779123  2.106611  \n",
       "1   0.000000   1  4.276666  1.919405  \n",
       "2   1.098612   1  4.564348  2.148083  \n",
       "3   1.098612   0  4.043051  1.961100  \n",
       "4   1.386294   1  4.927254  2.031791  "
      ]
     },
     "execution_count": 46,
     "metadata": {},
     "output_type": "execute_result"
    }
   ],
   "source": [
    "df_train.head()"
   ]
  },
  {
   "cell_type": "code",
   "execution_count": 47,
   "metadata": {},
   "outputs": [
    {
     "data": {
      "text/html": [
       "<div>\n",
       "<style scoped>\n",
       "    .dataframe tbody tr th:only-of-type {\n",
       "        vertical-align: middle;\n",
       "    }\n",
       "\n",
       "    .dataframe tbody tr th {\n",
       "        vertical-align: top;\n",
       "    }\n",
       "\n",
       "    .dataframe thead th {\n",
       "        text-align: right;\n",
       "    }\n",
       "</style>\n",
       "<table border=\"1\" class=\"dataframe\">\n",
       "  <thead>\n",
       "    <tr style=\"text-align: right;\">\n",
       "      <th></th>\n",
       "      <th>name</th>\n",
       "      <th>description</th>\n",
       "      <th>w_strong</th>\n",
       "      <th>w_ul</th>\n",
       "      <th>wc</th>\n",
       "      <th>mean</th>\n",
       "      <th>en</th>\n",
       "    </tr>\n",
       "    <tr>\n",
       "      <th>id</th>\n",
       "      <th></th>\n",
       "      <th></th>\n",
       "      <th></th>\n",
       "      <th></th>\n",
       "      <th></th>\n",
       "      <th></th>\n",
       "      <th></th>\n",
       "    </tr>\n",
       "  </thead>\n",
       "  <tbody>\n",
       "    <tr>\n",
       "      <th>200000</th>\n",
       "      <td>дизайнер консультант мебель</td>\n",
       "      <td>обязанность работа клиент салон выезд на замир...</td>\n",
       "      <td>1.386294</td>\n",
       "      <td>1.386294</td>\n",
       "      <td>3.688879</td>\n",
       "      <td>2.085831</td>\n",
       "      <td>0</td>\n",
       "    </tr>\n",
       "    <tr>\n",
       "      <th>200001</th>\n",
       "      <td>продавец консультант тц на пушкин</td>\n",
       "      <td>обязанность консультирование покупатель по пре...</td>\n",
       "      <td>1.609438</td>\n",
       "      <td>0.000000</td>\n",
       "      <td>4.356709</td>\n",
       "      <td>2.202980</td>\n",
       "      <td>0</td>\n",
       "    </tr>\n",
       "    <tr>\n",
       "      <th>200002</th>\n",
       "      <td>менеджер по продажа</td>\n",
       "      <td>торговый дом форт это ведущий компания петербу...</td>\n",
       "      <td>1.609438</td>\n",
       "      <td>1.386294</td>\n",
       "      <td>5.337538</td>\n",
       "      <td>2.099173</td>\n",
       "      <td>0</td>\n",
       "    </tr>\n",
       "    <tr>\n",
       "      <th>200003</th>\n",
       "      <td>продавец консультант магазин одежда тц волна н...</td>\n",
       "      <td>требоваться продавец консультант магазин женск...</td>\n",
       "      <td>1.609438</td>\n",
       "      <td>1.386294</td>\n",
       "      <td>4.948760</td>\n",
       "      <td>2.142584</td>\n",
       "      <td>1</td>\n",
       "    </tr>\n",
       "    <tr>\n",
       "      <th>200004</th>\n",
       "      <td>специалист по охрана труд</td>\n",
       "      <td>обязанность осуществление контроль по соблюден...</td>\n",
       "      <td>1.386294</td>\n",
       "      <td>1.386294</td>\n",
       "      <td>5.049856</td>\n",
       "      <td>2.154758</td>\n",
       "      <td>0</td>\n",
       "    </tr>\n",
       "  </tbody>\n",
       "</table>\n",
       "</div>"
      ],
      "text/plain": [
       "                                                     name  \\\n",
       "id                                                          \n",
       "200000                        дизайнер консультант мебель   \n",
       "200001                  продавец консультант тц на пушкин   \n",
       "200002                                менеджер по продажа   \n",
       "200003  продавец консультант магазин одежда тц волна н...   \n",
       "200004                          специалист по охрана труд   \n",
       "\n",
       "                                              description  w_strong      w_ul  \\\n",
       "id                                                                              \n",
       "200000  обязанность работа клиент салон выезд на замир...  1.386294  1.386294   \n",
       "200001  обязанность консультирование покупатель по пре...  1.609438  0.000000   \n",
       "200002  торговый дом форт это ведущий компания петербу...  1.609438  1.386294   \n",
       "200003  требоваться продавец консультант магазин женск...  1.609438  1.386294   \n",
       "200004  обязанность осуществление контроль по соблюден...  1.386294  1.386294   \n",
       "\n",
       "              wc      mean  en  \n",
       "id                              \n",
       "200000  3.688879  2.085831   0  \n",
       "200001  4.356709  2.202980   0  \n",
       "200002  5.337538  2.099173   0  \n",
       "200003  4.948760  2.142584   1  \n",
       "200004  5.049856  2.154758   0  "
      ]
     },
     "execution_count": 47,
     "metadata": {},
     "output_type": "execute_result"
    }
   ],
   "source": [
    "df_test.head()"
   ]
  },
  {
   "cell_type": "code",
   "execution_count": null,
   "metadata": {},
   "outputs": [],
   "source": []
  },
  {
   "cell_type": "code",
   "execution_count": 48,
   "metadata": {},
   "outputs": [],
   "source": [
    "df_train.to_hdf('df_train_2.h5', key='df')\n",
    "df_test.to_hdf('df_test_2.h5', key='df')"
   ]
  },
  {
   "cell_type": "code",
   "execution_count": null,
   "metadata": {},
   "outputs": [],
   "source": []
  },
  {
   "cell_type": "code",
   "execution_count": 49,
   "metadata": {},
   "outputs": [],
   "source": [
    "df_train=pd.read_hdf('df_train_2.h5','df')\n"
   ]
  },
  {
   "cell_type": "code",
   "execution_count": 50,
   "metadata": {},
   "outputs": [
    {
     "data": {
      "text/html": [
       "<div>\n",
       "<style scoped>\n",
       "    .dataframe tbody tr th:only-of-type {\n",
       "        vertical-align: middle;\n",
       "    }\n",
       "\n",
       "    .dataframe tbody tr th {\n",
       "        vertical-align: top;\n",
       "    }\n",
       "\n",
       "    .dataframe thead th {\n",
       "        text-align: right;\n",
       "    }\n",
       "</style>\n",
       "<table border=\"1\" class=\"dataframe\">\n",
       "  <thead>\n",
       "    <tr style=\"text-align: right;\">\n",
       "      <th></th>\n",
       "      <th>name</th>\n",
       "      <th>description</th>\n",
       "      <th>target</th>\n",
       "      <th>w_strong</th>\n",
       "      <th>w_ul</th>\n",
       "      <th>en</th>\n",
       "      <th>wc</th>\n",
       "      <th>mean</th>\n",
       "    </tr>\n",
       "    <tr>\n",
       "      <th>id</th>\n",
       "      <th></th>\n",
       "      <th></th>\n",
       "      <th></th>\n",
       "      <th></th>\n",
       "      <th></th>\n",
       "      <th></th>\n",
       "      <th></th>\n",
       "      <th></th>\n",
       "    </tr>\n",
       "  </thead>\n",
       "  <tbody>\n",
       "    <tr>\n",
       "      <th>0</th>\n",
       "      <td>заведующий отдел секция магазин york уручье</td>\n",
       "      <td>новый магазин york хозтовары приглашать на пос...</td>\n",
       "      <td>1</td>\n",
       "      <td>1.791759</td>\n",
       "      <td>1.609438</td>\n",
       "      <td>1</td>\n",
       "      <td>4.779123</td>\n",
       "      <td>2.106611</td>\n",
       "    </tr>\n",
       "    <tr>\n",
       "      <th>1</th>\n",
       "      <td>наладчик станок манипулятор пу</td>\n",
       "      <td>обязанность работа на токарный станок чпу taki...</td>\n",
       "      <td>0</td>\n",
       "      <td>0.000000</td>\n",
       "      <td>0.000000</td>\n",
       "      <td>1</td>\n",
       "      <td>4.276666</td>\n",
       "      <td>1.919405</td>\n",
       "    </tr>\n",
       "    <tr>\n",
       "      <th>2</th>\n",
       "      <td>разработчик с++ криптограф</td>\n",
       "      <td>требование опыт программирование на с++ знание...</td>\n",
       "      <td>0</td>\n",
       "      <td>1.098612</td>\n",
       "      <td>1.098612</td>\n",
       "      <td>1</td>\n",
       "      <td>4.564348</td>\n",
       "      <td>2.148083</td>\n",
       "    </tr>\n",
       "    <tr>\n",
       "      <th>3</th>\n",
       "      <td>фрезеровщик</td>\n",
       "      <td>условие на работа вахтовый метод калуга требов...</td>\n",
       "      <td>0</td>\n",
       "      <td>0.000000</td>\n",
       "      <td>1.098612</td>\n",
       "      <td>0</td>\n",
       "      <td>4.043051</td>\n",
       "      <td>1.961100</td>\n",
       "    </tr>\n",
       "    <tr>\n",
       "      <th>4</th>\n",
       "      <td>мерчендайзер продавец консультант</td>\n",
       "      <td>компания палладиум стандарт признавать лидер п...</td>\n",
       "      <td>1</td>\n",
       "      <td>1.609438</td>\n",
       "      <td>1.386294</td>\n",
       "      <td>1</td>\n",
       "      <td>4.927254</td>\n",
       "      <td>2.031791</td>\n",
       "    </tr>\n",
       "  </tbody>\n",
       "</table>\n",
       "</div>"
      ],
      "text/plain": [
       "                                           name  \\\n",
       "id                                                \n",
       "0   заведующий отдел секция магазин york уручье   \n",
       "1                наладчик станок манипулятор пу   \n",
       "2                    разработчик с++ криптограф   \n",
       "3                                   фрезеровщик   \n",
       "4             мерчендайзер продавец консультант   \n",
       "\n",
       "                                          description  target  w_strong  \\\n",
       "id                                                                        \n",
       "0   новый магазин york хозтовары приглашать на пос...       1  1.791759   \n",
       "1   обязанность работа на токарный станок чпу taki...       0  0.000000   \n",
       "2   требование опыт программирование на с++ знание...       0  1.098612   \n",
       "3   условие на работа вахтовый метод калуга требов...       0  0.000000   \n",
       "4   компания палладиум стандарт признавать лидер п...       1  1.609438   \n",
       "\n",
       "        w_ul  en        wc      mean  \n",
       "id                                    \n",
       "0   1.609438   1  4.779123  2.106611  \n",
       "1   0.000000   1  4.276666  1.919405  \n",
       "2   1.098612   1  4.564348  2.148083  \n",
       "3   1.098612   0  4.043051  1.961100  \n",
       "4   1.386294   1  4.927254  2.031791  "
      ]
     },
     "execution_count": 50,
     "metadata": {},
     "output_type": "execute_result"
    }
   ],
   "source": [
    "df_train.head()"
   ]
  },
  {
   "cell_type": "code",
   "execution_count": null,
   "metadata": {},
   "outputs": [],
   "source": []
  },
  {
   "cell_type": "code",
   "execution_count": 51,
   "metadata": {},
   "outputs": [
    {
     "data": {
      "text/plain": [
       "<seaborn.axisgrid.FacetGrid at 0x7ff3196a6f28>"
      ]
     },
     "execution_count": 51,
     "metadata": {},
     "output_type": "execute_result"
    },
    {
     "data": {
      "image/png": "[encoded data removed]",
      "text/plain": [
       "<Figure size 477x432 with 1 Axes>"
      ]
     },
     "metadata": {},
     "output_type": "display_data"
    }
   ],
   "source": [
    "sns.FacetGrid(df_train, hue=\"target\", size=6) \\\n",
    "   .map(sns.kdeplot, \"mean\") \\\n",
    "   .add_legend()"
   ]
  },
  {
   "cell_type": "code",
   "execution_count": 52,
   "metadata": {},
   "outputs": [
    {
     "data": {
      "text/plain": [
       "<matplotlib.axes._subplots.AxesSubplot at 0x7ff318d51860>"
      ]
     },
     "execution_count": 52,
     "metadata": {},
     "output_type": "execute_result"
    },
    {
     "data": {
      "image/png": "[encoded data removed]",
      "text/plain": [
       "<Figure size 432x288 with 1 Axes>"
      ]
     },
     "metadata": {},
     "output_type": "display_data"
    }
   ],
   "source": [
    "import seaborn as sns\n",
    "\n",
    "sns.boxplot(x=\"target\", y=\"mean\", data=df_train)\n",
    "\n"
   ]
  },
  {
   "cell_type": "code",
   "execution_count": 53,
   "metadata": {},
   "outputs": [
    {
     "data": {
      "text/plain": [
       "<matplotlib.axes._subplots.AxesSubplot at 0x7ff319569ac8>"
      ]
     },
     "execution_count": 53,
     "metadata": {},
     "output_type": "execute_result"
    },
    {
     "data": {
      "image/png": "[encoded data removed]",
      "text/plain": [
       "<Figure size 432x288 with 1 Axes>"
      ]
     },
     "metadata": {},
     "output_type": "display_data"
    }
   ],
   "source": [
    "sns.boxplot(x=\"target\", y=\"wc\", data=df_train)"
   ]
  },
  {
   "cell_type": "code",
   "execution_count": 54,
   "metadata": {},
   "outputs": [
    {
     "data": {
      "text/plain": [
       "<matplotlib.axes._subplots.AxesSubplot at 0x7ff3194d90f0>"
      ]
     },
     "execution_count": 54,
     "metadata": {},
     "output_type": "execute_result"
    },
    {
     "data": {
      "image/png": "[encoded data removed]",
      "text/plain": [
       "<Figure size 432x288 with 1 Axes>"
      ]
     },
     "metadata": {},
     "output_type": "display_data"
    }
   ],
   "source": [
    "sns.boxplot(x=\"target\", y=\"w_strong\", data=df_train)"
   ]
  },
  {
   "cell_type": "code",
   "execution_count": 55,
   "metadata": {},
   "outputs": [
    {
     "data": {
      "text/plain": [
       "<matplotlib.axes._subplots.AxesSubplot at 0x7ff31943f8d0>"
      ]
     },
     "execution_count": 55,
     "metadata": {},
     "output_type": "execute_result"
    },
    {
     "data": {
      "image/png": "[encoded data removed]",
      "text/plain": [
       "<Figure size 432x288 with 1 Axes>"
      ]
     },
     "metadata": {},
     "output_type": "display_data"
    }
   ],
   "source": [
    "sns.boxplot(x=\"target\", y=\"w_ul\", data=df_train)"
   ]
  },
  {
   "cell_type": "code",
   "execution_count": 57,
   "metadata": {},
   "outputs": [
    {
     "data": {
      "text/plain": [
       "<seaborn.axisgrid.FacetGrid at 0x7ff31939acf8>"
      ]
     },
     "execution_count": 57,
     "metadata": {},
     "output_type": "execute_result"
    },
    {
     "data": {
      "image/png": "[encoded data removed]",
      "text/plain": [
       "<Figure size 477x432 with 1 Axes>"
      ]
     },
     "metadata": {},
     "output_type": "display_data"
    }
   ],
   "source": [
    "sns.FacetGrid(df_train, hue=\"target\", size=6) \\\n",
    "   .map(sns.kdeplot, \"en\") \\\n",
    "   .add_legend()"
   ]
  },
  {
   "cell_type": "code",
   "execution_count": null,
   "metadata": {},
   "outputs": [],
   "source": []
  },
  {
   "cell_type": "code",
   "execution_count": 58,
   "metadata": {},
   "outputs": [],
   "source": [
    "from sklearn.base import BaseEstimator, TransformerMixin\n",
    "from sklearn.pipeline import make_union\n",
    "from sklearn.pipeline import FeatureUnion\n",
    "from sklearn.pipeline import make_pipeline\n",
    "from sklearn.preprocessing import MinMaxScaler ,StandardScaler\n",
    "from sklearn.preprocessing import PolynomialFeatures\n",
    "from sklearn.decomposition import TruncatedSVD\n",
    "from sklearn.preprocessing import OneHotEncoder\n",
    "from sklearn import preprocessing\n",
    "from sklearn.feature_extraction.text import CountVectorizer\n",
    "from sklearn.feature_extraction.text import TfidfVectorizer\n",
    "class DataFrameColumnExtracter(TransformerMixin ,BaseEstimator):\n",
    "\n",
    "    def __init__(self, column):\n",
    "        self.column = column\n",
    "\n",
    "    def fit(self, X, y=None):\n",
    "        return self\n",
    "\n",
    "    def transform(self, X, y=None):\n",
    "        return X[self.column]\n",
    "\n",
    "\n",
    "class DataFrameColumnExtracter_asm(TransformerMixin ,BaseEstimator):\n",
    "\n",
    "    def __init__(self, column):\n",
    "        self.column = column\n",
    "\n",
    "    def fit(self, X, y=None):\n",
    "        return self\n",
    "\n",
    "    def transform(self, X, y=None):\n",
    "        return X[self.column].as_matrix().ravel()\n",
    "    \n",
    "class DenseTransformer(BaseEstimator,TransformerMixin):\n",
    "\n",
    "    def transform(self, X, y=None, **fit_params):\n",
    "        #return X.todense()\n",
    "        return X.toarray()\n",
    "\n",
    "    def fit_transform(self, X, y=None, **fit_params):\n",
    "        self.fit(X, y, **fit_params)\n",
    "        return self.transform(X)\n",
    "\n",
    "    def fit(self, X, y=None, **fit_params):\n",
    "        return self\n",
    "\n"
   ]
  },
  {
   "cell_type": "code",
   "execution_count": 59,
   "metadata": {},
   "outputs": [
    {
     "data": {
      "text/plain": [
       "Index(['name', 'description', 'target', 'w_strong', 'w_ul', 'en', 'wc',\n",
       "       'mean'],\n",
       "      dtype='object')"
      ]
     },
     "execution_count": 59,
     "metadata": {},
     "output_type": "execute_result"
    }
   ],
   "source": [
    "df_train.columns"
   ]
  },
  {
   "cell_type": "code",
   "execution_count": 60,
   "metadata": {},
   "outputs": [],
   "source": [
    "col_cat =['en']\n",
    "col_num_forscale = ['wc', 'mean' , 'w_strong','w_ul']\n",
    "col_num_without =[]\n",
    "col_text_vect = ['name']\n",
    "col_text_vect_tfidf=['description']"
   ]
  },
  {
   "cell_type": "code",
   "execution_count": null,
   "metadata": {},
   "outputs": [],
   "source": []
  },
  {
   "cell_type": "code",
   "execution_count": 111,
   "metadata": {},
   "outputs": [],
   "source": [
    "pipe_par1 = make_pipeline(\n",
    "       DataFrameColumnExtracter(col_cat)    \n",
    ")\n",
    "\n",
    "pipe_par2 = make_pipeline(\n",
    "       DataFrameColumnExtracter(col_num_forscale),\n",
    "       StandardScaler()\n",
    ")\n",
    "pipe_par3 = make_pipeline(\n",
    "       DataFrameColumnExtracter(col_num_without)\n",
    ")\n",
    "\n",
    "\n",
    "pipe_par4 = make_pipeline(\n",
    "       DataFrameColumnExtracter_asm(col_text_vect),\n",
    "       CountVectorizer(max_features = 300 , max_df=0.95 , ngram_range =(1,2)),\n",
    "       DenseTransformer()\n",
    ")\n",
    "\n",
    "pipe_par5 = make_pipeline(\n",
    "       DataFrameColumnExtracter_asm(col_text_vect_tfidf),\n",
    "       TfidfVectorizer( max_features = 4000, max_df=0.95, min_df =0.05,  ngram_range =(1,3), stop_words=['и',\n",
    "'в',\n",
    "'во',\n",
    "'не',\n",
    "'что',\n",
    "'он',\n",
    "'на',\n",
    "'я',\n",
    "'с',\n",
    "'со',\n",
    "'как',\n",
    "'а',\n",
    "'то',\n",
    "'все',\n",
    "'она',\n",
    "'так',\n",
    "'его',\n",
    "'но',\n",
    "'да',\n",
    "'ты',\n",
    "'к',\n",
    "'у',\n",
    "'же',\n",
    "'вы',\n",
    "'за',\n",
    "'бы',\n",
    "'по',\n",
    "'только',\n",
    "'ее',\n",
    "'мне',\n",
    "'было ',\n",
    "'вот',\n",
    "'от',\n",
    "'меня',\n",
    "'еще',\n",
    "'нет',\n",
    "'о',\n",
    "'из',\n",
    "'ему',\n",
    "'теперь',\n",
    "'когда',\n",
    "'даже ',\n",
    "'ну',\n",
    "'вдруг',\n",
    "'ли',\n",
    "'если ',\n",
    "'уже',\n",
    "'или',\n",
    "'ни',\n",
    "'быть ',\n",
    "'был',\n",
    "'него ',\n",
    "'до',\n",
    "'вас',\n",
    "'нибудь ',\n",
    "'опять',\n",
    "'уж',\n",
    "'вам',\n",
    "'сказал ',\n",
    "'ведь ',\n",
    "'там',\n",
    "'потом',\n",
    "'себя ',\n",
    "'ничего',\n",
    "'ей',\n",
    "'может',\n",
    "'они',\n",
    "'тут',\n",
    "'где',\n",
    "'есть ',\n",
    "'надо ',\n",
    "'ней',\n",
    "'для',\n",
    "'мы',\n",
    "'тебя ',\n",
    "'их',\n",
    "'чем',\n",
    "'была',\n",
    "'сам',\n",
    "'чтоб ',\n",
    "'без',\n",
    "'будто',\n",
    "'чего ',\n",
    "'раз',\n",
    "'тоже ',\n",
    "'себе ',\n",
    "'под',\n",
    "'жизнь',\n",
    "'будет',\n",
    "'ж',\n",
    "'тогда',\n",
    "'кто',\n",
    "'этот ',\n",
    "'говорил',\n",
    "'того ',\n",
    "'потому ',\n",
    "'этого',\n",
    "'какой',\n",
    "'совсем',\n",
    "'ним',\n",
    "'здесь',\n",
    "'этом ',\n",
    "'один ',\n",
    "'почти',\n",
    "'мой',\n",
    "'тем',\n",
    "'чтобы',\n",
    "'нее',\n",
    "'кажется',\n",
    "'сейчас ',\n",
    "'были ',\n",
    "'куда ',\n",
    "'зачем',\n",
    "'сказать',\n",
    "'всех ',\n",
    "'никогда',\n",
    "'сегодня',\n",
    "'можно',\n",
    "'при',\n",
    "'наконец',\n",
    "'два',\n",
    "'об',\n",
    "'другой ',\n",
    "'хоть ',\n",
    "'после',\n",
    "'над',\n",
    "'больше ',\n",
    "'тот',\n",
    "'через',\n",
    "'эти',\n",
    "'нас',\n",
    "'про',\n",
    "'всего',\n",
    "'них',\n",
    "'какая',\n",
    "'много',\n",
    "'разве',\n",
    "'сказала',\n",
    "'три',\n",
    "'эту',\n",
    "'моя']),\n",
    "       DenseTransformer()\n",
    ")\n",
    "\n",
    "\n",
    "feature_union = make_union(pipe_par1,pipe_par2,pipe_par3,pipe_par4, pipe_par5)\n"
   ]
  },
  {
   "cell_type": "code",
   "execution_count": 112,
   "metadata": {},
   "outputs": [],
   "source": [
    "from sklearn.decomposition import PCA"
   ]
  },
  {
   "cell_type": "code",
   "execution_count": 38,
   "metadata": {},
   "outputs": [
    {
     "name": "stdout",
     "output_type": "stream",
     "text": [
      "(200000, 3752)\n"
     ]
    }
   ],
   "source": [
    "#t=feature_union.fit_transform(df_train)\n",
    "#print(t.shape)\n"
   ]
  },
  {
   "cell_type": "code",
   "execution_count": null,
   "metadata": {},
   "outputs": [],
   "source": [
    "#print(PCA(n_components=0.98).fit_transform(t).shape)"
   ]
  },
  {
   "cell_type": "code",
   "execution_count": 113,
   "metadata": {},
   "outputs": [],
   "source": [
    "from sklearn.ensemble import RandomForestClassifier\n",
    "from sklearn.metrics import roc_auc_score\n",
    "from catboost import CatBoostRegressor\n",
    "import xgboost as xgb\n",
    "from sklearn.cross_validation import train_test_split\n",
    "\n",
    "from sklearn.cross_validation import *\n",
    "from sklearn.grid_search import GridSearchCV\n",
    "from sklearn.decomposition import PCA"
   ]
  },
  {
   "cell_type": "code",
   "execution_count": 114,
   "metadata": {},
   "outputs": [
    {
     "data": {
      "text/plain": [
       "Pipeline(memory=None,\n",
       "     steps=[('f', FeatureUnion(n_jobs=1,\n",
       "       transformer_list=[('pipeline-1', Pipeline(memory=None,\n",
       "     steps=[('dataframecolumnextracter', DataFrameColumnExtracter(column=['en']))])), ('pipeline-2', Pipeline(memory=None,\n",
       "     steps=[('dataframecolumnextracter', DataFrameColumnExtracter(column=['wc',...\n",
       "       reg_alpha=0, reg_lambda=1, scale_pos_weight=1, seed=None,\n",
       "       silent=True, subsample=1))])"
      ]
     },
     "execution_count": 114,
     "metadata": {},
     "output_type": "execute_result"
    }
   ],
   "source": [
    "from sklearn.pipeline import Pipeline\n",
    "xgb_model = xgb.XGBClassifier()\n",
    "\n",
    "pipe= Pipeline([('f', feature_union), ('p' , PCA(n_components=0.98)) , ('x', xgb_model)])\n",
    "pipe\n"
   ]
  },
  {
   "cell_type": "code",
   "execution_count": 116,
   "metadata": {},
   "outputs": [],
   "source": [
    "parameters = {\n",
    "              'x__max_depth': [8],\n",
    "              'x__n_estimators': [500] ,\n",
    "               'x__min_child_weight':[1] ,\n",
    "               'x__subsample' :[0.8],\n",
    "               'x__reg_alpha':[1e-5]}"
   ]
  },
  {
   "cell_type": "code",
   "execution_count": null,
   "metadata": {},
   "outputs": [],
   "source": [
    "clf = GridSearchCV(pipe, parameters,  \n",
    "                   cv=3, \n",
    "                   scoring='roc_auc', n_jobs=4)\n"
   ]
  },
  {
   "cell_type": "code",
   "execution_count": null,
   "metadata": {},
   "outputs": [],
   "source": []
  },
  {
   "cell_type": "code",
   "execution_count": null,
   "metadata": {},
   "outputs": [],
   "source": [
    "clf.fit(df_train.drop(columns=['target']), df_train['target'])\n",
    "\n",
    "#trust your CV!\n",
    "print(clf.best_score_ , clf.best_params_)\n"
   ]
  },
  {
   "cell_type": "code",
   "execution_count": 123,
   "metadata": {},
   "outputs": [
    {
     "name": "stdout",
     "output_type": "stream",
     "text": [
      "0.9924141945168103 {'x__max_depth': 8, 'x__min_child_weight': 1, 'x__n_estimators': 500, 'x__reg_alpha': 1e-05, 'x__subsample': 0.8}\n"
     ]
    }
   ],
   "source": [
    "\n",
    "#trust your CV!\n",
    "print(clf.best_score_ , clf.best_params_)\n"
   ]
  },
  {
   "cell_type": "code",
   "execution_count": null,
   "metadata": {},
   "outputs": [],
   "source": [
    "df_test=pd.read_hdf('df_test_2.h5','df')\n",
    "test_probs = clf.predict_proba(df_test)[:,1]\n"
   ]
  },
  {
   "cell_type": "code",
   "execution_count": null,
   "metadata": {},
   "outputs": [],
   "source": [
    "sample = pd.read_csv('./sampleSubmission.csv')\n",
    "sample.target = test_probs\n"
   ]
  },
  {
   "cell_type": "code",
   "execution_count": null,
   "metadata": {},
   "outputs": [],
   "source": [
    "sample.to_csv(\"xxx_best_parameter_submission_20.csv\", index = False)"
   ]
  },
  {
   "cell_type": "markdown",
   "metadata": {},
   "source": [
    "train 0.990831197216482 {'x__max_depth': 6, 'x__n_estimators': 200}   test on lb: 0.99109\n",
    "\n",
    "train 0.9914401896868643 {'x__max_depth': 7, 'x__n_estimators': 250} test on lb: 0.99183\n",
    "\n",
    "0.992044197708173 {'x__max_depth': 8, 'x__n_estimators': 300}      test on lb: 0.99255\n",
    "\n",
    "0.9920852444313597 {'x__max_depth': 8, 'x__min_child_weight': 1, 'x__n_estimators': 300, 'x__subsample': 0.8}   : lb 0.99259\n",
    "\n",
    "0.9924141945168103 {'x__max_depth': 8, 'x__min_child_weight': 1, 'x__n_estimators': 500, 'x__reg_alpha': 1e-05, 'x__subsample': 0.8}"
   ]
  },
  {
   "cell_type": "code",
   "execution_count": null,
   "metadata": {},
   "outputs": [],
   "source": []
  },
  {
   "cell_type": "markdown",
   "metadata": {},
   "source": []
  }
 ],
 "metadata": {
  "anaconda-cloud": {},
  "kernelspec": {
   "display_name": "Python 3",
   "language": "python",
   "name": "python3"
  },
  "language_info": {
   "codemirror_mode": {
    "name": "ipython",
    "version": 3
   },
   "file_extension": ".py",
   "mimetype": "text/x-python",
   "name": "python",
   "nbconvert_exporter": "python",
   "pygments_lexer": "ipython3",
   "version": "3.6.6"
  },
  "nav_menu": {},
  "toc": {
   "colors": {
    "hover_highlight": "#DAA520",
    "navigate_num": "#000000",
    "navigate_text": "#333333",
    "running_highlight": "#FF0000",
    "selected_highlight": "#FFD700",
    "sidebar_border": "#EEEEEE",
    "wrapper_background": "#FFFFFF"
   },
   "moveMenuLeft": true,
   "nav_menu": {
    "height": "347px",
    "width": "253px"
   },
   "navigate_menu": true,
   "number_sections": false,
   "sideBar": false,
   "threshold": 4,
   "toc_cell": true,
   "toc_position": {
    "height": "40px",
    "left": "952px",
    "right": "9.46667px",
    "top": "100px",
    "width": "182px"
   },
   "toc_section_display": "none",
   "toc_window_display": true,
   "widenNotebook": false
  },
  "toc_position": {
   "height": "40px",
   "left": "816px",
   "right": "38.6667px",
   "top": "0px",
   "width": "212px"
  }
 },
 "nbformat": 4,
 "nbformat_minor": 2
}
